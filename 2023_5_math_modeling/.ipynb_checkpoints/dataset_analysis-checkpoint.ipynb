{
 "cells": [
  {
   "cell_type": "markdown",
   "metadata": {},
   "source": [
    "### 首先，我们读取数据集并可视化了8 个不同虚拟区域的100天的输入水流量和输出水流量之差的数据。"
   ]
  },
  {
   "cell_type": "code",
   "execution_count": 2,
   "metadata": {},
   "outputs": [
    {
     "ename": "FileNotFoundError",
     "evalue": "[Errno 2] No such file or directory: '数据文件.xls'",
     "output_type": "error",
     "traceback": [
      "\u001B[1;31m---------------------------------------------------------------------------\u001B[0m",
      "\u001B[1;31mFileNotFoundError\u001B[0m                         Traceback (most recent call last)",
      "Cell \u001B[1;32mIn[2], line 6\u001B[0m\n\u001B[0;32m      3\u001B[0m \u001B[38;5;28;01mfrom\u001B[39;00m \u001B[38;5;21;01mplotly\u001B[39;00m\u001B[38;5;21;01m.\u001B[39;00m\u001B[38;5;21;01msubplots\u001B[39;00m \u001B[38;5;28;01mimport\u001B[39;00m make_subplots\n\u001B[0;32m      5\u001B[0m \u001B[38;5;66;03m# 读取数据1\u001B[39;00m\n\u001B[1;32m----> 6\u001B[0m df \u001B[38;5;241m=\u001B[39m \u001B[43mpd\u001B[49m\u001B[38;5;241;43m.\u001B[39;49m\u001B[43mread_excel\u001B[49m\u001B[43m(\u001B[49m\u001B[38;5;124;43m'\u001B[39;49m\u001B[38;5;124;43m数据文件.xls\u001B[39;49m\u001B[38;5;124;43m'\u001B[39;49m\u001B[43m)\u001B[49m\n\u001B[0;32m      8\u001B[0m \u001B[38;5;66;03m# 定义一组颜色\u001B[39;00m\n\u001B[0;32m      9\u001B[0m colors \u001B[38;5;241m=\u001B[39m [\u001B[38;5;124m'\u001B[39m\u001B[38;5;124mblue\u001B[39m\u001B[38;5;124m'\u001B[39m, \u001B[38;5;124m'\u001B[39m\u001B[38;5;124morange\u001B[39m\u001B[38;5;124m'\u001B[39m, \u001B[38;5;124m'\u001B[39m\u001B[38;5;124mgreen\u001B[39m\u001B[38;5;124m'\u001B[39m, \u001B[38;5;124m'\u001B[39m\u001B[38;5;124mred\u001B[39m\u001B[38;5;124m'\u001B[39m, \u001B[38;5;124m'\u001B[39m\u001B[38;5;124mpurple\u001B[39m\u001B[38;5;124m'\u001B[39m, \u001B[38;5;124m'\u001B[39m\u001B[38;5;124mbrown\u001B[39m\u001B[38;5;124m'\u001B[39m, \u001B[38;5;124m'\u001B[39m\u001B[38;5;124mpink\u001B[39m\u001B[38;5;124m'\u001B[39m, \u001B[38;5;124m'\u001B[39m\u001B[38;5;124mgray\u001B[39m\u001B[38;5;124m'\u001B[39m]\n",
      "File \u001B[1;32mF:\\anaconda3\\envs\\py38\\lib\\site-packages\\pandas\\util\\_decorators.py:211\u001B[0m, in \u001B[0;36mdeprecate_kwarg.<locals>._deprecate_kwarg.<locals>.wrapper\u001B[1;34m(*args, **kwargs)\u001B[0m\n\u001B[0;32m    209\u001B[0m     \u001B[38;5;28;01melse\u001B[39;00m:\n\u001B[0;32m    210\u001B[0m         kwargs[new_arg_name] \u001B[38;5;241m=\u001B[39m new_arg_value\n\u001B[1;32m--> 211\u001B[0m \u001B[38;5;28;01mreturn\u001B[39;00m \u001B[43mfunc\u001B[49m\u001B[43m(\u001B[49m\u001B[38;5;241;43m*\u001B[39;49m\u001B[43margs\u001B[49m\u001B[43m,\u001B[49m\u001B[43m \u001B[49m\u001B[38;5;241;43m*\u001B[39;49m\u001B[38;5;241;43m*\u001B[39;49m\u001B[43mkwargs\u001B[49m\u001B[43m)\u001B[49m\n",
      "File \u001B[1;32mF:\\anaconda3\\envs\\py38\\lib\\site-packages\\pandas\\util\\_decorators.py:317\u001B[0m, in \u001B[0;36mdeprecate_nonkeyword_arguments.<locals>.decorate.<locals>.wrapper\u001B[1;34m(*args, **kwargs)\u001B[0m\n\u001B[0;32m    311\u001B[0m \u001B[38;5;28;01mif\u001B[39;00m \u001B[38;5;28mlen\u001B[39m(args) \u001B[38;5;241m>\u001B[39m num_allow_args:\n\u001B[0;32m    312\u001B[0m     warnings\u001B[38;5;241m.\u001B[39mwarn(\n\u001B[0;32m    313\u001B[0m         msg\u001B[38;5;241m.\u001B[39mformat(arguments\u001B[38;5;241m=\u001B[39marguments),\n\u001B[0;32m    314\u001B[0m         \u001B[38;5;167;01mFutureWarning\u001B[39;00m,\n\u001B[0;32m    315\u001B[0m         stacklevel\u001B[38;5;241m=\u001B[39mfind_stack_level(inspect\u001B[38;5;241m.\u001B[39mcurrentframe()),\n\u001B[0;32m    316\u001B[0m     )\n\u001B[1;32m--> 317\u001B[0m \u001B[38;5;28;01mreturn\u001B[39;00m \u001B[43mfunc\u001B[49m\u001B[43m(\u001B[49m\u001B[38;5;241;43m*\u001B[39;49m\u001B[43margs\u001B[49m\u001B[43m,\u001B[49m\u001B[43m \u001B[49m\u001B[38;5;241;43m*\u001B[39;49m\u001B[38;5;241;43m*\u001B[39;49m\u001B[43mkwargs\u001B[49m\u001B[43m)\u001B[49m\n",
      "File \u001B[1;32mF:\\anaconda3\\envs\\py38\\lib\\site-packages\\pandas\\io\\excel\\_base.py:483\u001B[0m, in \u001B[0;36mread_excel\u001B[1;34m(io, sheet_name, header, names, index_col, usecols, squeeze, dtype, engine, converters, true_values, false_values, skiprows, nrows, na_values, keep_default_na, na_filter, verbose, parse_dates, date_parser, thousands, decimal, comment, skipfooter, convert_float, mangle_dupe_cols, storage_options)\u001B[0m\n\u001B[0;32m    481\u001B[0m \u001B[38;5;28;01mif\u001B[39;00m \u001B[38;5;129;01mnot\u001B[39;00m \u001B[38;5;28misinstance\u001B[39m(io, ExcelFile):\n\u001B[0;32m    482\u001B[0m     should_close \u001B[38;5;241m=\u001B[39m \u001B[38;5;28;01mTrue\u001B[39;00m\n\u001B[1;32m--> 483\u001B[0m     io \u001B[38;5;241m=\u001B[39m \u001B[43mExcelFile\u001B[49m\u001B[43m(\u001B[49m\u001B[43mio\u001B[49m\u001B[43m,\u001B[49m\u001B[43m \u001B[49m\u001B[43mstorage_options\u001B[49m\u001B[38;5;241;43m=\u001B[39;49m\u001B[43mstorage_options\u001B[49m\u001B[43m,\u001B[49m\u001B[43m \u001B[49m\u001B[43mengine\u001B[49m\u001B[38;5;241;43m=\u001B[39;49m\u001B[43mengine\u001B[49m\u001B[43m)\u001B[49m\n\u001B[0;32m    484\u001B[0m \u001B[38;5;28;01melif\u001B[39;00m engine \u001B[38;5;129;01mand\u001B[39;00m engine \u001B[38;5;241m!=\u001B[39m io\u001B[38;5;241m.\u001B[39mengine:\n\u001B[0;32m    485\u001B[0m     \u001B[38;5;28;01mraise\u001B[39;00m \u001B[38;5;167;01mValueError\u001B[39;00m(\n\u001B[0;32m    486\u001B[0m         \u001B[38;5;124m\"\u001B[39m\u001B[38;5;124mEngine should not be specified when passing \u001B[39m\u001B[38;5;124m\"\u001B[39m\n\u001B[0;32m    487\u001B[0m         \u001B[38;5;124m\"\u001B[39m\u001B[38;5;124man ExcelFile - ExcelFile already has the engine set\u001B[39m\u001B[38;5;124m\"\u001B[39m\n\u001B[0;32m    488\u001B[0m     )\n",
      "File \u001B[1;32mF:\\anaconda3\\envs\\py38\\lib\\site-packages\\pandas\\io\\excel\\_base.py:1629\u001B[0m, in \u001B[0;36mExcelFile.__init__\u001B[1;34m(self, path_or_buffer, engine, storage_options)\u001B[0m\n\u001B[0;32m   1627\u001B[0m     ext \u001B[38;5;241m=\u001B[39m \u001B[38;5;124m\"\u001B[39m\u001B[38;5;124mxls\u001B[39m\u001B[38;5;124m\"\u001B[39m\n\u001B[0;32m   1628\u001B[0m \u001B[38;5;28;01melse\u001B[39;00m:\n\u001B[1;32m-> 1629\u001B[0m     ext \u001B[38;5;241m=\u001B[39m \u001B[43minspect_excel_format\u001B[49m\u001B[43m(\u001B[49m\n\u001B[0;32m   1630\u001B[0m \u001B[43m        \u001B[49m\u001B[43mcontent_or_path\u001B[49m\u001B[38;5;241;43m=\u001B[39;49m\u001B[43mpath_or_buffer\u001B[49m\u001B[43m,\u001B[49m\u001B[43m \u001B[49m\u001B[43mstorage_options\u001B[49m\u001B[38;5;241;43m=\u001B[39;49m\u001B[43mstorage_options\u001B[49m\n\u001B[0;32m   1631\u001B[0m \u001B[43m    \u001B[49m\u001B[43m)\u001B[49m\n\u001B[0;32m   1632\u001B[0m     \u001B[38;5;28;01mif\u001B[39;00m ext \u001B[38;5;129;01mis\u001B[39;00m \u001B[38;5;28;01mNone\u001B[39;00m:\n\u001B[0;32m   1633\u001B[0m         \u001B[38;5;28;01mraise\u001B[39;00m \u001B[38;5;167;01mValueError\u001B[39;00m(\n\u001B[0;32m   1634\u001B[0m             \u001B[38;5;124m\"\u001B[39m\u001B[38;5;124mExcel file format cannot be determined, you must specify \u001B[39m\u001B[38;5;124m\"\u001B[39m\n\u001B[0;32m   1635\u001B[0m             \u001B[38;5;124m\"\u001B[39m\u001B[38;5;124man engine manually.\u001B[39m\u001B[38;5;124m\"\u001B[39m\n\u001B[0;32m   1636\u001B[0m         )\n",
      "File \u001B[1;32mF:\\anaconda3\\envs\\py38\\lib\\site-packages\\pandas\\io\\excel\\_base.py:1502\u001B[0m, in \u001B[0;36minspect_excel_format\u001B[1;34m(content_or_path, storage_options)\u001B[0m\n\u001B[0;32m   1499\u001B[0m \u001B[38;5;28;01mif\u001B[39;00m \u001B[38;5;28misinstance\u001B[39m(content_or_path, \u001B[38;5;28mbytes\u001B[39m):\n\u001B[0;32m   1500\u001B[0m     content_or_path \u001B[38;5;241m=\u001B[39m BytesIO(content_or_path)\n\u001B[1;32m-> 1502\u001B[0m \u001B[38;5;28;01mwith\u001B[39;00m \u001B[43mget_handle\u001B[49m\u001B[43m(\u001B[49m\n\u001B[0;32m   1503\u001B[0m \u001B[43m    \u001B[49m\u001B[43mcontent_or_path\u001B[49m\u001B[43m,\u001B[49m\u001B[43m \u001B[49m\u001B[38;5;124;43m\"\u001B[39;49m\u001B[38;5;124;43mrb\u001B[39;49m\u001B[38;5;124;43m\"\u001B[39;49m\u001B[43m,\u001B[49m\u001B[43m \u001B[49m\u001B[43mstorage_options\u001B[49m\u001B[38;5;241;43m=\u001B[39;49m\u001B[43mstorage_options\u001B[49m\u001B[43m,\u001B[49m\u001B[43m \u001B[49m\u001B[43mis_text\u001B[49m\u001B[38;5;241;43m=\u001B[39;49m\u001B[38;5;28;43;01mFalse\u001B[39;49;00m\n\u001B[0;32m   1504\u001B[0m \u001B[43m\u001B[49m\u001B[43m)\u001B[49m \u001B[38;5;28;01mas\u001B[39;00m handle:\n\u001B[0;32m   1505\u001B[0m     stream \u001B[38;5;241m=\u001B[39m handle\u001B[38;5;241m.\u001B[39mhandle\n\u001B[0;32m   1506\u001B[0m     stream\u001B[38;5;241m.\u001B[39mseek(\u001B[38;5;241m0\u001B[39m)\n",
      "File \u001B[1;32mF:\\anaconda3\\envs\\py38\\lib\\site-packages\\pandas\\io\\common.py:866\u001B[0m, in \u001B[0;36mget_handle\u001B[1;34m(path_or_buf, mode, encoding, compression, memory_map, is_text, errors, storage_options)\u001B[0m\n\u001B[0;32m    857\u001B[0m         handle \u001B[38;5;241m=\u001B[39m \u001B[38;5;28mopen\u001B[39m(\n\u001B[0;32m    858\u001B[0m             handle,\n\u001B[0;32m    859\u001B[0m             ioargs\u001B[38;5;241m.\u001B[39mmode,\n\u001B[1;32m   (...)\u001B[0m\n\u001B[0;32m    862\u001B[0m             newline\u001B[38;5;241m=\u001B[39m\u001B[38;5;124m\"\u001B[39m\u001B[38;5;124m\"\u001B[39m,\n\u001B[0;32m    863\u001B[0m         )\n\u001B[0;32m    864\u001B[0m     \u001B[38;5;28;01melse\u001B[39;00m:\n\u001B[0;32m    865\u001B[0m         \u001B[38;5;66;03m# Binary mode\u001B[39;00m\n\u001B[1;32m--> 866\u001B[0m         handle \u001B[38;5;241m=\u001B[39m \u001B[38;5;28;43mopen\u001B[39;49m\u001B[43m(\u001B[49m\u001B[43mhandle\u001B[49m\u001B[43m,\u001B[49m\u001B[43m \u001B[49m\u001B[43mioargs\u001B[49m\u001B[38;5;241;43m.\u001B[39;49m\u001B[43mmode\u001B[49m\u001B[43m)\u001B[49m\n\u001B[0;32m    867\u001B[0m     handles\u001B[38;5;241m.\u001B[39mappend(handle)\n\u001B[0;32m    869\u001B[0m \u001B[38;5;66;03m# Convert BytesIO or file objects passed with an encoding\u001B[39;00m\n",
      "\u001B[1;31mFileNotFoundError\u001B[0m: [Errno 2] No such file or directory: '数据文件.xls'"
     ]
    }
   ],
   "source": [
    "import pandas as pd\n",
    "import plotly.graph_objects as go\n",
    "from plotly.subplots import make_subplots\n",
    "\n",
    "# 读取数据1\n",
    "df = pd.read_excel('数据文件.xls')\n",
    "\n",
    "# 定义一组颜色\n",
    "colors = ['blue', 'orange', 'green', 'red', 'purple', 'brown', 'pink', 'gray']\n",
    "\n",
    "# 创建子图网格\n",
    "fig = make_subplots(rows=4, cols=2, subplot_titles=df.columns[1:])\n",
    "\n",
    "# 对每个区域进行绘图\n",
    "for i, column in enumerate(df.columns[1:]):\n",
    "    # 在当前子图上绘制数据，并设置颜色\n",
    "    fig.add_trace(go.Scatter(x=df['day'], y=df[column], mode='lines', name=column, line=dict(color=colors[i])), row=i // 2 + 1, col=i % 2 + 1)\n",
    "\n",
    "    # 设置x轴和y轴标签\n",
    "    fig.update_xaxes(title_text='Day', row=i // 2 + 1, col=i % 2 + 1)\n",
    "    fig.update_yaxes(title_text='Region Value', row=i // 2 + 1, col=i % 2 + 1)\n",
    "\n",
    "# 设置图表标题和布局\n",
    "#fig.update_layout(title='Region Value Over Time', height=1600, width=2000) #保存时用\n",
    "fig.update_layout(title='Region Value Over Time', height=800, width=1000)\n",
    "\n",
    "# 显示图形\n",
    "fig.show()\n"
   ]
  },
  {
   "cell_type": "markdown",
   "metadata": {},
   "source": [
    "### 接下来，我们使用了pandas库中的describe函数来计算每个虚拟区域的基本统计量（均值、标准差、最小值、第一四分位数、中位数、第三四分位数和最大值）。\n",
    "\n",
    "`describe`函数提供了一些基本的描述性统计信息，包括数据集中每个变量的均值、标准差、最小值、最大值和四分位数等。这些统计量提供了关于数据集分布、集中趋势和离散程度等方面的重要信息。下面是一些基本统计量的解释：\n",
    "\n",
    "- **count**：数据集中的总样本数。\n",
    "- **mean**：数据集的平均值，表示数据集的中心位置。\n",
    "- **std**：数据集的标准差，表示数据集的离散程度。\n",
    "- **min**：数据集中的最小值。\n",
    "- **25%**：数据集中的第一个四分位数，表示有25%的观察值比它小。\n",
    "- **50%**：数据集中的第二个四分位数（也就是中位数），表示有50%的观察值比它小。\n",
    "- **75%**：数据集中的第三个四分位数，表示有75%的观察值比它小。\n",
    "- **max**：数据集中的最大值。\n",
    "\n",
    "通过分析这些基本统计量，我们可以对数据集的分布、变化范围和异常值等方面有一个初步的了解。例如，如果数据集的标准差比较小，那么它的数据分布比较集中，反之则比较分散；如果数据集的最大值和最小值差别比较大，那么数据集的变化范围比较广；如果数据集中的某些统计量（如均值、中位数）与某个阈值相差较大，那么这些数据可能包含异常值，需要进行进一步的分析。\n",
    "\n",
    "除了使用`describe`函数，我们还可以使用其他的描述性统计方法，例如计算协方差、相关系数和偏度等。这些方法可以帮助我们更全面地了解数据集的性质和特征，从而做出更准确的分析和预测。"
   ]
  },
  {
   "cell_type": "code",
   "execution_count": 2,
   "metadata": {
    "pycharm": {
     "name": "#%%\n"
    }
   },
   "outputs": [
    {
     "data": {
      "application/vnd.plotly.v1+json": {
       "config": {
        "plotlyServerURL": "https://plot.ly"
       },
       "data": [
        {
         "name": "mean",
         "type": "bar",
         "x": [
          "region_1",
          "region_2",
          "region_3",
          "region_4",
          "region_5",
          "region_6",
          "region_7",
          "region_8"
         ],
         "y": [
          3.01196963814,
          -0.013079037470000006,
          2.5311546955600006,
          2.4862533319999995,
          2.4791457276399997,
          2.4885996222099998,
          -0.04472584753999996,
          -0.013073799700000005
         ]
        },
        {
         "name": "std",
         "type": "bar",
         "x": [
          "region_1",
          "region_2",
          "region_3",
          "region_4",
          "region_5",
          "region_6",
          "region_7",
          "region_8"
         ],
         "y": [
          3.5815366667561963,
          0.8509655257250517,
          0.8451562487785337,
          2.027842987448085,
          5.510299370011063,
          3.5136248845416653,
          5.952725000518605,
          2.1584833864686677
         ]
        },
        {
         "name": "min",
         "type": "bar",
         "x": [
          "region_1",
          "region_2",
          "region_3",
          "region_4",
          "region_5",
          "region_6",
          "region_7",
          "region_8"
         ],
         "y": [
          -7.064472117,
          -1.997137642,
          -0.150936023,
          -4.615643819,
          -9.968485557,
          -4.876544897,
          -11.34030161,
          -4.108951027
         ]
        },
        {
         "name": "25%",
         "type": "bar",
         "x": [
          "region_1",
          "region_2",
          "region_3",
          "region_4",
          "region_5",
          "region_6",
          "region_7",
          "region_8"
         ],
         "y": [
          1.43467523725,
          -0.55979671425,
          1.8845262555,
          2.00719114625,
          1.40028745475,
          0.088403695,
          -3.43342919575,
          -1.22969802275
         ]
        },
        {
         "name": "50%",
         "type": "bar",
         "x": [
          "region_1",
          "region_2",
          "region_3",
          "region_4",
          "region_5",
          "region_6",
          "region_7",
          "region_8"
         ],
         "y": [
          3.4665853220000002,
          0.0702053145,
          2.520531946,
          2.358363517,
          4.286719041,
          2.075139204,
          -0.5227680745000001,
          -0.33219952399999997
         ]
        },
        {
         "name": "75%",
         "type": "bar",
         "x": [
          "region_1",
          "region_2",
          "region_3",
          "region_4",
          "region_5",
          "region_6",
          "region_7",
          "region_8"
         ],
         "y": [
          5.2366950047500005,
          0.5486119535,
          3.1726874549999997,
          2.6856050905,
          5.5576204135000005,
          4.83484104075,
          3.0815263225000002,
          0.3872370585
         ]
        },
        {
         "name": "max",
         "type": "bar",
         "x": [
          "region_1",
          "region_2",
          "region_3",
          "region_4",
          "region_5",
          "region_6",
          "region_7",
          "region_8"
         ],
         "y": [
          12.84236478,
          2.629440118,
          4.178484862,
          11.21052705,
          11.9137123,
          12.61496345,
          23.20903307,
          7.211748128
         ]
        }
       ],
       "layout": {
        "template": {
         "data": {
          "bar": [
           {
            "error_x": {
             "color": "#2a3f5f"
            },
            "error_y": {
             "color": "#2a3f5f"
            },
            "marker": {
             "line": {
              "color": "#E5ECF6",
              "width": 0.5
             },
             "pattern": {
              "fillmode": "overlay",
              "size": 10,
              "solidity": 0.2
             }
            },
            "type": "bar"
           }
          ],
          "barpolar": [
           {
            "marker": {
             "line": {
              "color": "#E5ECF6",
              "width": 0.5
             },
             "pattern": {
              "fillmode": "overlay",
              "size": 10,
              "solidity": 0.2
             }
            },
            "type": "barpolar"
           }
          ],
          "carpet": [
           {
            "aaxis": {
             "endlinecolor": "#2a3f5f",
             "gridcolor": "white",
             "linecolor": "white",
             "minorgridcolor": "white",
             "startlinecolor": "#2a3f5f"
            },
            "baxis": {
             "endlinecolor": "#2a3f5f",
             "gridcolor": "white",
             "linecolor": "white",
             "minorgridcolor": "white",
             "startlinecolor": "#2a3f5f"
            },
            "type": "carpet"
           }
          ],
          "choropleth": [
           {
            "colorbar": {
             "outlinewidth": 0,
             "ticks": ""
            },
            "type": "choropleth"
           }
          ],
          "contour": [
           {
            "colorbar": {
             "outlinewidth": 0,
             "ticks": ""
            },
            "colorscale": [
             [
              0,
              "#0d0887"
             ],
             [
              0.1111111111111111,
              "#46039f"
             ],
             [
              0.2222222222222222,
              "#7201a8"
             ],
             [
              0.3333333333333333,
              "#9c179e"
             ],
             [
              0.4444444444444444,
              "#bd3786"
             ],
             [
              0.5555555555555556,
              "#d8576b"
             ],
             [
              0.6666666666666666,
              "#ed7953"
             ],
             [
              0.7777777777777778,
              "#fb9f3a"
             ],
             [
              0.8888888888888888,
              "#fdca26"
             ],
             [
              1,
              "#f0f921"
             ]
            ],
            "type": "contour"
           }
          ],
          "contourcarpet": [
           {
            "colorbar": {
             "outlinewidth": 0,
             "ticks": ""
            },
            "type": "contourcarpet"
           }
          ],
          "heatmap": [
           {
            "colorbar": {
             "outlinewidth": 0,
             "ticks": ""
            },
            "colorscale": [
             [
              0,
              "#0d0887"
             ],
             [
              0.1111111111111111,
              "#46039f"
             ],
             [
              0.2222222222222222,
              "#7201a8"
             ],
             [
              0.3333333333333333,
              "#9c179e"
             ],
             [
              0.4444444444444444,
              "#bd3786"
             ],
             [
              0.5555555555555556,
              "#d8576b"
             ],
             [
              0.6666666666666666,
              "#ed7953"
             ],
             [
              0.7777777777777778,
              "#fb9f3a"
             ],
             [
              0.8888888888888888,
              "#fdca26"
             ],
             [
              1,
              "#f0f921"
             ]
            ],
            "type": "heatmap"
           }
          ],
          "heatmapgl": [
           {
            "colorbar": {
             "outlinewidth": 0,
             "ticks": ""
            },
            "colorscale": [
             [
              0,
              "#0d0887"
             ],
             [
              0.1111111111111111,
              "#46039f"
             ],
             [
              0.2222222222222222,
              "#7201a8"
             ],
             [
              0.3333333333333333,
              "#9c179e"
             ],
             [
              0.4444444444444444,
              "#bd3786"
             ],
             [
              0.5555555555555556,
              "#d8576b"
             ],
             [
              0.6666666666666666,
              "#ed7953"
             ],
             [
              0.7777777777777778,
              "#fb9f3a"
             ],
             [
              0.8888888888888888,
              "#fdca26"
             ],
             [
              1,
              "#f0f921"
             ]
            ],
            "type": "heatmapgl"
           }
          ],
          "histogram": [
           {
            "marker": {
             "pattern": {
              "fillmode": "overlay",
              "size": 10,
              "solidity": 0.2
             }
            },
            "type": "histogram"
           }
          ],
          "histogram2d": [
           {
            "colorbar": {
             "outlinewidth": 0,
             "ticks": ""
            },
            "colorscale": [
             [
              0,
              "#0d0887"
             ],
             [
              0.1111111111111111,
              "#46039f"
             ],
             [
              0.2222222222222222,
              "#7201a8"
             ],
             [
              0.3333333333333333,
              "#9c179e"
             ],
             [
              0.4444444444444444,
              "#bd3786"
             ],
             [
              0.5555555555555556,
              "#d8576b"
             ],
             [
              0.6666666666666666,
              "#ed7953"
             ],
             [
              0.7777777777777778,
              "#fb9f3a"
             ],
             [
              0.8888888888888888,
              "#fdca26"
             ],
             [
              1,
              "#f0f921"
             ]
            ],
            "type": "histogram2d"
           }
          ],
          "histogram2dcontour": [
           {
            "colorbar": {
             "outlinewidth": 0,
             "ticks": ""
            },
            "colorscale": [
             [
              0,
              "#0d0887"
             ],
             [
              0.1111111111111111,
              "#46039f"
             ],
             [
              0.2222222222222222,
              "#7201a8"
             ],
             [
              0.3333333333333333,
              "#9c179e"
             ],
             [
              0.4444444444444444,
              "#bd3786"
             ],
             [
              0.5555555555555556,
              "#d8576b"
             ],
             [
              0.6666666666666666,
              "#ed7953"
             ],
             [
              0.7777777777777778,
              "#fb9f3a"
             ],
             [
              0.8888888888888888,
              "#fdca26"
             ],
             [
              1,
              "#f0f921"
             ]
            ],
            "type": "histogram2dcontour"
           }
          ],
          "mesh3d": [
           {
            "colorbar": {
             "outlinewidth": 0,
             "ticks": ""
            },
            "type": "mesh3d"
           }
          ],
          "parcoords": [
           {
            "line": {
             "colorbar": {
              "outlinewidth": 0,
              "ticks": ""
             }
            },
            "type": "parcoords"
           }
          ],
          "pie": [
           {
            "automargin": true,
            "type": "pie"
           }
          ],
          "scatter": [
           {
            "fillpattern": {
             "fillmode": "overlay",
             "size": 10,
             "solidity": 0.2
            },
            "type": "scatter"
           }
          ],
          "scatter3d": [
           {
            "line": {
             "colorbar": {
              "outlinewidth": 0,
              "ticks": ""
             }
            },
            "marker": {
             "colorbar": {
              "outlinewidth": 0,
              "ticks": ""
             }
            },
            "type": "scatter3d"
           }
          ],
          "scattercarpet": [
           {
            "marker": {
             "colorbar": {
              "outlinewidth": 0,
              "ticks": ""
             }
            },
            "type": "scattercarpet"
           }
          ],
          "scattergeo": [
           {
            "marker": {
             "colorbar": {
              "outlinewidth": 0,
              "ticks": ""
             }
            },
            "type": "scattergeo"
           }
          ],
          "scattergl": [
           {
            "marker": {
             "colorbar": {
              "outlinewidth": 0,
              "ticks": ""
             }
            },
            "type": "scattergl"
           }
          ],
          "scattermapbox": [
           {
            "marker": {
             "colorbar": {
              "outlinewidth": 0,
              "ticks": ""
             }
            },
            "type": "scattermapbox"
           }
          ],
          "scatterpolar": [
           {
            "marker": {
             "colorbar": {
              "outlinewidth": 0,
              "ticks": ""
             }
            },
            "type": "scatterpolar"
           }
          ],
          "scatterpolargl": [
           {
            "marker": {
             "colorbar": {
              "outlinewidth": 0,
              "ticks": ""
             }
            },
            "type": "scatterpolargl"
           }
          ],
          "scatterternary": [
           {
            "marker": {
             "colorbar": {
              "outlinewidth": 0,
              "ticks": ""
             }
            },
            "type": "scatterternary"
           }
          ],
          "surface": [
           {
            "colorbar": {
             "outlinewidth": 0,
             "ticks": ""
            },
            "colorscale": [
             [
              0,
              "#0d0887"
             ],
             [
              0.1111111111111111,
              "#46039f"
             ],
             [
              0.2222222222222222,
              "#7201a8"
             ],
             [
              0.3333333333333333,
              "#9c179e"
             ],
             [
              0.4444444444444444,
              "#bd3786"
             ],
             [
              0.5555555555555556,
              "#d8576b"
             ],
             [
              0.6666666666666666,
              "#ed7953"
             ],
             [
              0.7777777777777778,
              "#fb9f3a"
             ],
             [
              0.8888888888888888,
              "#fdca26"
             ],
             [
              1,
              "#f0f921"
             ]
            ],
            "type": "surface"
           }
          ],
          "table": [
           {
            "cells": {
             "fill": {
              "color": "#EBF0F8"
             },
             "line": {
              "color": "white"
             }
            },
            "header": {
             "fill": {
              "color": "#C8D4E3"
             },
             "line": {
              "color": "white"
             }
            },
            "type": "table"
           }
          ]
         },
         "layout": {
          "annotationdefaults": {
           "arrowcolor": "#2a3f5f",
           "arrowhead": 0,
           "arrowwidth": 1
          },
          "autotypenumbers": "strict",
          "coloraxis": {
           "colorbar": {
            "outlinewidth": 0,
            "ticks": ""
           }
          },
          "colorscale": {
           "diverging": [
            [
             0,
             "#8e0152"
            ],
            [
             0.1,
             "#c51b7d"
            ],
            [
             0.2,
             "#de77ae"
            ],
            [
             0.3,
             "#f1b6da"
            ],
            [
             0.4,
             "#fde0ef"
            ],
            [
             0.5,
             "#f7f7f7"
            ],
            [
             0.6,
             "#e6f5d0"
            ],
            [
             0.7,
             "#b8e186"
            ],
            [
             0.8,
             "#7fbc41"
            ],
            [
             0.9,
             "#4d9221"
            ],
            [
             1,
             "#276419"
            ]
           ],
           "sequential": [
            [
             0,
             "#0d0887"
            ],
            [
             0.1111111111111111,
             "#46039f"
            ],
            [
             0.2222222222222222,
             "#7201a8"
            ],
            [
             0.3333333333333333,
             "#9c179e"
            ],
            [
             0.4444444444444444,
             "#bd3786"
            ],
            [
             0.5555555555555556,
             "#d8576b"
            ],
            [
             0.6666666666666666,
             "#ed7953"
            ],
            [
             0.7777777777777778,
             "#fb9f3a"
            ],
            [
             0.8888888888888888,
             "#fdca26"
            ],
            [
             1,
             "#f0f921"
            ]
           ],
           "sequentialminus": [
            [
             0,
             "#0d0887"
            ],
            [
             0.1111111111111111,
             "#46039f"
            ],
            [
             0.2222222222222222,
             "#7201a8"
            ],
            [
             0.3333333333333333,
             "#9c179e"
            ],
            [
             0.4444444444444444,
             "#bd3786"
            ],
            [
             0.5555555555555556,
             "#d8576b"
            ],
            [
             0.6666666666666666,
             "#ed7953"
            ],
            [
             0.7777777777777778,
             "#fb9f3a"
            ],
            [
             0.8888888888888888,
             "#fdca26"
            ],
            [
             1,
             "#f0f921"
            ]
           ]
          },
          "colorway": [
           "#636efa",
           "#EF553B",
           "#00cc96",
           "#ab63fa",
           "#FFA15A",
           "#19d3f3",
           "#FF6692",
           "#B6E880",
           "#FF97FF",
           "#FECB52"
          ],
          "font": {
           "color": "#2a3f5f"
          },
          "geo": {
           "bgcolor": "white",
           "lakecolor": "white",
           "landcolor": "#E5ECF6",
           "showlakes": true,
           "showland": true,
           "subunitcolor": "white"
          },
          "hoverlabel": {
           "align": "left"
          },
          "hovermode": "closest",
          "mapbox": {
           "style": "light"
          },
          "paper_bgcolor": "white",
          "plot_bgcolor": "#E5ECF6",
          "polar": {
           "angularaxis": {
            "gridcolor": "white",
            "linecolor": "white",
            "ticks": ""
           },
           "bgcolor": "#E5ECF6",
           "radialaxis": {
            "gridcolor": "white",
            "linecolor": "white",
            "ticks": ""
           }
          },
          "scene": {
           "xaxis": {
            "backgroundcolor": "#E5ECF6",
            "gridcolor": "white",
            "gridwidth": 2,
            "linecolor": "white",
            "showbackground": true,
            "ticks": "",
            "zerolinecolor": "white"
           },
           "yaxis": {
            "backgroundcolor": "#E5ECF6",
            "gridcolor": "white",
            "gridwidth": 2,
            "linecolor": "white",
            "showbackground": true,
            "ticks": "",
            "zerolinecolor": "white"
           },
           "zaxis": {
            "backgroundcolor": "#E5ECF6",
            "gridcolor": "white",
            "gridwidth": 2,
            "linecolor": "white",
            "showbackground": true,
            "ticks": "",
            "zerolinecolor": "white"
           }
          },
          "shapedefaults": {
           "line": {
            "color": "#2a3f5f"
           }
          },
          "ternary": {
           "aaxis": {
            "gridcolor": "white",
            "linecolor": "white",
            "ticks": ""
           },
           "baxis": {
            "gridcolor": "white",
            "linecolor": "white",
            "ticks": ""
           },
           "bgcolor": "#E5ECF6",
           "caxis": {
            "gridcolor": "white",
            "linecolor": "white",
            "ticks": ""
           }
          },
          "title": {
           "x": 0.05
          },
          "xaxis": {
           "automargin": true,
           "gridcolor": "white",
           "linecolor": "white",
           "ticks": "",
           "title": {
            "standoff": 15
           },
           "zerolinecolor": "white",
           "zerolinewidth": 2
          },
          "yaxis": {
           "automargin": true,
           "gridcolor": "white",
           "linecolor": "white",
           "ticks": "",
           "title": {
            "standoff": 15
           },
           "zerolinecolor": "white",
           "zerolinewidth": 2
          }
         }
        },
        "title": {
         "text": "Basic Statistics of Region Values"
        },
        "xaxis": {
         "title": {
          "text": "Statistical Measure"
         }
        },
        "yaxis": {
         "title": {
          "text": "Value"
         }
        }
       }
      },
      "text/html": [
       "<div>                            <div id=\"84fb7676-6161-4eb9-b79a-1e2c5a531474\" class=\"plotly-graph-div\" style=\"height:525px; width:100%;\"></div>            <script type=\"text/javascript\">                require([\"plotly\"], function(Plotly) {                    window.PLOTLYENV=window.PLOTLYENV || {};                                    if (document.getElementById(\"84fb7676-6161-4eb9-b79a-1e2c5a531474\")) {                    Plotly.newPlot(                        \"84fb7676-6161-4eb9-b79a-1e2c5a531474\",                        [{\"name\":\"mean\",\"x\":[\"region_1\",\"region_2\",\"region_3\",\"region_4\",\"region_5\",\"region_6\",\"region_7\",\"region_8\"],\"y\":[3.01196963814,-0.013079037470000006,2.5311546955600006,2.4862533319999995,2.4791457276399997,2.4885996222099998,-0.04472584753999996,-0.013073799700000005],\"type\":\"bar\"},{\"name\":\"std\",\"x\":[\"region_1\",\"region_2\",\"region_3\",\"region_4\",\"region_5\",\"region_6\",\"region_7\",\"region_8\"],\"y\":[3.5815366667561963,0.8509655257250517,0.8451562487785337,2.027842987448085,5.510299370011063,3.5136248845416653,5.952725000518605,2.1584833864686677],\"type\":\"bar\"},{\"name\":\"min\",\"x\":[\"region_1\",\"region_2\",\"region_3\",\"region_4\",\"region_5\",\"region_6\",\"region_7\",\"region_8\"],\"y\":[-7.064472117,-1.997137642,-0.150936023,-4.615643819,-9.968485557,-4.876544897,-11.34030161,-4.108951027],\"type\":\"bar\"},{\"name\":\"25%\",\"x\":[\"region_1\",\"region_2\",\"region_3\",\"region_4\",\"region_5\",\"region_6\",\"region_7\",\"region_8\"],\"y\":[1.43467523725,-0.55979671425,1.8845262555,2.00719114625,1.40028745475,0.088403695,-3.43342919575,-1.22969802275],\"type\":\"bar\"},{\"name\":\"50%\",\"x\":[\"region_1\",\"region_2\",\"region_3\",\"region_4\",\"region_5\",\"region_6\",\"region_7\",\"region_8\"],\"y\":[3.4665853220000002,0.0702053145,2.520531946,2.358363517,4.286719041,2.075139204,-0.5227680745000001,-0.33219952399999997],\"type\":\"bar\"},{\"name\":\"75%\",\"x\":[\"region_1\",\"region_2\",\"region_3\",\"region_4\",\"region_5\",\"region_6\",\"region_7\",\"region_8\"],\"y\":[5.2366950047500005,0.5486119535,3.1726874549999997,2.6856050905,5.5576204135000005,4.83484104075,3.0815263225000002,0.3872370585],\"type\":\"bar\"},{\"name\":\"max\",\"x\":[\"region_1\",\"region_2\",\"region_3\",\"region_4\",\"region_5\",\"region_6\",\"region_7\",\"region_8\"],\"y\":[12.84236478,2.629440118,4.178484862,11.21052705,11.9137123,12.61496345,23.20903307,7.211748128],\"type\":\"bar\"}],                        {\"title\":{\"text\":\"Basic Statistics of Region Values\"},\"xaxis\":{\"title\":{\"text\":\"Statistical Measure\"}},\"yaxis\":{\"title\":{\"text\":\"Value\"}},\"template\":{\"data\":{\"histogram2dcontour\":[{\"type\":\"histogram2dcontour\",\"colorbar\":{\"outlinewidth\":0,\"ticks\":\"\"},\"colorscale\":[[0.0,\"#0d0887\"],[0.1111111111111111,\"#46039f\"],[0.2222222222222222,\"#7201a8\"],[0.3333333333333333,\"#9c179e\"],[0.4444444444444444,\"#bd3786\"],[0.5555555555555556,\"#d8576b\"],[0.6666666666666666,\"#ed7953\"],[0.7777777777777778,\"#fb9f3a\"],[0.8888888888888888,\"#fdca26\"],[1.0,\"#f0f921\"]]}],\"choropleth\":[{\"type\":\"choropleth\",\"colorbar\":{\"outlinewidth\":0,\"ticks\":\"\"}}],\"histogram2d\":[{\"type\":\"histogram2d\",\"colorbar\":{\"outlinewidth\":0,\"ticks\":\"\"},\"colorscale\":[[0.0,\"#0d0887\"],[0.1111111111111111,\"#46039f\"],[0.2222222222222222,\"#7201a8\"],[0.3333333333333333,\"#9c179e\"],[0.4444444444444444,\"#bd3786\"],[0.5555555555555556,\"#d8576b\"],[0.6666666666666666,\"#ed7953\"],[0.7777777777777778,\"#fb9f3a\"],[0.8888888888888888,\"#fdca26\"],[1.0,\"#f0f921\"]]}],\"heatmap\":[{\"type\":\"heatmap\",\"colorbar\":{\"outlinewidth\":0,\"ticks\":\"\"},\"colorscale\":[[0.0,\"#0d0887\"],[0.1111111111111111,\"#46039f\"],[0.2222222222222222,\"#7201a8\"],[0.3333333333333333,\"#9c179e\"],[0.4444444444444444,\"#bd3786\"],[0.5555555555555556,\"#d8576b\"],[0.6666666666666666,\"#ed7953\"],[0.7777777777777778,\"#fb9f3a\"],[0.8888888888888888,\"#fdca26\"],[1.0,\"#f0f921\"]]}],\"heatmapgl\":[{\"type\":\"heatmapgl\",\"colorbar\":{\"outlinewidth\":0,\"ticks\":\"\"},\"colorscale\":[[0.0,\"#0d0887\"],[0.1111111111111111,\"#46039f\"],[0.2222222222222222,\"#7201a8\"],[0.3333333333333333,\"#9c179e\"],[0.4444444444444444,\"#bd3786\"],[0.5555555555555556,\"#d8576b\"],[0.6666666666666666,\"#ed7953\"],[0.7777777777777778,\"#fb9f3a\"],[0.8888888888888888,\"#fdca26\"],[1.0,\"#f0f921\"]]}],\"contourcarpet\":[{\"type\":\"contourcarpet\",\"colorbar\":{\"outlinewidth\":0,\"ticks\":\"\"}}],\"contour\":[{\"type\":\"contour\",\"colorbar\":{\"outlinewidth\":0,\"ticks\":\"\"},\"colorscale\":[[0.0,\"#0d0887\"],[0.1111111111111111,\"#46039f\"],[0.2222222222222222,\"#7201a8\"],[0.3333333333333333,\"#9c179e\"],[0.4444444444444444,\"#bd3786\"],[0.5555555555555556,\"#d8576b\"],[0.6666666666666666,\"#ed7953\"],[0.7777777777777778,\"#fb9f3a\"],[0.8888888888888888,\"#fdca26\"],[1.0,\"#f0f921\"]]}],\"surface\":[{\"type\":\"surface\",\"colorbar\":{\"outlinewidth\":0,\"ticks\":\"\"},\"colorscale\":[[0.0,\"#0d0887\"],[0.1111111111111111,\"#46039f\"],[0.2222222222222222,\"#7201a8\"],[0.3333333333333333,\"#9c179e\"],[0.4444444444444444,\"#bd3786\"],[0.5555555555555556,\"#d8576b\"],[0.6666666666666666,\"#ed7953\"],[0.7777777777777778,\"#fb9f3a\"],[0.8888888888888888,\"#fdca26\"],[1.0,\"#f0f921\"]]}],\"mesh3d\":[{\"type\":\"mesh3d\",\"colorbar\":{\"outlinewidth\":0,\"ticks\":\"\"}}],\"scatter\":[{\"fillpattern\":{\"fillmode\":\"overlay\",\"size\":10,\"solidity\":0.2},\"type\":\"scatter\"}],\"parcoords\":[{\"type\":\"parcoords\",\"line\":{\"colorbar\":{\"outlinewidth\":0,\"ticks\":\"\"}}}],\"scatterpolargl\":[{\"type\":\"scatterpolargl\",\"marker\":{\"colorbar\":{\"outlinewidth\":0,\"ticks\":\"\"}}}],\"bar\":[{\"error_x\":{\"color\":\"#2a3f5f\"},\"error_y\":{\"color\":\"#2a3f5f\"},\"marker\":{\"line\":{\"color\":\"#E5ECF6\",\"width\":0.5},\"pattern\":{\"fillmode\":\"overlay\",\"size\":10,\"solidity\":0.2}},\"type\":\"bar\"}],\"scattergeo\":[{\"type\":\"scattergeo\",\"marker\":{\"colorbar\":{\"outlinewidth\":0,\"ticks\":\"\"}}}],\"scatterpolar\":[{\"type\":\"scatterpolar\",\"marker\":{\"colorbar\":{\"outlinewidth\":0,\"ticks\":\"\"}}}],\"histogram\":[{\"marker\":{\"pattern\":{\"fillmode\":\"overlay\",\"size\":10,\"solidity\":0.2}},\"type\":\"histogram\"}],\"scattergl\":[{\"type\":\"scattergl\",\"marker\":{\"colorbar\":{\"outlinewidth\":0,\"ticks\":\"\"}}}],\"scatter3d\":[{\"type\":\"scatter3d\",\"line\":{\"colorbar\":{\"outlinewidth\":0,\"ticks\":\"\"}},\"marker\":{\"colorbar\":{\"outlinewidth\":0,\"ticks\":\"\"}}}],\"scattermapbox\":[{\"type\":\"scattermapbox\",\"marker\":{\"colorbar\":{\"outlinewidth\":0,\"ticks\":\"\"}}}],\"scatterternary\":[{\"type\":\"scatterternary\",\"marker\":{\"colorbar\":{\"outlinewidth\":0,\"ticks\":\"\"}}}],\"scattercarpet\":[{\"type\":\"scattercarpet\",\"marker\":{\"colorbar\":{\"outlinewidth\":0,\"ticks\":\"\"}}}],\"carpet\":[{\"aaxis\":{\"endlinecolor\":\"#2a3f5f\",\"gridcolor\":\"white\",\"linecolor\":\"white\",\"minorgridcolor\":\"white\",\"startlinecolor\":\"#2a3f5f\"},\"baxis\":{\"endlinecolor\":\"#2a3f5f\",\"gridcolor\":\"white\",\"linecolor\":\"white\",\"minorgridcolor\":\"white\",\"startlinecolor\":\"#2a3f5f\"},\"type\":\"carpet\"}],\"table\":[{\"cells\":{\"fill\":{\"color\":\"#EBF0F8\"},\"line\":{\"color\":\"white\"}},\"header\":{\"fill\":{\"color\":\"#C8D4E3\"},\"line\":{\"color\":\"white\"}},\"type\":\"table\"}],\"barpolar\":[{\"marker\":{\"line\":{\"color\":\"#E5ECF6\",\"width\":0.5},\"pattern\":{\"fillmode\":\"overlay\",\"size\":10,\"solidity\":0.2}},\"type\":\"barpolar\"}],\"pie\":[{\"automargin\":true,\"type\":\"pie\"}]},\"layout\":{\"autotypenumbers\":\"strict\",\"colorway\":[\"#636efa\",\"#EF553B\",\"#00cc96\",\"#ab63fa\",\"#FFA15A\",\"#19d3f3\",\"#FF6692\",\"#B6E880\",\"#FF97FF\",\"#FECB52\"],\"font\":{\"color\":\"#2a3f5f\"},\"hovermode\":\"closest\",\"hoverlabel\":{\"align\":\"left\"},\"paper_bgcolor\":\"white\",\"plot_bgcolor\":\"#E5ECF6\",\"polar\":{\"bgcolor\":\"#E5ECF6\",\"angularaxis\":{\"gridcolor\":\"white\",\"linecolor\":\"white\",\"ticks\":\"\"},\"radialaxis\":{\"gridcolor\":\"white\",\"linecolor\":\"white\",\"ticks\":\"\"}},\"ternary\":{\"bgcolor\":\"#E5ECF6\",\"aaxis\":{\"gridcolor\":\"white\",\"linecolor\":\"white\",\"ticks\":\"\"},\"baxis\":{\"gridcolor\":\"white\",\"linecolor\":\"white\",\"ticks\":\"\"},\"caxis\":{\"gridcolor\":\"white\",\"linecolor\":\"white\",\"ticks\":\"\"}},\"coloraxis\":{\"colorbar\":{\"outlinewidth\":0,\"ticks\":\"\"}},\"colorscale\":{\"sequential\":[[0.0,\"#0d0887\"],[0.1111111111111111,\"#46039f\"],[0.2222222222222222,\"#7201a8\"],[0.3333333333333333,\"#9c179e\"],[0.4444444444444444,\"#bd3786\"],[0.5555555555555556,\"#d8576b\"],[0.6666666666666666,\"#ed7953\"],[0.7777777777777778,\"#fb9f3a\"],[0.8888888888888888,\"#fdca26\"],[1.0,\"#f0f921\"]],\"sequentialminus\":[[0.0,\"#0d0887\"],[0.1111111111111111,\"#46039f\"],[0.2222222222222222,\"#7201a8\"],[0.3333333333333333,\"#9c179e\"],[0.4444444444444444,\"#bd3786\"],[0.5555555555555556,\"#d8576b\"],[0.6666666666666666,\"#ed7953\"],[0.7777777777777778,\"#fb9f3a\"],[0.8888888888888888,\"#fdca26\"],[1.0,\"#f0f921\"]],\"diverging\":[[0,\"#8e0152\"],[0.1,\"#c51b7d\"],[0.2,\"#de77ae\"],[0.3,\"#f1b6da\"],[0.4,\"#fde0ef\"],[0.5,\"#f7f7f7\"],[0.6,\"#e6f5d0\"],[0.7,\"#b8e186\"],[0.8,\"#7fbc41\"],[0.9,\"#4d9221\"],[1,\"#276419\"]]},\"xaxis\":{\"gridcolor\":\"white\",\"linecolor\":\"white\",\"ticks\":\"\",\"title\":{\"standoff\":15},\"zerolinecolor\":\"white\",\"automargin\":true,\"zerolinewidth\":2},\"yaxis\":{\"gridcolor\":\"white\",\"linecolor\":\"white\",\"ticks\":\"\",\"title\":{\"standoff\":15},\"zerolinecolor\":\"white\",\"automargin\":true,\"zerolinewidth\":2},\"scene\":{\"xaxis\":{\"backgroundcolor\":\"#E5ECF6\",\"gridcolor\":\"white\",\"linecolor\":\"white\",\"showbackground\":true,\"ticks\":\"\",\"zerolinecolor\":\"white\",\"gridwidth\":2},\"yaxis\":{\"backgroundcolor\":\"#E5ECF6\",\"gridcolor\":\"white\",\"linecolor\":\"white\",\"showbackground\":true,\"ticks\":\"\",\"zerolinecolor\":\"white\",\"gridwidth\":2},\"zaxis\":{\"backgroundcolor\":\"#E5ECF6\",\"gridcolor\":\"white\",\"linecolor\":\"white\",\"showbackground\":true,\"ticks\":\"\",\"zerolinecolor\":\"white\",\"gridwidth\":2}},\"shapedefaults\":{\"line\":{\"color\":\"#2a3f5f\"}},\"annotationdefaults\":{\"arrowcolor\":\"#2a3f5f\",\"arrowhead\":0,\"arrowwidth\":1},\"geo\":{\"bgcolor\":\"white\",\"landcolor\":\"#E5ECF6\",\"subunitcolor\":\"white\",\"showland\":true,\"showlakes\":true,\"lakecolor\":\"white\"},\"title\":{\"x\":0.05},\"mapbox\":{\"style\":\"light\"}}}},                        {\"responsive\": true}                    ).then(function(){\n",
       "                            \n",
       "var gd = document.getElementById('84fb7676-6161-4eb9-b79a-1e2c5a531474');\n",
       "var x = new MutationObserver(function (mutations, observer) {{\n",
       "        var display = window.getComputedStyle(gd).display;\n",
       "        if (!display || display === 'none') {{\n",
       "            console.log([gd, 'removed!']);\n",
       "            Plotly.purge(gd);\n",
       "            observer.disconnect();\n",
       "        }}\n",
       "}});\n",
       "\n",
       "// Listen for the removal of the full notebook cells\n",
       "var notebookContainer = gd.closest('#notebook-container');\n",
       "if (notebookContainer) {{\n",
       "    x.observe(notebookContainer, {childList: true});\n",
       "}}\n",
       "\n",
       "// Listen for the clearing of the current output cell\n",
       "var outputEl = gd.closest('.output');\n",
       "if (outputEl) {{\n",
       "    x.observe(outputEl, {childList: true});\n",
       "}}\n",
       "\n",
       "                        })                };                });            </script>        </div>"
      ]
     },
     "metadata": {},
     "output_type": "display_data"
    }
   ],
   "source": [
    "import pandas as pd\n",
    "import plotly.graph_objects as go\n",
    "\n",
    "# 读取数据\n",
    "df = pd.read_excel('数据文件.xls')\n",
    "# 删除day列\n",
    "df = df.drop('day', axis=1)\n",
    "\n",
    "# 计算基本统计量\n",
    "stats = df.describe().drop('count') #去掉了无关紧要的count统计量\n",
    "\n",
    "# 创建柱状图数据\n",
    "data = [go.Bar(x=stats.columns, y=stats.loc[stat], name=stat) for stat in stats.index]\n",
    "\n",
    "# 设置图表标题和布局\n",
    "layout = go.Layout(title='Basic Statistics of Region Values', xaxis=dict(title='Statistical Measure'), yaxis=dict(title='Value'))\n",
    "\n",
    "# 绘制柱状图\n",
    "fig = go.Figure(data=data, layout=layout)\n",
    "fig.show()\n"
   ]
  },
  {
   "cell_type": "code",
   "execution_count": 3,
   "metadata": {},
   "outputs": [
    {
     "data": {
      "application/vnd.plotly.v1+json": {
       "config": {
        "plotlyServerURL": "https://plot.ly"
       },
       "data": [
        {
         "name": "region_1",
         "nbinsx": 10,
         "type": "histogram",
         "x": [
          -5.494485498,
          -5.789385583,
          -5.194742117,
          -2.727375385,
          -3.675725961,
          -6.511709786,
          -7.064472117,
          -5.8321753,
          -0.387658674,
          3.420805967,
          6.184015173,
          5.624731011,
          5.14825614,
          5.623487111,
          5.961442543,
          6.198460078,
          6.401197103,
          6.164962995,
          4.389178522,
          3.785920682,
          4.171982188,
          5.05491376,
          5.418842685,
          3.177929207,
          2.082189243,
          2.093450342,
          2.761355955,
          3.366809557,
          2.880812632,
          2.714705659,
          2.902762561,
          3.900149684,
          4.807646434,
          3.512364677,
          2.854321395,
          3.005080792,
          2.510881827,
          1.864980405,
          1.747752561,
          1.427394715,
          0.810805617,
          1.508100639,
          2.521127485,
          0.301922228,
          0.428756468,
          4.501202588,
          5.061116779,
          4.11413508,
          5.208248667,
          5.051573706,
          2.455861075,
          0.226042785,
          -1.816137382,
          -0.007156887,
          0.762836276,
          -0.984995722,
          -2.202789678,
          -3.10542588,
          -0.562432731,
          1.728869969,
          2.847676254,
          4.925241198,
          7.66024065,
          6.700807175,
          7.076339087,
          12.84236478,
          11.37529047,
          4.209410101,
          4.054810659,
          4.445672594,
          3.276272,
          3.206210644,
          4.12910086,
          4.156299195,
          4.270800469,
          5.603086382,
          6.310054381,
          6.370141779,
          5.623184118,
          4.506942614,
          2.21555901,
          1.437102078,
          2.451743427,
          3.6389708,
          4.517512531,
          2.238491332,
          0.925311217,
          0.925674975,
          0.785904441,
          0.803533901,
          3.64229276,
          5.322034018,
          5.187660769,
          5.957931294,
          7.086450544,
          7.989346359,
          8.138834395,
          6.925013119,
          6.495760119,
          6.43917705
         ]
        },
        {
         "name": "region_2",
         "nbinsx": 10,
         "type": "histogram",
         "x": [
          2.629440118,
          1.658511469,
          0.797594613,
          0.168281532,
          0.126853214,
          0.41030858,
          0.23504592,
          0.119698651,
          0.192142673,
          0.015983891,
          -0.31900446,
          -0.237138068,
          -0.017184394,
          0.518896299,
          0.827308995,
          0.968318755,
          1.634145868,
          1.989590574,
          1.036527446,
          0.726896568,
          0.960161653,
          0.419871715,
          -0.196527012,
          -0.615544613,
          -0.530709195,
          0.041184144,
          0.180442634,
          0.283805977,
          0.678267537,
          0.538691634,
          -0.19214003,
          0.018631287,
          0.420826825,
          0.459133419,
          0.439643315,
          0.346795864,
          0.532802765,
          0.743793226,
          0.28765551,
          -0.201406223,
          -0.738482148,
          -1.196568871,
          -1.562108912,
          -0.748749048,
          -0.003770454,
          0.626203276,
          0.385026952,
          -0.238594472,
          -0.861576687,
          -1.037887424,
          -0.343188779,
          -0.025350328,
          0.099226485,
          -0.410421942,
          -0.918159454,
          -1.396637016,
          -1.395087163,
          -1.108115605,
          -0.140440831,
          0.511445244,
          0.216646159,
          -0.143039168,
          -0.547217917,
          -0.857678783,
          -0.958601953,
          -0.413903327,
          -0.622186038,
          -1.42372677,
          -1.845881392,
          -1.997137642,
          -1.287404159,
          -1.175574835,
          -1.603787977,
          -1.045598391,
          -0.482254834,
          -0.763664027,
          -0.597533106,
          0.031570349,
          0.183919299,
          0.189867614,
          -0.04097959,
          -0.211162647,
          -0.309447456,
          -1.064773341,
          -1.772107268,
          -0.415290131,
          0.343584122,
          0.289256053,
          0.590875206,
          0.973109733,
          0.795303038,
          0.679056229,
          0.659164025,
          0.620480575,
          0.578372912,
          0.655445625,
          0.792195755,
          1.036933591,
          1.060901508,
          0.980003713
         ]
        },
        {
         "name": "region_3",
         "nbinsx": 10,
         "type": "histogram",
         "x": [
          4.178484862,
          3.253302451,
          2.550621089,
          2.316362988,
          2.52768641,
          2.985252252,
          3.549408244,
          3.690254995,
          2.776038904,
          3.033211337,
          4.038770885,
          2.729347375,
          1.886488952,
          2.9060845,
          3.357082625,
          3.38999441,
          3.630431859,
          3.853844409,
          3.933884264,
          3.920675883,
          3.828789303,
          2.670892149,
          1.72570721,
          2.438396714,
          3.140722918,
          3.833031266,
          3.836193073,
          3.645816752,
          3.161573892,
          3.206028144,
          3.835825629,
          3.359344451,
          2.754367851,
          3.293084486,
          3.223004948,
          2.380222573,
          2.891974172,
          3.685074052,
          2.96550121,
          2.690266547,
          3.063025064,
          2.880026248,
          2.516034483,
          2.633651612,
          2.564525999,
          2.181333048,
          2.749467172,
          3.712480746,
          3.35446666,
          2.856929145,
          2.087320941,
          2.381749246,
          3.2218373,
          2.525029409,
          2.134523104,
          2.502060768,
          3.073195927,
          3.765389057,
          2.710074659,
          1.933698596,
          2.158563582,
          1.939912138,
          1.417135142,
          2.428824584,
          3.03582255,
          1.885340045,
          1.45672665,
          1.596858616,
          1.654124032,
          1.725477321,
          1.89569897,
          1.860195387,
          1.638875465,
          1.758251736,
          1.913635304,
          1.944960588,
          1.783240079,
          1.421817028,
          1.41642306,
          1.466791719,
          1.352510884,
          1.602155021,
          2.283117643,
          2.055104952,
          1.542306221,
          0.783042373,
          0.965546412,
          2.428854778,
          1.441650436,
          -0.150936023,
          1.419251725,
          2.215328705,
          1.799754049,
          1.882084887,
          2.146261779,
          1.849355674,
          1.778640865,
          2.117224592,
          2.466016953,
          2.819658416
         ]
        },
        {
         "name": "region_4",
         "nbinsx": 10,
         "type": "histogram",
         "x": [
          11.21052705,
          7.948659378,
          5.967696944,
          6.683377113,
          6.577738762,
          6.018213863,
          8.599714307,
          8.459801792,
          1.324111409,
          -2.310740262,
          -3.708944978,
          -0.698270417,
          1.887294819,
          2.285311791,
          1.828480969,
          0.743085592,
          1.686324488,
          2.553274015,
          2.337645109,
          2.362063194,
          2.589020926,
          2.442400073,
          2.308250161,
          2.484230445,
          2.467916249,
          2.265717391,
          2.345980347,
          2.481939348,
          2.607069332,
          2.566738931,
          2.343220247,
          1.829974148,
          1.403278055,
          2.169038258,
          2.562983485,
          2.485009706,
          2.763526463,
          3.077937545,
          2.582199132,
          2.403995084,
          2.688861988,
          2.465971653,
          2.114452035,
          2.888600419,
          3.072815944,
          2.264871662,
          2.015678228,
          2.009047328,
          1.843338861,
          1.903228047,
          2.403032659,
          2.757170016,
          3.036606216,
          3.452761437,
          3.531578468,
          2.836644834,
          2.636729979,
          2.731150615,
          3.002098395,
          3.282562436,
          3.563186246,
          2.831904531,
          1.406744742,
          1.690344095,
          2.079214082,
          2.297894698,
          2.206038468,
          1.869516846,
          2.35466384,
          2.740761162,
          2.305694425,
          2.021173603,
          1.872629735,
          2.270846337,
          2.638833916,
          2.376456545,
          2.388530446,
          2.684519458,
          2.464223637,
          2.204790114,
          2.450113613,
          2.477321458,
          2.246021863,
          2.606103379,
          3.01746007,
          2.405437381,
          2.13879304,
          2.341863252,
          2.22230147,
          2.011407656,
          2.057035879,
          2.001622601,
          1.788057408,
          1.731726121,
          1.725052878,
          1.319828485,
          0.885072248,
          0.396877437,
          -1.72207763,
          -4.615643819
         ]
        },
        {
         "name": "region_5",
         "nbinsx": 10,
         "type": "histogram",
         "x": [
          4.297902806,
          4.107506887,
          4.275535276,
          5.198141157,
          4.926113998,
          3.993894896,
          3.423994542,
          3.033251122,
          3.053722283,
          -0.813254872,
          -7.163879562,
          -8.994964222,
          -9.711583458,
          -8.123272661,
          -6.573386549,
          -5.051753881,
          -6.062247963,
          -7.259178331,
          -8.1014856,
          -8.160331054,
          -7.558130602,
          -6.965442356,
          -6.635990188,
          -7.448693509,
          -7.298693582,
          -6.218080515,
          -7.205052963,
          -8.606778362,
          -9.968485557,
          -7.085385818,
          0.497321595,
          3.160064486,
          4.34747041,
          3.906713162,
          3.9182366,
          4.5038086,
          3.922536725,
          3.219539584,
          5.122504985,
          6.875159051,
          8.408609085,
          9.058774035,
          9.207786696,
          6.137022001,
          4.061862365,
          3.661129419,
          3.938180858,
          4.507921673,
          4.794941523,
          5.110658718,
          5.482335733,
          5.482084506,
          5.291100847,
          5.166742163,
          5.151367145,
          5.381616203,
          5.270667509,
          4.956844477,
          6.346578593,
          7.452013408,
          7.548127251,
          6.610006805,
          4.962697133,
          4.773546834,
          4.841217025,
          5.300405643,
          5.886587538,
          6.572824742,
          9.475805248,
          11.4587055,
          8.669194392,
          5.811886291,
          2.893342197,
          1.951074347,
          1.440571325,
          1.30264031,
          1.491102862,
          2.017213933,
          1.504152508,
          0.883792067,
          1.097566465,
          1.432836503,
          1.912101374,
          2.929906574,
          4.517312868,
          9.791795905,
          11.9137123,
          9.748138051,
          6.632776884,
          3.454123564,
          3.857329331,
          4.864483444,
          6.816948012,
          7.579040759,
          7.81365701,
          6.74698235,
          5.783474455,
          5.006649278,
          5.177288027,
          5.797972142
         ]
        },
        {
         "name": "region_6",
         "nbinsx": 10,
         "type": "histogram",
         "x": [
          2.487019206,
          4.276330538,
          4.821454312,
          2.747235854,
          1.172902955,
          -0.1251774,
          0.096924545,
          0.338881229,
          0.498110285,
          0.062841145,
          -0.752246287,
          -1.900503757,
          -2.392736999,
          -0.889556232,
          2.177135148,
          6.393466683,
          8.4427496,
          9.012743063,
          5.216405221,
          3.100670173,
          2.402943731,
          2.763455459,
          3.524391919,
          5.308280766,
          4.769429008,
          1.985261332,
          0.69909056,
          -0.424921168,
          -2.346458506,
          -2.206970425,
          0.214367227,
          -1.28477992,
          -3.458130153,
          -3.204033053,
          -2.848465655,
          -2.364109033,
          -1.072100843,
          0.511181422,
          2.526514415,
          2.585535647,
          -0.20839777,
          0.24336444,
          1.77084811,
          0.834719314,
          1.122234761,
          3.467697343,
          2.565451964,
          0.265335765,
          -0.413553531,
          -0.039592024,
          2.387428553,
          3.243574886,
          3.294144684,
          2.296418205,
          1.250532872,
          0.136121096,
          0.283313728,
          1.180649522,
          2.659213324,
          4.283958644,
          6.217885532,
          6.4513255,
          5.518717295,
          4.192659574,
          3.761511255,
          6.323955511,
          7.438723768,
          7.412898814,
          6.64274258,
          5.748673873,
          4.761725211,
          5.0035278,
          6.355170229,
          7.712222897,
          8.574110969,
          7.004920695,
          4.875001227,
          2.165017076,
          0.657760778,
          -0.21094797,
          1.233973691,
          1.937872586,
          1.763522276,
          1.344093528,
          0.743366706,
          -0.847018317,
          -0.972959621,
          0.892742532,
          -1.48806651,
          -4.876544897,
          -2.214955543,
          -0.210930036,
          0.763865102,
          5.172466441,
          10.83473013,
          12.61496345,
          12.46294616,
          8.814475387,
          6.34922251,
          4.445998134
         ]
        },
        {
         "name": "region_7",
         "nbinsx": 10,
         "type": "histogram",
         "x": [
          4.215576069,
          -1.81125059,
          -2.433562819,
          8.322050067,
          5.517633684,
          -4.780483084,
          -1.213274129,
          0.166691462,
          -5.059068412,
          -0.471368781,
          10.38604109,
          0.072586231,
          -7.068638491,
          -0.388203673,
          -0.451988864,
          -5.474759357,
          1.427858791,
          5.03186473,
          -7.813220521,
          -8.010809332,
          2.462926979,
          0.747236165,
          -2.038700614,
          -1.151236516,
          -0.717598121,
          -0.722657905,
          -0.112113925,
          0.129668067,
          -2.375191094,
          -1.955121105,
          1.7032633,
          1.342305649,
          -0.299438296,
          -3.832283341,
          3.067603015,
          23.20903307,
          11.82758976,
          -7.082392909,
          -1.383745995,
          -0.279019937,
          -5.873761794,
          -3.313724751,
          1.455557919,
          -9.176852653,
          -10.34324576,
          4.410481422,
          4.266116808,
          -2.198272741,
          4.132180103,
          7.105019435,
          3.530512415,
          -0.598484502,
          -5.011835211,
          3.353690926,
          8.516549452,
          5.882590421,
          -0.70067026,
          -9.632164353,
          -11.34030161,
          -8.96699249,
          3.335233896,
          3.4573144,
          -4.772705131,
          -7.082214889,
          -2.804571199,
          20.88400924,
          17.92678078,
          -6.024115301,
          -2.133303675,
          3.123296245,
          -0.950128265,
          -1.249210819,
          1.860789686,
          -0.818988188,
          -3.509952817,
          -1.149148022,
          0.173612947,
          0.422535476,
          1.358621117,
          1.031291024,
          -8.354216735,
          -6.969194725,
          7.180899604,
          1.383115457,
          -8.312493882,
          -2.64147116,
          -0.574167368,
          -3.407921322,
          1.000871593,
          6.690502348,
          -3.957785064,
          -6.250776995,
          4.534084874,
          2.88703287,
          -3.547197489,
          -3.005004524,
          -0.402143456,
          5.929545606,
          3.976410961,
          -1.912014946
         ]
        },
        {
         "name": "region_8",
         "nbinsx": 10,
         "type": "histogram",
         "x": [
          5.645087134,
          4.555199448,
          4.643390698,
          7.211748128,
          6.704335632,
          4.497155546,
          5.487866036,
          5.161277202,
          1.302967635,
          -1.113633382,
          -2.609142826,
          -0.871506236,
          0.324965513,
          -0.755717423,
          -0.88965753,
          -0.327463204,
          0.211744808,
          0.388244988,
          -0.709474678,
          -0.689715926,
          0.272915241,
          -1.168163039,
          -2.223974619,
          0.046697414,
          0.688984653,
          -0.242833409,
          0.020074995,
          0.417113119,
          0.204751191,
          0.105941813,
          0.13285133,
          -0.267163643,
          -0.655895355,
          -0.151079432,
          0.152457998,
          0.200526571,
          -0.12986958,
          -0.523100201,
          -0.323301606,
          -0.335858555,
          -0.658100673,
          -0.427812606,
          -0.11392556,
          -2.077253263,
          -2.359062215,
          0.187137642,
          1.173027759,
          1.458455194,
          0.847860971,
          0.249606952,
          -0.32458367,
          0.221326862,
          1.341648242,
          1.479914408,
          1.622262842,
          1.812477076,
          1.291589646,
          0.347885011,
          1.63639286,
          2.330281477,
          1.104752101,
          0.010256669,
          -0.994386916,
          -1.539257453,
          -0.574750597,
          5.104489238,
          3.933206074,
          -2.635458846,
          -2.540302247,
          -1.764822376,
          -1.838200196,
          -1.590649607,
          -1.053228194,
          -1.320822885,
          -1.653529913,
          -1.595263192,
          -0.922186311,
          0.386901082,
          -0.726043871,
          -2.202940372,
          -2.461590111,
          -2.180918394,
          -1.261050878,
          -0.677168509,
          -0.328540493,
          -1.219247071,
          -1.675758412,
          -1.541764232,
          -1.152980338,
          -0.719053127,
          -0.858732083,
          -0.865105058,
          -0.662825196,
          -1.145441397,
          -1.894850378,
          -2.347088288,
          -2.600651245,
          -2.49470714,
          -3.126594185,
          -4.108951027
         ]
        }
       ],
       "layout": {
        "template": {
         "data": {
          "bar": [
           {
            "error_x": {
             "color": "#2a3f5f"
            },
            "error_y": {
             "color": "#2a3f5f"
            },
            "marker": {
             "line": {
              "color": "#E5ECF6",
              "width": 0.5
             },
             "pattern": {
              "fillmode": "overlay",
              "size": 10,
              "solidity": 0.2
             }
            },
            "type": "bar"
           }
          ],
          "barpolar": [
           {
            "marker": {
             "line": {
              "color": "#E5ECF6",
              "width": 0.5
             },
             "pattern": {
              "fillmode": "overlay",
              "size": 10,
              "solidity": 0.2
             }
            },
            "type": "barpolar"
           }
          ],
          "carpet": [
           {
            "aaxis": {
             "endlinecolor": "#2a3f5f",
             "gridcolor": "white",
             "linecolor": "white",
             "minorgridcolor": "white",
             "startlinecolor": "#2a3f5f"
            },
            "baxis": {
             "endlinecolor": "#2a3f5f",
             "gridcolor": "white",
             "linecolor": "white",
             "minorgridcolor": "white",
             "startlinecolor": "#2a3f5f"
            },
            "type": "carpet"
           }
          ],
          "choropleth": [
           {
            "colorbar": {
             "outlinewidth": 0,
             "ticks": ""
            },
            "type": "choropleth"
           }
          ],
          "contour": [
           {
            "colorbar": {
             "outlinewidth": 0,
             "ticks": ""
            },
            "colorscale": [
             [
              0,
              "#0d0887"
             ],
             [
              0.1111111111111111,
              "#46039f"
             ],
             [
              0.2222222222222222,
              "#7201a8"
             ],
             [
              0.3333333333333333,
              "#9c179e"
             ],
             [
              0.4444444444444444,
              "#bd3786"
             ],
             [
              0.5555555555555556,
              "#d8576b"
             ],
             [
              0.6666666666666666,
              "#ed7953"
             ],
             [
              0.7777777777777778,
              "#fb9f3a"
             ],
             [
              0.8888888888888888,
              "#fdca26"
             ],
             [
              1,
              "#f0f921"
             ]
            ],
            "type": "contour"
           }
          ],
          "contourcarpet": [
           {
            "colorbar": {
             "outlinewidth": 0,
             "ticks": ""
            },
            "type": "contourcarpet"
           }
          ],
          "heatmap": [
           {
            "colorbar": {
             "outlinewidth": 0,
             "ticks": ""
            },
            "colorscale": [
             [
              0,
              "#0d0887"
             ],
             [
              0.1111111111111111,
              "#46039f"
             ],
             [
              0.2222222222222222,
              "#7201a8"
             ],
             [
              0.3333333333333333,
              "#9c179e"
             ],
             [
              0.4444444444444444,
              "#bd3786"
             ],
             [
              0.5555555555555556,
              "#d8576b"
             ],
             [
              0.6666666666666666,
              "#ed7953"
             ],
             [
              0.7777777777777778,
              "#fb9f3a"
             ],
             [
              0.8888888888888888,
              "#fdca26"
             ],
             [
              1,
              "#f0f921"
             ]
            ],
            "type": "heatmap"
           }
          ],
          "heatmapgl": [
           {
            "colorbar": {
             "outlinewidth": 0,
             "ticks": ""
            },
            "colorscale": [
             [
              0,
              "#0d0887"
             ],
             [
              0.1111111111111111,
              "#46039f"
             ],
             [
              0.2222222222222222,
              "#7201a8"
             ],
             [
              0.3333333333333333,
              "#9c179e"
             ],
             [
              0.4444444444444444,
              "#bd3786"
             ],
             [
              0.5555555555555556,
              "#d8576b"
             ],
             [
              0.6666666666666666,
              "#ed7953"
             ],
             [
              0.7777777777777778,
              "#fb9f3a"
             ],
             [
              0.8888888888888888,
              "#fdca26"
             ],
             [
              1,
              "#f0f921"
             ]
            ],
            "type": "heatmapgl"
           }
          ],
          "histogram": [
           {
            "marker": {
             "pattern": {
              "fillmode": "overlay",
              "size": 10,
              "solidity": 0.2
             }
            },
            "type": "histogram"
           }
          ],
          "histogram2d": [
           {
            "colorbar": {
             "outlinewidth": 0,
             "ticks": ""
            },
            "colorscale": [
             [
              0,
              "#0d0887"
             ],
             [
              0.1111111111111111,
              "#46039f"
             ],
             [
              0.2222222222222222,
              "#7201a8"
             ],
             [
              0.3333333333333333,
              "#9c179e"
             ],
             [
              0.4444444444444444,
              "#bd3786"
             ],
             [
              0.5555555555555556,
              "#d8576b"
             ],
             [
              0.6666666666666666,
              "#ed7953"
             ],
             [
              0.7777777777777778,
              "#fb9f3a"
             ],
             [
              0.8888888888888888,
              "#fdca26"
             ],
             [
              1,
              "#f0f921"
             ]
            ],
            "type": "histogram2d"
           }
          ],
          "histogram2dcontour": [
           {
            "colorbar": {
             "outlinewidth": 0,
             "ticks": ""
            },
            "colorscale": [
             [
              0,
              "#0d0887"
             ],
             [
              0.1111111111111111,
              "#46039f"
             ],
             [
              0.2222222222222222,
              "#7201a8"
             ],
             [
              0.3333333333333333,
              "#9c179e"
             ],
             [
              0.4444444444444444,
              "#bd3786"
             ],
             [
              0.5555555555555556,
              "#d8576b"
             ],
             [
              0.6666666666666666,
              "#ed7953"
             ],
             [
              0.7777777777777778,
              "#fb9f3a"
             ],
             [
              0.8888888888888888,
              "#fdca26"
             ],
             [
              1,
              "#f0f921"
             ]
            ],
            "type": "histogram2dcontour"
           }
          ],
          "mesh3d": [
           {
            "colorbar": {
             "outlinewidth": 0,
             "ticks": ""
            },
            "type": "mesh3d"
           }
          ],
          "parcoords": [
           {
            "line": {
             "colorbar": {
              "outlinewidth": 0,
              "ticks": ""
             }
            },
            "type": "parcoords"
           }
          ],
          "pie": [
           {
            "automargin": true,
            "type": "pie"
           }
          ],
          "scatter": [
           {
            "fillpattern": {
             "fillmode": "overlay",
             "size": 10,
             "solidity": 0.2
            },
            "type": "scatter"
           }
          ],
          "scatter3d": [
           {
            "line": {
             "colorbar": {
              "outlinewidth": 0,
              "ticks": ""
             }
            },
            "marker": {
             "colorbar": {
              "outlinewidth": 0,
              "ticks": ""
             }
            },
            "type": "scatter3d"
           }
          ],
          "scattercarpet": [
           {
            "marker": {
             "colorbar": {
              "outlinewidth": 0,
              "ticks": ""
             }
            },
            "type": "scattercarpet"
           }
          ],
          "scattergeo": [
           {
            "marker": {
             "colorbar": {
              "outlinewidth": 0,
              "ticks": ""
             }
            },
            "type": "scattergeo"
           }
          ],
          "scattergl": [
           {
            "marker": {
             "colorbar": {
              "outlinewidth": 0,
              "ticks": ""
             }
            },
            "type": "scattergl"
           }
          ],
          "scattermapbox": [
           {
            "marker": {
             "colorbar": {
              "outlinewidth": 0,
              "ticks": ""
             }
            },
            "type": "scattermapbox"
           }
          ],
          "scatterpolar": [
           {
            "marker": {
             "colorbar": {
              "outlinewidth": 0,
              "ticks": ""
             }
            },
            "type": "scatterpolar"
           }
          ],
          "scatterpolargl": [
           {
            "marker": {
             "colorbar": {
              "outlinewidth": 0,
              "ticks": ""
             }
            },
            "type": "scatterpolargl"
           }
          ],
          "scatterternary": [
           {
            "marker": {
             "colorbar": {
              "outlinewidth": 0,
              "ticks": ""
             }
            },
            "type": "scatterternary"
           }
          ],
          "surface": [
           {
            "colorbar": {
             "outlinewidth": 0,
             "ticks": ""
            },
            "colorscale": [
             [
              0,
              "#0d0887"
             ],
             [
              0.1111111111111111,
              "#46039f"
             ],
             [
              0.2222222222222222,
              "#7201a8"
             ],
             [
              0.3333333333333333,
              "#9c179e"
             ],
             [
              0.4444444444444444,
              "#bd3786"
             ],
             [
              0.5555555555555556,
              "#d8576b"
             ],
             [
              0.6666666666666666,
              "#ed7953"
             ],
             [
              0.7777777777777778,
              "#fb9f3a"
             ],
             [
              0.8888888888888888,
              "#fdca26"
             ],
             [
              1,
              "#f0f921"
             ]
            ],
            "type": "surface"
           }
          ],
          "table": [
           {
            "cells": {
             "fill": {
              "color": "#EBF0F8"
             },
             "line": {
              "color": "white"
             }
            },
            "header": {
             "fill": {
              "color": "#C8D4E3"
             },
             "line": {
              "color": "white"
             }
            },
            "type": "table"
           }
          ]
         },
         "layout": {
          "annotationdefaults": {
           "arrowcolor": "#2a3f5f",
           "arrowhead": 0,
           "arrowwidth": 1
          },
          "autotypenumbers": "strict",
          "coloraxis": {
           "colorbar": {
            "outlinewidth": 0,
            "ticks": ""
           }
          },
          "colorscale": {
           "diverging": [
            [
             0,
             "#8e0152"
            ],
            [
             0.1,
             "#c51b7d"
            ],
            [
             0.2,
             "#de77ae"
            ],
            [
             0.3,
             "#f1b6da"
            ],
            [
             0.4,
             "#fde0ef"
            ],
            [
             0.5,
             "#f7f7f7"
            ],
            [
             0.6,
             "#e6f5d0"
            ],
            [
             0.7,
             "#b8e186"
            ],
            [
             0.8,
             "#7fbc41"
            ],
            [
             0.9,
             "#4d9221"
            ],
            [
             1,
             "#276419"
            ]
           ],
           "sequential": [
            [
             0,
             "#0d0887"
            ],
            [
             0.1111111111111111,
             "#46039f"
            ],
            [
             0.2222222222222222,
             "#7201a8"
            ],
            [
             0.3333333333333333,
             "#9c179e"
            ],
            [
             0.4444444444444444,
             "#bd3786"
            ],
            [
             0.5555555555555556,
             "#d8576b"
            ],
            [
             0.6666666666666666,
             "#ed7953"
            ],
            [
             0.7777777777777778,
             "#fb9f3a"
            ],
            [
             0.8888888888888888,
             "#fdca26"
            ],
            [
             1,
             "#f0f921"
            ]
           ],
           "sequentialminus": [
            [
             0,
             "#0d0887"
            ],
            [
             0.1111111111111111,
             "#46039f"
            ],
            [
             0.2222222222222222,
             "#7201a8"
            ],
            [
             0.3333333333333333,
             "#9c179e"
            ],
            [
             0.4444444444444444,
             "#bd3786"
            ],
            [
             0.5555555555555556,
             "#d8576b"
            ],
            [
             0.6666666666666666,
             "#ed7953"
            ],
            [
             0.7777777777777778,
             "#fb9f3a"
            ],
            [
             0.8888888888888888,
             "#fdca26"
            ],
            [
             1,
             "#f0f921"
            ]
           ]
          },
          "colorway": [
           "#636efa",
           "#EF553B",
           "#00cc96",
           "#ab63fa",
           "#FFA15A",
           "#19d3f3",
           "#FF6692",
           "#B6E880",
           "#FF97FF",
           "#FECB52"
          ],
          "font": {
           "color": "#2a3f5f"
          },
          "geo": {
           "bgcolor": "white",
           "lakecolor": "white",
           "landcolor": "#E5ECF6",
           "showlakes": true,
           "showland": true,
           "subunitcolor": "white"
          },
          "hoverlabel": {
           "align": "left"
          },
          "hovermode": "closest",
          "mapbox": {
           "style": "light"
          },
          "paper_bgcolor": "white",
          "plot_bgcolor": "#E5ECF6",
          "polar": {
           "angularaxis": {
            "gridcolor": "white",
            "linecolor": "white",
            "ticks": ""
           },
           "bgcolor": "#E5ECF6",
           "radialaxis": {
            "gridcolor": "white",
            "linecolor": "white",
            "ticks": ""
           }
          },
          "scene": {
           "xaxis": {
            "backgroundcolor": "#E5ECF6",
            "gridcolor": "white",
            "gridwidth": 2,
            "linecolor": "white",
            "showbackground": true,
            "ticks": "",
            "zerolinecolor": "white"
           },
           "yaxis": {
            "backgroundcolor": "#E5ECF6",
            "gridcolor": "white",
            "gridwidth": 2,
            "linecolor": "white",
            "showbackground": true,
            "ticks": "",
            "zerolinecolor": "white"
           },
           "zaxis": {
            "backgroundcolor": "#E5ECF6",
            "gridcolor": "white",
            "gridwidth": 2,
            "linecolor": "white",
            "showbackground": true,
            "ticks": "",
            "zerolinecolor": "white"
           }
          },
          "shapedefaults": {
           "line": {
            "color": "#2a3f5f"
           }
          },
          "ternary": {
           "aaxis": {
            "gridcolor": "white",
            "linecolor": "white",
            "ticks": ""
           },
           "baxis": {
            "gridcolor": "white",
            "linecolor": "white",
            "ticks": ""
           },
           "bgcolor": "#E5ECF6",
           "caxis": {
            "gridcolor": "white",
            "linecolor": "white",
            "ticks": ""
           }
          },
          "title": {
           "x": 0.05
          },
          "xaxis": {
           "automargin": true,
           "gridcolor": "white",
           "linecolor": "white",
           "ticks": "",
           "title": {
            "standoff": 15
           },
           "zerolinecolor": "white",
           "zerolinewidth": 2
          },
          "yaxis": {
           "automargin": true,
           "gridcolor": "white",
           "linecolor": "white",
           "ticks": "",
           "title": {
            "standoff": 15
           },
           "zerolinecolor": "white",
           "zerolinewidth": 2
          }
         }
        },
        "title": {
         "text": "Histogram of Region Values"
        },
        "xaxis": {
         "title": {
          "text": "Value"
         }
        },
        "yaxis": {
         "title": {
          "text": "Count"
         }
        }
       }
      },
      "text/html": [
       "<div>                            <div id=\"9456615a-e620-421d-8a10-7025e2eb71c0\" class=\"plotly-graph-div\" style=\"height:525px; width:100%;\"></div>            <script type=\"text/javascript\">                require([\"plotly\"], function(Plotly) {                    window.PLOTLYENV=window.PLOTLYENV || {};                                    if (document.getElementById(\"9456615a-e620-421d-8a10-7025e2eb71c0\")) {                    Plotly.newPlot(                        \"9456615a-e620-421d-8a10-7025e2eb71c0\",                        [{\"name\":\"region_1\",\"nbinsx\":10,\"x\":[-5.494485498,-5.789385583,-5.194742117,-2.727375385,-3.675725961,-6.511709786,-7.064472117,-5.8321753,-0.387658674,3.420805967,6.184015173,5.624731011,5.14825614,5.623487111,5.961442543,6.198460078,6.401197103,6.164962995,4.389178522,3.785920682,4.171982188,5.05491376,5.418842685,3.177929207,2.082189243,2.093450342,2.761355955,3.366809557,2.880812632,2.714705659,2.902762561,3.900149684,4.807646434,3.512364677,2.854321395,3.005080792,2.510881827,1.864980405,1.747752561,1.427394715,0.810805617,1.508100639,2.521127485,0.301922228,0.428756468,4.501202588,5.061116779,4.11413508,5.208248667,5.051573706,2.455861075,0.226042785,-1.816137382,-0.007156887,0.762836276,-0.984995722,-2.202789678,-3.10542588,-0.562432731,1.728869969,2.847676254,4.925241198,7.66024065,6.700807175,7.076339087,12.84236478,11.37529047,4.209410101,4.054810659,4.445672594,3.276272,3.206210644,4.12910086,4.156299195,4.270800469,5.603086382,6.310054381,6.370141779,5.623184118,4.506942614,2.21555901,1.437102078,2.451743427,3.6389708,4.517512531,2.238491332,0.925311217,0.925674975,0.785904441,0.803533901,3.64229276,5.322034018,5.187660769,5.957931294,7.086450544,7.989346359,8.138834395,6.925013119,6.495760119,6.43917705],\"type\":\"histogram\"},{\"name\":\"region_2\",\"nbinsx\":10,\"x\":[2.629440118,1.658511469,0.797594613,0.168281532,0.126853214,0.41030858,0.23504592,0.119698651,0.192142673,0.015983891,-0.31900446,-0.237138068,-0.017184394,0.518896299,0.827308995,0.968318755,1.634145868,1.989590574,1.036527446,0.726896568,0.960161653,0.419871715,-0.196527012,-0.615544613,-0.530709195,0.041184144,0.180442634,0.283805977,0.678267537,0.538691634,-0.19214003,0.018631287,0.420826825,0.459133419,0.439643315,0.346795864,0.532802765,0.743793226,0.28765551,-0.201406223,-0.738482148,-1.196568871,-1.562108912,-0.748749048,-0.003770454,0.626203276,0.385026952,-0.238594472,-0.861576687,-1.037887424,-0.343188779,-0.025350328,0.099226485,-0.410421942,-0.918159454,-1.396637016,-1.395087163,-1.108115605,-0.140440831,0.511445244,0.216646159,-0.143039168,-0.547217917,-0.857678783,-0.958601953,-0.413903327,-0.622186038,-1.42372677,-1.845881392,-1.997137642,-1.287404159,-1.175574835,-1.603787977,-1.045598391,-0.482254834,-0.763664027,-0.597533106,0.031570349,0.183919299,0.189867614,-0.04097959,-0.211162647,-0.309447456,-1.064773341,-1.772107268,-0.415290131,0.343584122,0.289256053,0.590875206,0.973109733,0.795303038,0.679056229,0.659164025,0.620480575,0.578372912,0.655445625,0.792195755,1.036933591,1.060901508,0.980003713],\"type\":\"histogram\"},{\"name\":\"region_3\",\"nbinsx\":10,\"x\":[4.178484862,3.253302451,2.550621089,2.316362988,2.52768641,2.985252252,3.549408244,3.690254995,2.776038904,3.033211337,4.038770885,2.729347375,1.886488952,2.9060845,3.357082625,3.38999441,3.630431859,3.853844409,3.933884264,3.920675883,3.828789303,2.670892149,1.72570721,2.438396714,3.140722918,3.833031266,3.836193073,3.645816752,3.161573892,3.206028144,3.835825629,3.359344451,2.754367851,3.293084486,3.223004948,2.380222573,2.891974172,3.685074052,2.96550121,2.690266547,3.063025064,2.880026248,2.516034483,2.633651612,2.564525999,2.181333048,2.749467172,3.712480746,3.35446666,2.856929145,2.087320941,2.381749246,3.2218373,2.525029409,2.134523104,2.502060768,3.073195927,3.765389057,2.710074659,1.933698596,2.158563582,1.939912138,1.417135142,2.428824584,3.03582255,1.885340045,1.45672665,1.596858616,1.654124032,1.725477321,1.89569897,1.860195387,1.638875465,1.758251736,1.913635304,1.944960588,1.783240079,1.421817028,1.41642306,1.466791719,1.352510884,1.602155021,2.283117643,2.055104952,1.542306221,0.783042373,0.965546412,2.428854778,1.441650436,-0.150936023,1.419251725,2.215328705,1.799754049,1.882084887,2.146261779,1.849355674,1.778640865,2.117224592,2.466016953,2.819658416],\"type\":\"histogram\"},{\"name\":\"region_4\",\"nbinsx\":10,\"x\":[11.21052705,7.948659378,5.967696944,6.683377113,6.577738762,6.018213863,8.599714307,8.459801792,1.324111409,-2.310740262,-3.708944978,-0.698270417,1.887294819,2.285311791,1.828480969,0.743085592,1.686324488,2.553274015,2.337645109,2.362063194,2.589020926,2.442400073,2.308250161,2.484230445,2.467916249,2.265717391,2.345980347,2.481939348,2.607069332,2.566738931,2.343220247,1.829974148,1.403278055,2.169038258,2.562983485,2.485009706,2.763526463,3.077937545,2.582199132,2.403995084,2.688861988,2.465971653,2.114452035,2.888600419,3.072815944,2.264871662,2.015678228,2.009047328,1.843338861,1.903228047,2.403032659,2.757170016,3.036606216,3.452761437,3.531578468,2.836644834,2.636729979,2.731150615,3.002098395,3.282562436,3.563186246,2.831904531,1.406744742,1.690344095,2.079214082,2.297894698,2.206038468,1.869516846,2.35466384,2.740761162,2.305694425,2.021173603,1.872629735,2.270846337,2.638833916,2.376456545,2.388530446,2.684519458,2.464223637,2.204790114,2.450113613,2.477321458,2.246021863,2.606103379,3.01746007,2.405437381,2.13879304,2.341863252,2.22230147,2.011407656,2.057035879,2.001622601,1.788057408,1.731726121,1.725052878,1.319828485,0.885072248,0.396877437,-1.72207763,-4.615643819],\"type\":\"histogram\"},{\"name\":\"region_5\",\"nbinsx\":10,\"x\":[4.297902806,4.107506887,4.275535276,5.198141157,4.926113998,3.993894896,3.423994542,3.033251122,3.053722283,-0.813254872,-7.163879562,-8.994964222,-9.711583458,-8.123272661,-6.573386549,-5.051753881,-6.062247963,-7.259178331,-8.1014856,-8.160331054,-7.558130602,-6.965442356,-6.635990188,-7.448693509,-7.298693582,-6.218080515,-7.205052963,-8.606778362,-9.968485557,-7.085385818,0.497321595,3.160064486,4.34747041,3.906713162,3.9182366,4.5038086,3.922536725,3.219539584,5.122504985,6.875159051,8.408609085,9.058774035,9.207786696,6.137022001,4.061862365,3.661129419,3.938180858,4.507921673,4.794941523,5.110658718,5.482335733,5.482084506,5.291100847,5.166742163,5.151367145,5.381616203,5.270667509,4.956844477,6.346578593,7.452013408,7.548127251,6.610006805,4.962697133,4.773546834,4.841217025,5.300405643,5.886587538,6.572824742,9.475805248,11.4587055,8.669194392,5.811886291,2.893342197,1.951074347,1.440571325,1.30264031,1.491102862,2.017213933,1.504152508,0.883792067,1.097566465,1.432836503,1.912101374,2.929906574,4.517312868,9.791795905,11.9137123,9.748138051,6.632776884,3.454123564,3.857329331,4.864483444,6.816948012,7.579040759,7.81365701,6.74698235,5.783474455,5.006649278,5.177288027,5.797972142],\"type\":\"histogram\"},{\"name\":\"region_6\",\"nbinsx\":10,\"x\":[2.487019206,4.276330538,4.821454312,2.747235854,1.172902955,-0.1251774,0.096924545,0.338881229,0.498110285,0.062841145,-0.752246287,-1.900503757,-2.392736999,-0.889556232,2.177135148,6.393466683,8.4427496,9.012743063,5.216405221,3.100670173,2.402943731,2.763455459,3.524391919,5.308280766,4.769429008,1.985261332,0.69909056,-0.424921168,-2.346458506,-2.206970425,0.214367227,-1.28477992,-3.458130153,-3.204033053,-2.848465655,-2.364109033,-1.072100843,0.511181422,2.526514415,2.585535647,-0.20839777,0.24336444,1.77084811,0.834719314,1.122234761,3.467697343,2.565451964,0.265335765,-0.413553531,-0.039592024,2.387428553,3.243574886,3.294144684,2.296418205,1.250532872,0.136121096,0.283313728,1.180649522,2.659213324,4.283958644,6.217885532,6.4513255,5.518717295,4.192659574,3.761511255,6.323955511,7.438723768,7.412898814,6.64274258,5.748673873,4.761725211,5.0035278,6.355170229,7.712222897,8.574110969,7.004920695,4.875001227,2.165017076,0.657760778,-0.21094797,1.233973691,1.937872586,1.763522276,1.344093528,0.743366706,-0.847018317,-0.972959621,0.892742532,-1.48806651,-4.876544897,-2.214955543,-0.210930036,0.763865102,5.172466441,10.83473013,12.61496345,12.46294616,8.814475387,6.34922251,4.445998134],\"type\":\"histogram\"},{\"name\":\"region_7\",\"nbinsx\":10,\"x\":[4.215576069,-1.81125059,-2.433562819,8.322050067,5.517633684,-4.780483084,-1.213274129,0.166691462,-5.059068412,-0.471368781,10.38604109,0.072586231,-7.068638491,-0.388203673,-0.451988864,-5.474759357,1.427858791,5.03186473,-7.813220521,-8.010809332,2.462926979,0.747236165,-2.038700614,-1.151236516,-0.717598121,-0.722657905,-0.112113925,0.129668067,-2.375191094,-1.955121105,1.7032633,1.342305649,-0.299438296,-3.832283341,3.067603015,23.20903307,11.82758976,-7.082392909,-1.383745995,-0.279019937,-5.873761794,-3.313724751,1.455557919,-9.176852653,-10.34324576,4.410481422,4.266116808,-2.198272741,4.132180103,7.105019435,3.530512415,-0.598484502,-5.011835211,3.353690926,8.516549452,5.882590421,-0.70067026,-9.632164353,-11.34030161,-8.96699249,3.335233896,3.4573144,-4.772705131,-7.082214889,-2.804571199,20.88400924,17.92678078,-6.024115301,-2.133303675,3.123296245,-0.950128265,-1.249210819,1.860789686,-0.818988188,-3.509952817,-1.149148022,0.173612947,0.422535476,1.358621117,1.031291024,-8.354216735,-6.969194725,7.180899604,1.383115457,-8.312493882,-2.64147116,-0.574167368,-3.407921322,1.000871593,6.690502348,-3.957785064,-6.250776995,4.534084874,2.88703287,-3.547197489,-3.005004524,-0.402143456,5.929545606,3.976410961,-1.912014946],\"type\":\"histogram\"},{\"name\":\"region_8\",\"nbinsx\":10,\"x\":[5.645087134,4.555199448,4.643390698,7.211748128,6.704335632,4.497155546,5.487866036,5.161277202,1.302967635,-1.113633382,-2.609142826,-0.871506236,0.324965513,-0.755717423,-0.88965753,-0.327463204,0.211744808,0.388244988,-0.709474678,-0.689715926,0.272915241,-1.168163039,-2.223974619,0.046697414,0.688984653,-0.242833409,0.020074995,0.417113119,0.204751191,0.105941813,0.13285133,-0.267163643,-0.655895355,-0.151079432,0.152457998,0.200526571,-0.12986958,-0.523100201,-0.323301606,-0.335858555,-0.658100673,-0.427812606,-0.11392556,-2.077253263,-2.359062215,0.187137642,1.173027759,1.458455194,0.847860971,0.249606952,-0.32458367,0.221326862,1.341648242,1.479914408,1.622262842,1.812477076,1.291589646,0.347885011,1.63639286,2.330281477,1.104752101,0.010256669,-0.994386916,-1.539257453,-0.574750597,5.104489238,3.933206074,-2.635458846,-2.540302247,-1.764822376,-1.838200196,-1.590649607,-1.053228194,-1.320822885,-1.653529913,-1.595263192,-0.922186311,0.386901082,-0.726043871,-2.202940372,-2.461590111,-2.180918394,-1.261050878,-0.677168509,-0.328540493,-1.219247071,-1.675758412,-1.541764232,-1.152980338,-0.719053127,-0.858732083,-0.865105058,-0.662825196,-1.145441397,-1.894850378,-2.347088288,-2.600651245,-2.49470714,-3.126594185,-4.108951027],\"type\":\"histogram\"}],                        {\"title\":{\"text\":\"Histogram of Region Values\"},\"xaxis\":{\"title\":{\"text\":\"Value\"}},\"yaxis\":{\"title\":{\"text\":\"Count\"}},\"template\":{\"data\":{\"histogram2dcontour\":[{\"type\":\"histogram2dcontour\",\"colorbar\":{\"outlinewidth\":0,\"ticks\":\"\"},\"colorscale\":[[0.0,\"#0d0887\"],[0.1111111111111111,\"#46039f\"],[0.2222222222222222,\"#7201a8\"],[0.3333333333333333,\"#9c179e\"],[0.4444444444444444,\"#bd3786\"],[0.5555555555555556,\"#d8576b\"],[0.6666666666666666,\"#ed7953\"],[0.7777777777777778,\"#fb9f3a\"],[0.8888888888888888,\"#fdca26\"],[1.0,\"#f0f921\"]]}],\"choropleth\":[{\"type\":\"choropleth\",\"colorbar\":{\"outlinewidth\":0,\"ticks\":\"\"}}],\"histogram2d\":[{\"type\":\"histogram2d\",\"colorbar\":{\"outlinewidth\":0,\"ticks\":\"\"},\"colorscale\":[[0.0,\"#0d0887\"],[0.1111111111111111,\"#46039f\"],[0.2222222222222222,\"#7201a8\"],[0.3333333333333333,\"#9c179e\"],[0.4444444444444444,\"#bd3786\"],[0.5555555555555556,\"#d8576b\"],[0.6666666666666666,\"#ed7953\"],[0.7777777777777778,\"#fb9f3a\"],[0.8888888888888888,\"#fdca26\"],[1.0,\"#f0f921\"]]}],\"heatmap\":[{\"type\":\"heatmap\",\"colorbar\":{\"outlinewidth\":0,\"ticks\":\"\"},\"colorscale\":[[0.0,\"#0d0887\"],[0.1111111111111111,\"#46039f\"],[0.2222222222222222,\"#7201a8\"],[0.3333333333333333,\"#9c179e\"],[0.4444444444444444,\"#bd3786\"],[0.5555555555555556,\"#d8576b\"],[0.6666666666666666,\"#ed7953\"],[0.7777777777777778,\"#fb9f3a\"],[0.8888888888888888,\"#fdca26\"],[1.0,\"#f0f921\"]]}],\"heatmapgl\":[{\"type\":\"heatmapgl\",\"colorbar\":{\"outlinewidth\":0,\"ticks\":\"\"},\"colorscale\":[[0.0,\"#0d0887\"],[0.1111111111111111,\"#46039f\"],[0.2222222222222222,\"#7201a8\"],[0.3333333333333333,\"#9c179e\"],[0.4444444444444444,\"#bd3786\"],[0.5555555555555556,\"#d8576b\"],[0.6666666666666666,\"#ed7953\"],[0.7777777777777778,\"#fb9f3a\"],[0.8888888888888888,\"#fdca26\"],[1.0,\"#f0f921\"]]}],\"contourcarpet\":[{\"type\":\"contourcarpet\",\"colorbar\":{\"outlinewidth\":0,\"ticks\":\"\"}}],\"contour\":[{\"type\":\"contour\",\"colorbar\":{\"outlinewidth\":0,\"ticks\":\"\"},\"colorscale\":[[0.0,\"#0d0887\"],[0.1111111111111111,\"#46039f\"],[0.2222222222222222,\"#7201a8\"],[0.3333333333333333,\"#9c179e\"],[0.4444444444444444,\"#bd3786\"],[0.5555555555555556,\"#d8576b\"],[0.6666666666666666,\"#ed7953\"],[0.7777777777777778,\"#fb9f3a\"],[0.8888888888888888,\"#fdca26\"],[1.0,\"#f0f921\"]]}],\"surface\":[{\"type\":\"surface\",\"colorbar\":{\"outlinewidth\":0,\"ticks\":\"\"},\"colorscale\":[[0.0,\"#0d0887\"],[0.1111111111111111,\"#46039f\"],[0.2222222222222222,\"#7201a8\"],[0.3333333333333333,\"#9c179e\"],[0.4444444444444444,\"#bd3786\"],[0.5555555555555556,\"#d8576b\"],[0.6666666666666666,\"#ed7953\"],[0.7777777777777778,\"#fb9f3a\"],[0.8888888888888888,\"#fdca26\"],[1.0,\"#f0f921\"]]}],\"mesh3d\":[{\"type\":\"mesh3d\",\"colorbar\":{\"outlinewidth\":0,\"ticks\":\"\"}}],\"scatter\":[{\"fillpattern\":{\"fillmode\":\"overlay\",\"size\":10,\"solidity\":0.2},\"type\":\"scatter\"}],\"parcoords\":[{\"type\":\"parcoords\",\"line\":{\"colorbar\":{\"outlinewidth\":0,\"ticks\":\"\"}}}],\"scatterpolargl\":[{\"type\":\"scatterpolargl\",\"marker\":{\"colorbar\":{\"outlinewidth\":0,\"ticks\":\"\"}}}],\"bar\":[{\"error_x\":{\"color\":\"#2a3f5f\"},\"error_y\":{\"color\":\"#2a3f5f\"},\"marker\":{\"line\":{\"color\":\"#E5ECF6\",\"width\":0.5},\"pattern\":{\"fillmode\":\"overlay\",\"size\":10,\"solidity\":0.2}},\"type\":\"bar\"}],\"scattergeo\":[{\"type\":\"scattergeo\",\"marker\":{\"colorbar\":{\"outlinewidth\":0,\"ticks\":\"\"}}}],\"scatterpolar\":[{\"type\":\"scatterpolar\",\"marker\":{\"colorbar\":{\"outlinewidth\":0,\"ticks\":\"\"}}}],\"histogram\":[{\"marker\":{\"pattern\":{\"fillmode\":\"overlay\",\"size\":10,\"solidity\":0.2}},\"type\":\"histogram\"}],\"scattergl\":[{\"type\":\"scattergl\",\"marker\":{\"colorbar\":{\"outlinewidth\":0,\"ticks\":\"\"}}}],\"scatter3d\":[{\"type\":\"scatter3d\",\"line\":{\"colorbar\":{\"outlinewidth\":0,\"ticks\":\"\"}},\"marker\":{\"colorbar\":{\"outlinewidth\":0,\"ticks\":\"\"}}}],\"scattermapbox\":[{\"type\":\"scattermapbox\",\"marker\":{\"colorbar\":{\"outlinewidth\":0,\"ticks\":\"\"}}}],\"scatterternary\":[{\"type\":\"scatterternary\",\"marker\":{\"colorbar\":{\"outlinewidth\":0,\"ticks\":\"\"}}}],\"scattercarpet\":[{\"type\":\"scattercarpet\",\"marker\":{\"colorbar\":{\"outlinewidth\":0,\"ticks\":\"\"}}}],\"carpet\":[{\"aaxis\":{\"endlinecolor\":\"#2a3f5f\",\"gridcolor\":\"white\",\"linecolor\":\"white\",\"minorgridcolor\":\"white\",\"startlinecolor\":\"#2a3f5f\"},\"baxis\":{\"endlinecolor\":\"#2a3f5f\",\"gridcolor\":\"white\",\"linecolor\":\"white\",\"minorgridcolor\":\"white\",\"startlinecolor\":\"#2a3f5f\"},\"type\":\"carpet\"}],\"table\":[{\"cells\":{\"fill\":{\"color\":\"#EBF0F8\"},\"line\":{\"color\":\"white\"}},\"header\":{\"fill\":{\"color\":\"#C8D4E3\"},\"line\":{\"color\":\"white\"}},\"type\":\"table\"}],\"barpolar\":[{\"marker\":{\"line\":{\"color\":\"#E5ECF6\",\"width\":0.5},\"pattern\":{\"fillmode\":\"overlay\",\"size\":10,\"solidity\":0.2}},\"type\":\"barpolar\"}],\"pie\":[{\"automargin\":true,\"type\":\"pie\"}]},\"layout\":{\"autotypenumbers\":\"strict\",\"colorway\":[\"#636efa\",\"#EF553B\",\"#00cc96\",\"#ab63fa\",\"#FFA15A\",\"#19d3f3\",\"#FF6692\",\"#B6E880\",\"#FF97FF\",\"#FECB52\"],\"font\":{\"color\":\"#2a3f5f\"},\"hovermode\":\"closest\",\"hoverlabel\":{\"align\":\"left\"},\"paper_bgcolor\":\"white\",\"plot_bgcolor\":\"#E5ECF6\",\"polar\":{\"bgcolor\":\"#E5ECF6\",\"angularaxis\":{\"gridcolor\":\"white\",\"linecolor\":\"white\",\"ticks\":\"\"},\"radialaxis\":{\"gridcolor\":\"white\",\"linecolor\":\"white\",\"ticks\":\"\"}},\"ternary\":{\"bgcolor\":\"#E5ECF6\",\"aaxis\":{\"gridcolor\":\"white\",\"linecolor\":\"white\",\"ticks\":\"\"},\"baxis\":{\"gridcolor\":\"white\",\"linecolor\":\"white\",\"ticks\":\"\"},\"caxis\":{\"gridcolor\":\"white\",\"linecolor\":\"white\",\"ticks\":\"\"}},\"coloraxis\":{\"colorbar\":{\"outlinewidth\":0,\"ticks\":\"\"}},\"colorscale\":{\"sequential\":[[0.0,\"#0d0887\"],[0.1111111111111111,\"#46039f\"],[0.2222222222222222,\"#7201a8\"],[0.3333333333333333,\"#9c179e\"],[0.4444444444444444,\"#bd3786\"],[0.5555555555555556,\"#d8576b\"],[0.6666666666666666,\"#ed7953\"],[0.7777777777777778,\"#fb9f3a\"],[0.8888888888888888,\"#fdca26\"],[1.0,\"#f0f921\"]],\"sequentialminus\":[[0.0,\"#0d0887\"],[0.1111111111111111,\"#46039f\"],[0.2222222222222222,\"#7201a8\"],[0.3333333333333333,\"#9c179e\"],[0.4444444444444444,\"#bd3786\"],[0.5555555555555556,\"#d8576b\"],[0.6666666666666666,\"#ed7953\"],[0.7777777777777778,\"#fb9f3a\"],[0.8888888888888888,\"#fdca26\"],[1.0,\"#f0f921\"]],\"diverging\":[[0,\"#8e0152\"],[0.1,\"#c51b7d\"],[0.2,\"#de77ae\"],[0.3,\"#f1b6da\"],[0.4,\"#fde0ef\"],[0.5,\"#f7f7f7\"],[0.6,\"#e6f5d0\"],[0.7,\"#b8e186\"],[0.8,\"#7fbc41\"],[0.9,\"#4d9221\"],[1,\"#276419\"]]},\"xaxis\":{\"gridcolor\":\"white\",\"linecolor\":\"white\",\"ticks\":\"\",\"title\":{\"standoff\":15},\"zerolinecolor\":\"white\",\"automargin\":true,\"zerolinewidth\":2},\"yaxis\":{\"gridcolor\":\"white\",\"linecolor\":\"white\",\"ticks\":\"\",\"title\":{\"standoff\":15},\"zerolinecolor\":\"white\",\"automargin\":true,\"zerolinewidth\":2},\"scene\":{\"xaxis\":{\"backgroundcolor\":\"#E5ECF6\",\"gridcolor\":\"white\",\"linecolor\":\"white\",\"showbackground\":true,\"ticks\":\"\",\"zerolinecolor\":\"white\",\"gridwidth\":2},\"yaxis\":{\"backgroundcolor\":\"#E5ECF6\",\"gridcolor\":\"white\",\"linecolor\":\"white\",\"showbackground\":true,\"ticks\":\"\",\"zerolinecolor\":\"white\",\"gridwidth\":2},\"zaxis\":{\"backgroundcolor\":\"#E5ECF6\",\"gridcolor\":\"white\",\"linecolor\":\"white\",\"showbackground\":true,\"ticks\":\"\",\"zerolinecolor\":\"white\",\"gridwidth\":2}},\"shapedefaults\":{\"line\":{\"color\":\"#2a3f5f\"}},\"annotationdefaults\":{\"arrowcolor\":\"#2a3f5f\",\"arrowhead\":0,\"arrowwidth\":1},\"geo\":{\"bgcolor\":\"white\",\"landcolor\":\"#E5ECF6\",\"subunitcolor\":\"white\",\"showland\":true,\"showlakes\":true,\"lakecolor\":\"white\"},\"title\":{\"x\":0.05},\"mapbox\":{\"style\":\"light\"}}}},                        {\"responsive\": true}                    ).then(function(){\n",
       "                            \n",
       "var gd = document.getElementById('9456615a-e620-421d-8a10-7025e2eb71c0');\n",
       "var x = new MutationObserver(function (mutations, observer) {{\n",
       "        var display = window.getComputedStyle(gd).display;\n",
       "        if (!display || display === 'none') {{\n",
       "            console.log([gd, 'removed!']);\n",
       "            Plotly.purge(gd);\n",
       "            observer.disconnect();\n",
       "        }}\n",
       "}});\n",
       "\n",
       "// Listen for the removal of the full notebook cells\n",
       "var notebookContainer = gd.closest('#notebook-container');\n",
       "if (notebookContainer) {{\n",
       "    x.observe(notebookContainer, {childList: true});\n",
       "}}\n",
       "\n",
       "// Listen for the clearing of the current output cell\n",
       "var outputEl = gd.closest('.output');\n",
       "if (outputEl) {{\n",
       "    x.observe(outputEl, {childList: true});\n",
       "}}\n",
       "\n",
       "                        })                };                });            </script>        </div>"
      ]
     },
     "metadata": {},
     "output_type": "display_data"
    }
   ],
   "source": [
    "import pandas as pd\n",
    "import plotly.graph_objects as go\n",
    "\n",
    "# 读取数据\n",
    "df = pd.read_excel('数据文件.xls')\n",
    "# 删除day列\n",
    "df = df.drop('day', axis=1)\n",
    "\n",
    "# 创建直方图数据\n",
    "data = [go.Histogram(x=df[column], nbinsx=10, name=column) for column in df.columns]\n",
    "\n",
    "# 设置图表标题和布局\n",
    "layout = go.Layout(title='Histogram of Region Values', xaxis=dict(title='Value'), yaxis=dict(title='Count'))\n",
    "\n",
    "# 绘制直方图\n",
    "fig = go.Figure(data=data, layout=layout)\n",
    "fig.show()\n"
   ]
  },
  {
   "cell_type": "code",
   "execution_count": 4,
   "metadata": {},
   "outputs": [
    {
     "data": {
      "application/vnd.plotly.v1+json": {
       "config": {
        "plotlyServerURL": "https://plot.ly"
       },
       "data": [
        {
         "name": "region_1",
         "type": "box",
         "y": [
          -5.494485498,
          -5.789385583,
          -5.194742117,
          -2.727375385,
          -3.675725961,
          -6.511709786,
          -7.064472117,
          -5.8321753,
          -0.387658674,
          3.420805967,
          6.184015173,
          5.624731011,
          5.14825614,
          5.623487111,
          5.961442543,
          6.198460078,
          6.401197103,
          6.164962995,
          4.389178522,
          3.785920682,
          4.171982188,
          5.05491376,
          5.418842685,
          3.177929207,
          2.082189243,
          2.093450342,
          2.761355955,
          3.366809557,
          2.880812632,
          2.714705659,
          2.902762561,
          3.900149684,
          4.807646434,
          3.512364677,
          2.854321395,
          3.005080792,
          2.510881827,
          1.864980405,
          1.747752561,
          1.427394715,
          0.810805617,
          1.508100639,
          2.521127485,
          0.301922228,
          0.428756468,
          4.501202588,
          5.061116779,
          4.11413508,
          5.208248667,
          5.051573706,
          2.455861075,
          0.226042785,
          -1.816137382,
          -0.007156887,
          0.762836276,
          -0.984995722,
          -2.202789678,
          -3.10542588,
          -0.562432731,
          1.728869969,
          2.847676254,
          4.925241198,
          7.66024065,
          6.700807175,
          7.076339087,
          12.84236478,
          11.37529047,
          4.209410101,
          4.054810659,
          4.445672594,
          3.276272,
          3.206210644,
          4.12910086,
          4.156299195,
          4.270800469,
          5.603086382,
          6.310054381,
          6.370141779,
          5.623184118,
          4.506942614,
          2.21555901,
          1.437102078,
          2.451743427,
          3.6389708,
          4.517512531,
          2.238491332,
          0.925311217,
          0.925674975,
          0.785904441,
          0.803533901,
          3.64229276,
          5.322034018,
          5.187660769,
          5.957931294,
          7.086450544,
          7.989346359,
          8.138834395,
          6.925013119,
          6.495760119,
          6.43917705
         ]
        },
        {
         "name": "region_2",
         "type": "box",
         "y": [
          2.629440118,
          1.658511469,
          0.797594613,
          0.168281532,
          0.126853214,
          0.41030858,
          0.23504592,
          0.119698651,
          0.192142673,
          0.015983891,
          -0.31900446,
          -0.237138068,
          -0.017184394,
          0.518896299,
          0.827308995,
          0.968318755,
          1.634145868,
          1.989590574,
          1.036527446,
          0.726896568,
          0.960161653,
          0.419871715,
          -0.196527012,
          -0.615544613,
          -0.530709195,
          0.041184144,
          0.180442634,
          0.283805977,
          0.678267537,
          0.538691634,
          -0.19214003,
          0.018631287,
          0.420826825,
          0.459133419,
          0.439643315,
          0.346795864,
          0.532802765,
          0.743793226,
          0.28765551,
          -0.201406223,
          -0.738482148,
          -1.196568871,
          -1.562108912,
          -0.748749048,
          -0.003770454,
          0.626203276,
          0.385026952,
          -0.238594472,
          -0.861576687,
          -1.037887424,
          -0.343188779,
          -0.025350328,
          0.099226485,
          -0.410421942,
          -0.918159454,
          -1.396637016,
          -1.395087163,
          -1.108115605,
          -0.140440831,
          0.511445244,
          0.216646159,
          -0.143039168,
          -0.547217917,
          -0.857678783,
          -0.958601953,
          -0.413903327,
          -0.622186038,
          -1.42372677,
          -1.845881392,
          -1.997137642,
          -1.287404159,
          -1.175574835,
          -1.603787977,
          -1.045598391,
          -0.482254834,
          -0.763664027,
          -0.597533106,
          0.031570349,
          0.183919299,
          0.189867614,
          -0.04097959,
          -0.211162647,
          -0.309447456,
          -1.064773341,
          -1.772107268,
          -0.415290131,
          0.343584122,
          0.289256053,
          0.590875206,
          0.973109733,
          0.795303038,
          0.679056229,
          0.659164025,
          0.620480575,
          0.578372912,
          0.655445625,
          0.792195755,
          1.036933591,
          1.060901508,
          0.980003713
         ]
        },
        {
         "name": "region_3",
         "type": "box",
         "y": [
          4.178484862,
          3.253302451,
          2.550621089,
          2.316362988,
          2.52768641,
          2.985252252,
          3.549408244,
          3.690254995,
          2.776038904,
          3.033211337,
          4.038770885,
          2.729347375,
          1.886488952,
          2.9060845,
          3.357082625,
          3.38999441,
          3.630431859,
          3.853844409,
          3.933884264,
          3.920675883,
          3.828789303,
          2.670892149,
          1.72570721,
          2.438396714,
          3.140722918,
          3.833031266,
          3.836193073,
          3.645816752,
          3.161573892,
          3.206028144,
          3.835825629,
          3.359344451,
          2.754367851,
          3.293084486,
          3.223004948,
          2.380222573,
          2.891974172,
          3.685074052,
          2.96550121,
          2.690266547,
          3.063025064,
          2.880026248,
          2.516034483,
          2.633651612,
          2.564525999,
          2.181333048,
          2.749467172,
          3.712480746,
          3.35446666,
          2.856929145,
          2.087320941,
          2.381749246,
          3.2218373,
          2.525029409,
          2.134523104,
          2.502060768,
          3.073195927,
          3.765389057,
          2.710074659,
          1.933698596,
          2.158563582,
          1.939912138,
          1.417135142,
          2.428824584,
          3.03582255,
          1.885340045,
          1.45672665,
          1.596858616,
          1.654124032,
          1.725477321,
          1.89569897,
          1.860195387,
          1.638875465,
          1.758251736,
          1.913635304,
          1.944960588,
          1.783240079,
          1.421817028,
          1.41642306,
          1.466791719,
          1.352510884,
          1.602155021,
          2.283117643,
          2.055104952,
          1.542306221,
          0.783042373,
          0.965546412,
          2.428854778,
          1.441650436,
          -0.150936023,
          1.419251725,
          2.215328705,
          1.799754049,
          1.882084887,
          2.146261779,
          1.849355674,
          1.778640865,
          2.117224592,
          2.466016953,
          2.819658416
         ]
        },
        {
         "name": "region_4",
         "type": "box",
         "y": [
          11.21052705,
          7.948659378,
          5.967696944,
          6.683377113,
          6.577738762,
          6.018213863,
          8.599714307,
          8.459801792,
          1.324111409,
          -2.310740262,
          -3.708944978,
          -0.698270417,
          1.887294819,
          2.285311791,
          1.828480969,
          0.743085592,
          1.686324488,
          2.553274015,
          2.337645109,
          2.362063194,
          2.589020926,
          2.442400073,
          2.308250161,
          2.484230445,
          2.467916249,
          2.265717391,
          2.345980347,
          2.481939348,
          2.607069332,
          2.566738931,
          2.343220247,
          1.829974148,
          1.403278055,
          2.169038258,
          2.562983485,
          2.485009706,
          2.763526463,
          3.077937545,
          2.582199132,
          2.403995084,
          2.688861988,
          2.465971653,
          2.114452035,
          2.888600419,
          3.072815944,
          2.264871662,
          2.015678228,
          2.009047328,
          1.843338861,
          1.903228047,
          2.403032659,
          2.757170016,
          3.036606216,
          3.452761437,
          3.531578468,
          2.836644834,
          2.636729979,
          2.731150615,
          3.002098395,
          3.282562436,
          3.563186246,
          2.831904531,
          1.406744742,
          1.690344095,
          2.079214082,
          2.297894698,
          2.206038468,
          1.869516846,
          2.35466384,
          2.740761162,
          2.305694425,
          2.021173603,
          1.872629735,
          2.270846337,
          2.638833916,
          2.376456545,
          2.388530446,
          2.684519458,
          2.464223637,
          2.204790114,
          2.450113613,
          2.477321458,
          2.246021863,
          2.606103379,
          3.01746007,
          2.405437381,
          2.13879304,
          2.341863252,
          2.22230147,
          2.011407656,
          2.057035879,
          2.001622601,
          1.788057408,
          1.731726121,
          1.725052878,
          1.319828485,
          0.885072248,
          0.396877437,
          -1.72207763,
          -4.615643819
         ]
        },
        {
         "name": "region_5",
         "type": "box",
         "y": [
          4.297902806,
          4.107506887,
          4.275535276,
          5.198141157,
          4.926113998,
          3.993894896,
          3.423994542,
          3.033251122,
          3.053722283,
          -0.813254872,
          -7.163879562,
          -8.994964222,
          -9.711583458,
          -8.123272661,
          -6.573386549,
          -5.051753881,
          -6.062247963,
          -7.259178331,
          -8.1014856,
          -8.160331054,
          -7.558130602,
          -6.965442356,
          -6.635990188,
          -7.448693509,
          -7.298693582,
          -6.218080515,
          -7.205052963,
          -8.606778362,
          -9.968485557,
          -7.085385818,
          0.497321595,
          3.160064486,
          4.34747041,
          3.906713162,
          3.9182366,
          4.5038086,
          3.922536725,
          3.219539584,
          5.122504985,
          6.875159051,
          8.408609085,
          9.058774035,
          9.207786696,
          6.137022001,
          4.061862365,
          3.661129419,
          3.938180858,
          4.507921673,
          4.794941523,
          5.110658718,
          5.482335733,
          5.482084506,
          5.291100847,
          5.166742163,
          5.151367145,
          5.381616203,
          5.270667509,
          4.956844477,
          6.346578593,
          7.452013408,
          7.548127251,
          6.610006805,
          4.962697133,
          4.773546834,
          4.841217025,
          5.300405643,
          5.886587538,
          6.572824742,
          9.475805248,
          11.4587055,
          8.669194392,
          5.811886291,
          2.893342197,
          1.951074347,
          1.440571325,
          1.30264031,
          1.491102862,
          2.017213933,
          1.504152508,
          0.883792067,
          1.097566465,
          1.432836503,
          1.912101374,
          2.929906574,
          4.517312868,
          9.791795905,
          11.9137123,
          9.748138051,
          6.632776884,
          3.454123564,
          3.857329331,
          4.864483444,
          6.816948012,
          7.579040759,
          7.81365701,
          6.74698235,
          5.783474455,
          5.006649278,
          5.177288027,
          5.797972142
         ]
        },
        {
         "name": "region_6",
         "type": "box",
         "y": [
          2.487019206,
          4.276330538,
          4.821454312,
          2.747235854,
          1.172902955,
          -0.1251774,
          0.096924545,
          0.338881229,
          0.498110285,
          0.062841145,
          -0.752246287,
          -1.900503757,
          -2.392736999,
          -0.889556232,
          2.177135148,
          6.393466683,
          8.4427496,
          9.012743063,
          5.216405221,
          3.100670173,
          2.402943731,
          2.763455459,
          3.524391919,
          5.308280766,
          4.769429008,
          1.985261332,
          0.69909056,
          -0.424921168,
          -2.346458506,
          -2.206970425,
          0.214367227,
          -1.28477992,
          -3.458130153,
          -3.204033053,
          -2.848465655,
          -2.364109033,
          -1.072100843,
          0.511181422,
          2.526514415,
          2.585535647,
          -0.20839777,
          0.24336444,
          1.77084811,
          0.834719314,
          1.122234761,
          3.467697343,
          2.565451964,
          0.265335765,
          -0.413553531,
          -0.039592024,
          2.387428553,
          3.243574886,
          3.294144684,
          2.296418205,
          1.250532872,
          0.136121096,
          0.283313728,
          1.180649522,
          2.659213324,
          4.283958644,
          6.217885532,
          6.4513255,
          5.518717295,
          4.192659574,
          3.761511255,
          6.323955511,
          7.438723768,
          7.412898814,
          6.64274258,
          5.748673873,
          4.761725211,
          5.0035278,
          6.355170229,
          7.712222897,
          8.574110969,
          7.004920695,
          4.875001227,
          2.165017076,
          0.657760778,
          -0.21094797,
          1.233973691,
          1.937872586,
          1.763522276,
          1.344093528,
          0.743366706,
          -0.847018317,
          -0.972959621,
          0.892742532,
          -1.48806651,
          -4.876544897,
          -2.214955543,
          -0.210930036,
          0.763865102,
          5.172466441,
          10.83473013,
          12.61496345,
          12.46294616,
          8.814475387,
          6.34922251,
          4.445998134
         ]
        },
        {
         "name": "region_7",
         "type": "box",
         "y": [
          4.215576069,
          -1.81125059,
          -2.433562819,
          8.322050067,
          5.517633684,
          -4.780483084,
          -1.213274129,
          0.166691462,
          -5.059068412,
          -0.471368781,
          10.38604109,
          0.072586231,
          -7.068638491,
          -0.388203673,
          -0.451988864,
          -5.474759357,
          1.427858791,
          5.03186473,
          -7.813220521,
          -8.010809332,
          2.462926979,
          0.747236165,
          -2.038700614,
          -1.151236516,
          -0.717598121,
          -0.722657905,
          -0.112113925,
          0.129668067,
          -2.375191094,
          -1.955121105,
          1.7032633,
          1.342305649,
          -0.299438296,
          -3.832283341,
          3.067603015,
          23.20903307,
          11.82758976,
          -7.082392909,
          -1.383745995,
          -0.279019937,
          -5.873761794,
          -3.313724751,
          1.455557919,
          -9.176852653,
          -10.34324576,
          4.410481422,
          4.266116808,
          -2.198272741,
          4.132180103,
          7.105019435,
          3.530512415,
          -0.598484502,
          -5.011835211,
          3.353690926,
          8.516549452,
          5.882590421,
          -0.70067026,
          -9.632164353,
          -11.34030161,
          -8.96699249,
          3.335233896,
          3.4573144,
          -4.772705131,
          -7.082214889,
          -2.804571199,
          20.88400924,
          17.92678078,
          -6.024115301,
          -2.133303675,
          3.123296245,
          -0.950128265,
          -1.249210819,
          1.860789686,
          -0.818988188,
          -3.509952817,
          -1.149148022,
          0.173612947,
          0.422535476,
          1.358621117,
          1.031291024,
          -8.354216735,
          -6.969194725,
          7.180899604,
          1.383115457,
          -8.312493882,
          -2.64147116,
          -0.574167368,
          -3.407921322,
          1.000871593,
          6.690502348,
          -3.957785064,
          -6.250776995,
          4.534084874,
          2.88703287,
          -3.547197489,
          -3.005004524,
          -0.402143456,
          5.929545606,
          3.976410961,
          -1.912014946
         ]
        },
        {
         "name": "region_8",
         "type": "box",
         "y": [
          5.645087134,
          4.555199448,
          4.643390698,
          7.211748128,
          6.704335632,
          4.497155546,
          5.487866036,
          5.161277202,
          1.302967635,
          -1.113633382,
          -2.609142826,
          -0.871506236,
          0.324965513,
          -0.755717423,
          -0.88965753,
          -0.327463204,
          0.211744808,
          0.388244988,
          -0.709474678,
          -0.689715926,
          0.272915241,
          -1.168163039,
          -2.223974619,
          0.046697414,
          0.688984653,
          -0.242833409,
          0.020074995,
          0.417113119,
          0.204751191,
          0.105941813,
          0.13285133,
          -0.267163643,
          -0.655895355,
          -0.151079432,
          0.152457998,
          0.200526571,
          -0.12986958,
          -0.523100201,
          -0.323301606,
          -0.335858555,
          -0.658100673,
          -0.427812606,
          -0.11392556,
          -2.077253263,
          -2.359062215,
          0.187137642,
          1.173027759,
          1.458455194,
          0.847860971,
          0.249606952,
          -0.32458367,
          0.221326862,
          1.341648242,
          1.479914408,
          1.622262842,
          1.812477076,
          1.291589646,
          0.347885011,
          1.63639286,
          2.330281477,
          1.104752101,
          0.010256669,
          -0.994386916,
          -1.539257453,
          -0.574750597,
          5.104489238,
          3.933206074,
          -2.635458846,
          -2.540302247,
          -1.764822376,
          -1.838200196,
          -1.590649607,
          -1.053228194,
          -1.320822885,
          -1.653529913,
          -1.595263192,
          -0.922186311,
          0.386901082,
          -0.726043871,
          -2.202940372,
          -2.461590111,
          -2.180918394,
          -1.261050878,
          -0.677168509,
          -0.328540493,
          -1.219247071,
          -1.675758412,
          -1.541764232,
          -1.152980338,
          -0.719053127,
          -0.858732083,
          -0.865105058,
          -0.662825196,
          -1.145441397,
          -1.894850378,
          -2.347088288,
          -2.600651245,
          -2.49470714,
          -3.126594185,
          -4.108951027
         ]
        }
       ],
       "layout": {
        "template": {
         "data": {
          "bar": [
           {
            "error_x": {
             "color": "#2a3f5f"
            },
            "error_y": {
             "color": "#2a3f5f"
            },
            "marker": {
             "line": {
              "color": "#E5ECF6",
              "width": 0.5
             },
             "pattern": {
              "fillmode": "overlay",
              "size": 10,
              "solidity": 0.2
             }
            },
            "type": "bar"
           }
          ],
          "barpolar": [
           {
            "marker": {
             "line": {
              "color": "#E5ECF6",
              "width": 0.5
             },
             "pattern": {
              "fillmode": "overlay",
              "size": 10,
              "solidity": 0.2
             }
            },
            "type": "barpolar"
           }
          ],
          "carpet": [
           {
            "aaxis": {
             "endlinecolor": "#2a3f5f",
             "gridcolor": "white",
             "linecolor": "white",
             "minorgridcolor": "white",
             "startlinecolor": "#2a3f5f"
            },
            "baxis": {
             "endlinecolor": "#2a3f5f",
             "gridcolor": "white",
             "linecolor": "white",
             "minorgridcolor": "white",
             "startlinecolor": "#2a3f5f"
            },
            "type": "carpet"
           }
          ],
          "choropleth": [
           {
            "colorbar": {
             "outlinewidth": 0,
             "ticks": ""
            },
            "type": "choropleth"
           }
          ],
          "contour": [
           {
            "colorbar": {
             "outlinewidth": 0,
             "ticks": ""
            },
            "colorscale": [
             [
              0,
              "#0d0887"
             ],
             [
              0.1111111111111111,
              "#46039f"
             ],
             [
              0.2222222222222222,
              "#7201a8"
             ],
             [
              0.3333333333333333,
              "#9c179e"
             ],
             [
              0.4444444444444444,
              "#bd3786"
             ],
             [
              0.5555555555555556,
              "#d8576b"
             ],
             [
              0.6666666666666666,
              "#ed7953"
             ],
             [
              0.7777777777777778,
              "#fb9f3a"
             ],
             [
              0.8888888888888888,
              "#fdca26"
             ],
             [
              1,
              "#f0f921"
             ]
            ],
            "type": "contour"
           }
          ],
          "contourcarpet": [
           {
            "colorbar": {
             "outlinewidth": 0,
             "ticks": ""
            },
            "type": "contourcarpet"
           }
          ],
          "heatmap": [
           {
            "colorbar": {
             "outlinewidth": 0,
             "ticks": ""
            },
            "colorscale": [
             [
              0,
              "#0d0887"
             ],
             [
              0.1111111111111111,
              "#46039f"
             ],
             [
              0.2222222222222222,
              "#7201a8"
             ],
             [
              0.3333333333333333,
              "#9c179e"
             ],
             [
              0.4444444444444444,
              "#bd3786"
             ],
             [
              0.5555555555555556,
              "#d8576b"
             ],
             [
              0.6666666666666666,
              "#ed7953"
             ],
             [
              0.7777777777777778,
              "#fb9f3a"
             ],
             [
              0.8888888888888888,
              "#fdca26"
             ],
             [
              1,
              "#f0f921"
             ]
            ],
            "type": "heatmap"
           }
          ],
          "heatmapgl": [
           {
            "colorbar": {
             "outlinewidth": 0,
             "ticks": ""
            },
            "colorscale": [
             [
              0,
              "#0d0887"
             ],
             [
              0.1111111111111111,
              "#46039f"
             ],
             [
              0.2222222222222222,
              "#7201a8"
             ],
             [
              0.3333333333333333,
              "#9c179e"
             ],
             [
              0.4444444444444444,
              "#bd3786"
             ],
             [
              0.5555555555555556,
              "#d8576b"
             ],
             [
              0.6666666666666666,
              "#ed7953"
             ],
             [
              0.7777777777777778,
              "#fb9f3a"
             ],
             [
              0.8888888888888888,
              "#fdca26"
             ],
             [
              1,
              "#f0f921"
             ]
            ],
            "type": "heatmapgl"
           }
          ],
          "histogram": [
           {
            "marker": {
             "pattern": {
              "fillmode": "overlay",
              "size": 10,
              "solidity": 0.2
             }
            },
            "type": "histogram"
           }
          ],
          "histogram2d": [
           {
            "colorbar": {
             "outlinewidth": 0,
             "ticks": ""
            },
            "colorscale": [
             [
              0,
              "#0d0887"
             ],
             [
              0.1111111111111111,
              "#46039f"
             ],
             [
              0.2222222222222222,
              "#7201a8"
             ],
             [
              0.3333333333333333,
              "#9c179e"
             ],
             [
              0.4444444444444444,
              "#bd3786"
             ],
             [
              0.5555555555555556,
              "#d8576b"
             ],
             [
              0.6666666666666666,
              "#ed7953"
             ],
             [
              0.7777777777777778,
              "#fb9f3a"
             ],
             [
              0.8888888888888888,
              "#fdca26"
             ],
             [
              1,
              "#f0f921"
             ]
            ],
            "type": "histogram2d"
           }
          ],
          "histogram2dcontour": [
           {
            "colorbar": {
             "outlinewidth": 0,
             "ticks": ""
            },
            "colorscale": [
             [
              0,
              "#0d0887"
             ],
             [
              0.1111111111111111,
              "#46039f"
             ],
             [
              0.2222222222222222,
              "#7201a8"
             ],
             [
              0.3333333333333333,
              "#9c179e"
             ],
             [
              0.4444444444444444,
              "#bd3786"
             ],
             [
              0.5555555555555556,
              "#d8576b"
             ],
             [
              0.6666666666666666,
              "#ed7953"
             ],
             [
              0.7777777777777778,
              "#fb9f3a"
             ],
             [
              0.8888888888888888,
              "#fdca26"
             ],
             [
              1,
              "#f0f921"
             ]
            ],
            "type": "histogram2dcontour"
           }
          ],
          "mesh3d": [
           {
            "colorbar": {
             "outlinewidth": 0,
             "ticks": ""
            },
            "type": "mesh3d"
           }
          ],
          "parcoords": [
           {
            "line": {
             "colorbar": {
              "outlinewidth": 0,
              "ticks": ""
             }
            },
            "type": "parcoords"
           }
          ],
          "pie": [
           {
            "automargin": true,
            "type": "pie"
           }
          ],
          "scatter": [
           {
            "fillpattern": {
             "fillmode": "overlay",
             "size": 10,
             "solidity": 0.2
            },
            "type": "scatter"
           }
          ],
          "scatter3d": [
           {
            "line": {
             "colorbar": {
              "outlinewidth": 0,
              "ticks": ""
             }
            },
            "marker": {
             "colorbar": {
              "outlinewidth": 0,
              "ticks": ""
             }
            },
            "type": "scatter3d"
           }
          ],
          "scattercarpet": [
           {
            "marker": {
             "colorbar": {
              "outlinewidth": 0,
              "ticks": ""
             }
            },
            "type": "scattercarpet"
           }
          ],
          "scattergeo": [
           {
            "marker": {
             "colorbar": {
              "outlinewidth": 0,
              "ticks": ""
             }
            },
            "type": "scattergeo"
           }
          ],
          "scattergl": [
           {
            "marker": {
             "colorbar": {
              "outlinewidth": 0,
              "ticks": ""
             }
            },
            "type": "scattergl"
           }
          ],
          "scattermapbox": [
           {
            "marker": {
             "colorbar": {
              "outlinewidth": 0,
              "ticks": ""
             }
            },
            "type": "scattermapbox"
           }
          ],
          "scatterpolar": [
           {
            "marker": {
             "colorbar": {
              "outlinewidth": 0,
              "ticks": ""
             }
            },
            "type": "scatterpolar"
           }
          ],
          "scatterpolargl": [
           {
            "marker": {
             "colorbar": {
              "outlinewidth": 0,
              "ticks": ""
             }
            },
            "type": "scatterpolargl"
           }
          ],
          "scatterternary": [
           {
            "marker": {
             "colorbar": {
              "outlinewidth": 0,
              "ticks": ""
             }
            },
            "type": "scatterternary"
           }
          ],
          "surface": [
           {
            "colorbar": {
             "outlinewidth": 0,
             "ticks": ""
            },
            "colorscale": [
             [
              0,
              "#0d0887"
             ],
             [
              0.1111111111111111,
              "#46039f"
             ],
             [
              0.2222222222222222,
              "#7201a8"
             ],
             [
              0.3333333333333333,
              "#9c179e"
             ],
             [
              0.4444444444444444,
              "#bd3786"
             ],
             [
              0.5555555555555556,
              "#d8576b"
             ],
             [
              0.6666666666666666,
              "#ed7953"
             ],
             [
              0.7777777777777778,
              "#fb9f3a"
             ],
             [
              0.8888888888888888,
              "#fdca26"
             ],
             [
              1,
              "#f0f921"
             ]
            ],
            "type": "surface"
           }
          ],
          "table": [
           {
            "cells": {
             "fill": {
              "color": "#EBF0F8"
             },
             "line": {
              "color": "white"
             }
            },
            "header": {
             "fill": {
              "color": "#C8D4E3"
             },
             "line": {
              "color": "white"
             }
            },
            "type": "table"
           }
          ]
         },
         "layout": {
          "annotationdefaults": {
           "arrowcolor": "#2a3f5f",
           "arrowhead": 0,
           "arrowwidth": 1
          },
          "autotypenumbers": "strict",
          "coloraxis": {
           "colorbar": {
            "outlinewidth": 0,
            "ticks": ""
           }
          },
          "colorscale": {
           "diverging": [
            [
             0,
             "#8e0152"
            ],
            [
             0.1,
             "#c51b7d"
            ],
            [
             0.2,
             "#de77ae"
            ],
            [
             0.3,
             "#f1b6da"
            ],
            [
             0.4,
             "#fde0ef"
            ],
            [
             0.5,
             "#f7f7f7"
            ],
            [
             0.6,
             "#e6f5d0"
            ],
            [
             0.7,
             "#b8e186"
            ],
            [
             0.8,
             "#7fbc41"
            ],
            [
             0.9,
             "#4d9221"
            ],
            [
             1,
             "#276419"
            ]
           ],
           "sequential": [
            [
             0,
             "#0d0887"
            ],
            [
             0.1111111111111111,
             "#46039f"
            ],
            [
             0.2222222222222222,
             "#7201a8"
            ],
            [
             0.3333333333333333,
             "#9c179e"
            ],
            [
             0.4444444444444444,
             "#bd3786"
            ],
            [
             0.5555555555555556,
             "#d8576b"
            ],
            [
             0.6666666666666666,
             "#ed7953"
            ],
            [
             0.7777777777777778,
             "#fb9f3a"
            ],
            [
             0.8888888888888888,
             "#fdca26"
            ],
            [
             1,
             "#f0f921"
            ]
           ],
           "sequentialminus": [
            [
             0,
             "#0d0887"
            ],
            [
             0.1111111111111111,
             "#46039f"
            ],
            [
             0.2222222222222222,
             "#7201a8"
            ],
            [
             0.3333333333333333,
             "#9c179e"
            ],
            [
             0.4444444444444444,
             "#bd3786"
            ],
            [
             0.5555555555555556,
             "#d8576b"
            ],
            [
             0.6666666666666666,
             "#ed7953"
            ],
            [
             0.7777777777777778,
             "#fb9f3a"
            ],
            [
             0.8888888888888888,
             "#fdca26"
            ],
            [
             1,
             "#f0f921"
            ]
           ]
          },
          "colorway": [
           "#636efa",
           "#EF553B",
           "#00cc96",
           "#ab63fa",
           "#FFA15A",
           "#19d3f3",
           "#FF6692",
           "#B6E880",
           "#FF97FF",
           "#FECB52"
          ],
          "font": {
           "color": "#2a3f5f"
          },
          "geo": {
           "bgcolor": "white",
           "lakecolor": "white",
           "landcolor": "#E5ECF6",
           "showlakes": true,
           "showland": true,
           "subunitcolor": "white"
          },
          "hoverlabel": {
           "align": "left"
          },
          "hovermode": "closest",
          "mapbox": {
           "style": "light"
          },
          "paper_bgcolor": "white",
          "plot_bgcolor": "#E5ECF6",
          "polar": {
           "angularaxis": {
            "gridcolor": "white",
            "linecolor": "white",
            "ticks": ""
           },
           "bgcolor": "#E5ECF6",
           "radialaxis": {
            "gridcolor": "white",
            "linecolor": "white",
            "ticks": ""
           }
          },
          "scene": {
           "xaxis": {
            "backgroundcolor": "#E5ECF6",
            "gridcolor": "white",
            "gridwidth": 2,
            "linecolor": "white",
            "showbackground": true,
            "ticks": "",
            "zerolinecolor": "white"
           },
           "yaxis": {
            "backgroundcolor": "#E5ECF6",
            "gridcolor": "white",
            "gridwidth": 2,
            "linecolor": "white",
            "showbackground": true,
            "ticks": "",
            "zerolinecolor": "white"
           },
           "zaxis": {
            "backgroundcolor": "#E5ECF6",
            "gridcolor": "white",
            "gridwidth": 2,
            "linecolor": "white",
            "showbackground": true,
            "ticks": "",
            "zerolinecolor": "white"
           }
          },
          "shapedefaults": {
           "line": {
            "color": "#2a3f5f"
           }
          },
          "ternary": {
           "aaxis": {
            "gridcolor": "white",
            "linecolor": "white",
            "ticks": ""
           },
           "baxis": {
            "gridcolor": "white",
            "linecolor": "white",
            "ticks": ""
           },
           "bgcolor": "#E5ECF6",
           "caxis": {
            "gridcolor": "white",
            "linecolor": "white",
            "ticks": ""
           }
          },
          "title": {
           "x": 0.05
          },
          "xaxis": {
           "automargin": true,
           "gridcolor": "white",
           "linecolor": "white",
           "ticks": "",
           "title": {
            "standoff": 15
           },
           "zerolinecolor": "white",
           "zerolinewidth": 2
          },
          "yaxis": {
           "automargin": true,
           "gridcolor": "white",
           "linecolor": "white",
           "ticks": "",
           "title": {
            "standoff": 15
           },
           "zerolinecolor": "white",
           "zerolinewidth": 2
          }
         }
        },
        "title": {
         "text": "Boxplot of Region Values"
        },
        "yaxis": {
         "title": {
          "text": "Value"
         }
        }
       }
      },
      "text/html": [
       "<div>                            <div id=\"07ab72b9-62d9-470d-92a3-7af0bc3e15ae\" class=\"plotly-graph-div\" style=\"height:525px; width:100%;\"></div>            <script type=\"text/javascript\">                require([\"plotly\"], function(Plotly) {                    window.PLOTLYENV=window.PLOTLYENV || {};                                    if (document.getElementById(\"07ab72b9-62d9-470d-92a3-7af0bc3e15ae\")) {                    Plotly.newPlot(                        \"07ab72b9-62d9-470d-92a3-7af0bc3e15ae\",                        [{\"name\":\"region_1\",\"y\":[-5.494485498,-5.789385583,-5.194742117,-2.727375385,-3.675725961,-6.511709786,-7.064472117,-5.8321753,-0.387658674,3.420805967,6.184015173,5.624731011,5.14825614,5.623487111,5.961442543,6.198460078,6.401197103,6.164962995,4.389178522,3.785920682,4.171982188,5.05491376,5.418842685,3.177929207,2.082189243,2.093450342,2.761355955,3.366809557,2.880812632,2.714705659,2.902762561,3.900149684,4.807646434,3.512364677,2.854321395,3.005080792,2.510881827,1.864980405,1.747752561,1.427394715,0.810805617,1.508100639,2.521127485,0.301922228,0.428756468,4.501202588,5.061116779,4.11413508,5.208248667,5.051573706,2.455861075,0.226042785,-1.816137382,-0.007156887,0.762836276,-0.984995722,-2.202789678,-3.10542588,-0.562432731,1.728869969,2.847676254,4.925241198,7.66024065,6.700807175,7.076339087,12.84236478,11.37529047,4.209410101,4.054810659,4.445672594,3.276272,3.206210644,4.12910086,4.156299195,4.270800469,5.603086382,6.310054381,6.370141779,5.623184118,4.506942614,2.21555901,1.437102078,2.451743427,3.6389708,4.517512531,2.238491332,0.925311217,0.925674975,0.785904441,0.803533901,3.64229276,5.322034018,5.187660769,5.957931294,7.086450544,7.989346359,8.138834395,6.925013119,6.495760119,6.43917705],\"type\":\"box\"},{\"name\":\"region_2\",\"y\":[2.629440118,1.658511469,0.797594613,0.168281532,0.126853214,0.41030858,0.23504592,0.119698651,0.192142673,0.015983891,-0.31900446,-0.237138068,-0.017184394,0.518896299,0.827308995,0.968318755,1.634145868,1.989590574,1.036527446,0.726896568,0.960161653,0.419871715,-0.196527012,-0.615544613,-0.530709195,0.041184144,0.180442634,0.283805977,0.678267537,0.538691634,-0.19214003,0.018631287,0.420826825,0.459133419,0.439643315,0.346795864,0.532802765,0.743793226,0.28765551,-0.201406223,-0.738482148,-1.196568871,-1.562108912,-0.748749048,-0.003770454,0.626203276,0.385026952,-0.238594472,-0.861576687,-1.037887424,-0.343188779,-0.025350328,0.099226485,-0.410421942,-0.918159454,-1.396637016,-1.395087163,-1.108115605,-0.140440831,0.511445244,0.216646159,-0.143039168,-0.547217917,-0.857678783,-0.958601953,-0.413903327,-0.622186038,-1.42372677,-1.845881392,-1.997137642,-1.287404159,-1.175574835,-1.603787977,-1.045598391,-0.482254834,-0.763664027,-0.597533106,0.031570349,0.183919299,0.189867614,-0.04097959,-0.211162647,-0.309447456,-1.064773341,-1.772107268,-0.415290131,0.343584122,0.289256053,0.590875206,0.973109733,0.795303038,0.679056229,0.659164025,0.620480575,0.578372912,0.655445625,0.792195755,1.036933591,1.060901508,0.980003713],\"type\":\"box\"},{\"name\":\"region_3\",\"y\":[4.178484862,3.253302451,2.550621089,2.316362988,2.52768641,2.985252252,3.549408244,3.690254995,2.776038904,3.033211337,4.038770885,2.729347375,1.886488952,2.9060845,3.357082625,3.38999441,3.630431859,3.853844409,3.933884264,3.920675883,3.828789303,2.670892149,1.72570721,2.438396714,3.140722918,3.833031266,3.836193073,3.645816752,3.161573892,3.206028144,3.835825629,3.359344451,2.754367851,3.293084486,3.223004948,2.380222573,2.891974172,3.685074052,2.96550121,2.690266547,3.063025064,2.880026248,2.516034483,2.633651612,2.564525999,2.181333048,2.749467172,3.712480746,3.35446666,2.856929145,2.087320941,2.381749246,3.2218373,2.525029409,2.134523104,2.502060768,3.073195927,3.765389057,2.710074659,1.933698596,2.158563582,1.939912138,1.417135142,2.428824584,3.03582255,1.885340045,1.45672665,1.596858616,1.654124032,1.725477321,1.89569897,1.860195387,1.638875465,1.758251736,1.913635304,1.944960588,1.783240079,1.421817028,1.41642306,1.466791719,1.352510884,1.602155021,2.283117643,2.055104952,1.542306221,0.783042373,0.965546412,2.428854778,1.441650436,-0.150936023,1.419251725,2.215328705,1.799754049,1.882084887,2.146261779,1.849355674,1.778640865,2.117224592,2.466016953,2.819658416],\"type\":\"box\"},{\"name\":\"region_4\",\"y\":[11.21052705,7.948659378,5.967696944,6.683377113,6.577738762,6.018213863,8.599714307,8.459801792,1.324111409,-2.310740262,-3.708944978,-0.698270417,1.887294819,2.285311791,1.828480969,0.743085592,1.686324488,2.553274015,2.337645109,2.362063194,2.589020926,2.442400073,2.308250161,2.484230445,2.467916249,2.265717391,2.345980347,2.481939348,2.607069332,2.566738931,2.343220247,1.829974148,1.403278055,2.169038258,2.562983485,2.485009706,2.763526463,3.077937545,2.582199132,2.403995084,2.688861988,2.465971653,2.114452035,2.888600419,3.072815944,2.264871662,2.015678228,2.009047328,1.843338861,1.903228047,2.403032659,2.757170016,3.036606216,3.452761437,3.531578468,2.836644834,2.636729979,2.731150615,3.002098395,3.282562436,3.563186246,2.831904531,1.406744742,1.690344095,2.079214082,2.297894698,2.206038468,1.869516846,2.35466384,2.740761162,2.305694425,2.021173603,1.872629735,2.270846337,2.638833916,2.376456545,2.388530446,2.684519458,2.464223637,2.204790114,2.450113613,2.477321458,2.246021863,2.606103379,3.01746007,2.405437381,2.13879304,2.341863252,2.22230147,2.011407656,2.057035879,2.001622601,1.788057408,1.731726121,1.725052878,1.319828485,0.885072248,0.396877437,-1.72207763,-4.615643819],\"type\":\"box\"},{\"name\":\"region_5\",\"y\":[4.297902806,4.107506887,4.275535276,5.198141157,4.926113998,3.993894896,3.423994542,3.033251122,3.053722283,-0.813254872,-7.163879562,-8.994964222,-9.711583458,-8.123272661,-6.573386549,-5.051753881,-6.062247963,-7.259178331,-8.1014856,-8.160331054,-7.558130602,-6.965442356,-6.635990188,-7.448693509,-7.298693582,-6.218080515,-7.205052963,-8.606778362,-9.968485557,-7.085385818,0.497321595,3.160064486,4.34747041,3.906713162,3.9182366,4.5038086,3.922536725,3.219539584,5.122504985,6.875159051,8.408609085,9.058774035,9.207786696,6.137022001,4.061862365,3.661129419,3.938180858,4.507921673,4.794941523,5.110658718,5.482335733,5.482084506,5.291100847,5.166742163,5.151367145,5.381616203,5.270667509,4.956844477,6.346578593,7.452013408,7.548127251,6.610006805,4.962697133,4.773546834,4.841217025,5.300405643,5.886587538,6.572824742,9.475805248,11.4587055,8.669194392,5.811886291,2.893342197,1.951074347,1.440571325,1.30264031,1.491102862,2.017213933,1.504152508,0.883792067,1.097566465,1.432836503,1.912101374,2.929906574,4.517312868,9.791795905,11.9137123,9.748138051,6.632776884,3.454123564,3.857329331,4.864483444,6.816948012,7.579040759,7.81365701,6.74698235,5.783474455,5.006649278,5.177288027,5.797972142],\"type\":\"box\"},{\"name\":\"region_6\",\"y\":[2.487019206,4.276330538,4.821454312,2.747235854,1.172902955,-0.1251774,0.096924545,0.338881229,0.498110285,0.062841145,-0.752246287,-1.900503757,-2.392736999,-0.889556232,2.177135148,6.393466683,8.4427496,9.012743063,5.216405221,3.100670173,2.402943731,2.763455459,3.524391919,5.308280766,4.769429008,1.985261332,0.69909056,-0.424921168,-2.346458506,-2.206970425,0.214367227,-1.28477992,-3.458130153,-3.204033053,-2.848465655,-2.364109033,-1.072100843,0.511181422,2.526514415,2.585535647,-0.20839777,0.24336444,1.77084811,0.834719314,1.122234761,3.467697343,2.565451964,0.265335765,-0.413553531,-0.039592024,2.387428553,3.243574886,3.294144684,2.296418205,1.250532872,0.136121096,0.283313728,1.180649522,2.659213324,4.283958644,6.217885532,6.4513255,5.518717295,4.192659574,3.761511255,6.323955511,7.438723768,7.412898814,6.64274258,5.748673873,4.761725211,5.0035278,6.355170229,7.712222897,8.574110969,7.004920695,4.875001227,2.165017076,0.657760778,-0.21094797,1.233973691,1.937872586,1.763522276,1.344093528,0.743366706,-0.847018317,-0.972959621,0.892742532,-1.48806651,-4.876544897,-2.214955543,-0.210930036,0.763865102,5.172466441,10.83473013,12.61496345,12.46294616,8.814475387,6.34922251,4.445998134],\"type\":\"box\"},{\"name\":\"region_7\",\"y\":[4.215576069,-1.81125059,-2.433562819,8.322050067,5.517633684,-4.780483084,-1.213274129,0.166691462,-5.059068412,-0.471368781,10.38604109,0.072586231,-7.068638491,-0.388203673,-0.451988864,-5.474759357,1.427858791,5.03186473,-7.813220521,-8.010809332,2.462926979,0.747236165,-2.038700614,-1.151236516,-0.717598121,-0.722657905,-0.112113925,0.129668067,-2.375191094,-1.955121105,1.7032633,1.342305649,-0.299438296,-3.832283341,3.067603015,23.20903307,11.82758976,-7.082392909,-1.383745995,-0.279019937,-5.873761794,-3.313724751,1.455557919,-9.176852653,-10.34324576,4.410481422,4.266116808,-2.198272741,4.132180103,7.105019435,3.530512415,-0.598484502,-5.011835211,3.353690926,8.516549452,5.882590421,-0.70067026,-9.632164353,-11.34030161,-8.96699249,3.335233896,3.4573144,-4.772705131,-7.082214889,-2.804571199,20.88400924,17.92678078,-6.024115301,-2.133303675,3.123296245,-0.950128265,-1.249210819,1.860789686,-0.818988188,-3.509952817,-1.149148022,0.173612947,0.422535476,1.358621117,1.031291024,-8.354216735,-6.969194725,7.180899604,1.383115457,-8.312493882,-2.64147116,-0.574167368,-3.407921322,1.000871593,6.690502348,-3.957785064,-6.250776995,4.534084874,2.88703287,-3.547197489,-3.005004524,-0.402143456,5.929545606,3.976410961,-1.912014946],\"type\":\"box\"},{\"name\":\"region_8\",\"y\":[5.645087134,4.555199448,4.643390698,7.211748128,6.704335632,4.497155546,5.487866036,5.161277202,1.302967635,-1.113633382,-2.609142826,-0.871506236,0.324965513,-0.755717423,-0.88965753,-0.327463204,0.211744808,0.388244988,-0.709474678,-0.689715926,0.272915241,-1.168163039,-2.223974619,0.046697414,0.688984653,-0.242833409,0.020074995,0.417113119,0.204751191,0.105941813,0.13285133,-0.267163643,-0.655895355,-0.151079432,0.152457998,0.200526571,-0.12986958,-0.523100201,-0.323301606,-0.335858555,-0.658100673,-0.427812606,-0.11392556,-2.077253263,-2.359062215,0.187137642,1.173027759,1.458455194,0.847860971,0.249606952,-0.32458367,0.221326862,1.341648242,1.479914408,1.622262842,1.812477076,1.291589646,0.347885011,1.63639286,2.330281477,1.104752101,0.010256669,-0.994386916,-1.539257453,-0.574750597,5.104489238,3.933206074,-2.635458846,-2.540302247,-1.764822376,-1.838200196,-1.590649607,-1.053228194,-1.320822885,-1.653529913,-1.595263192,-0.922186311,0.386901082,-0.726043871,-2.202940372,-2.461590111,-2.180918394,-1.261050878,-0.677168509,-0.328540493,-1.219247071,-1.675758412,-1.541764232,-1.152980338,-0.719053127,-0.858732083,-0.865105058,-0.662825196,-1.145441397,-1.894850378,-2.347088288,-2.600651245,-2.49470714,-3.126594185,-4.108951027],\"type\":\"box\"}],                        {\"title\":{\"text\":\"Boxplot of Region Values\"},\"yaxis\":{\"title\":{\"text\":\"Value\"}},\"template\":{\"data\":{\"histogram2dcontour\":[{\"type\":\"histogram2dcontour\",\"colorbar\":{\"outlinewidth\":0,\"ticks\":\"\"},\"colorscale\":[[0.0,\"#0d0887\"],[0.1111111111111111,\"#46039f\"],[0.2222222222222222,\"#7201a8\"],[0.3333333333333333,\"#9c179e\"],[0.4444444444444444,\"#bd3786\"],[0.5555555555555556,\"#d8576b\"],[0.6666666666666666,\"#ed7953\"],[0.7777777777777778,\"#fb9f3a\"],[0.8888888888888888,\"#fdca26\"],[1.0,\"#f0f921\"]]}],\"choropleth\":[{\"type\":\"choropleth\",\"colorbar\":{\"outlinewidth\":0,\"ticks\":\"\"}}],\"histogram2d\":[{\"type\":\"histogram2d\",\"colorbar\":{\"outlinewidth\":0,\"ticks\":\"\"},\"colorscale\":[[0.0,\"#0d0887\"],[0.1111111111111111,\"#46039f\"],[0.2222222222222222,\"#7201a8\"],[0.3333333333333333,\"#9c179e\"],[0.4444444444444444,\"#bd3786\"],[0.5555555555555556,\"#d8576b\"],[0.6666666666666666,\"#ed7953\"],[0.7777777777777778,\"#fb9f3a\"],[0.8888888888888888,\"#fdca26\"],[1.0,\"#f0f921\"]]}],\"heatmap\":[{\"type\":\"heatmap\",\"colorbar\":{\"outlinewidth\":0,\"ticks\":\"\"},\"colorscale\":[[0.0,\"#0d0887\"],[0.1111111111111111,\"#46039f\"],[0.2222222222222222,\"#7201a8\"],[0.3333333333333333,\"#9c179e\"],[0.4444444444444444,\"#bd3786\"],[0.5555555555555556,\"#d8576b\"],[0.6666666666666666,\"#ed7953\"],[0.7777777777777778,\"#fb9f3a\"],[0.8888888888888888,\"#fdca26\"],[1.0,\"#f0f921\"]]}],\"heatmapgl\":[{\"type\":\"heatmapgl\",\"colorbar\":{\"outlinewidth\":0,\"ticks\":\"\"},\"colorscale\":[[0.0,\"#0d0887\"],[0.1111111111111111,\"#46039f\"],[0.2222222222222222,\"#7201a8\"],[0.3333333333333333,\"#9c179e\"],[0.4444444444444444,\"#bd3786\"],[0.5555555555555556,\"#d8576b\"],[0.6666666666666666,\"#ed7953\"],[0.7777777777777778,\"#fb9f3a\"],[0.8888888888888888,\"#fdca26\"],[1.0,\"#f0f921\"]]}],\"contourcarpet\":[{\"type\":\"contourcarpet\",\"colorbar\":{\"outlinewidth\":0,\"ticks\":\"\"}}],\"contour\":[{\"type\":\"contour\",\"colorbar\":{\"outlinewidth\":0,\"ticks\":\"\"},\"colorscale\":[[0.0,\"#0d0887\"],[0.1111111111111111,\"#46039f\"],[0.2222222222222222,\"#7201a8\"],[0.3333333333333333,\"#9c179e\"],[0.4444444444444444,\"#bd3786\"],[0.5555555555555556,\"#d8576b\"],[0.6666666666666666,\"#ed7953\"],[0.7777777777777778,\"#fb9f3a\"],[0.8888888888888888,\"#fdca26\"],[1.0,\"#f0f921\"]]}],\"surface\":[{\"type\":\"surface\",\"colorbar\":{\"outlinewidth\":0,\"ticks\":\"\"},\"colorscale\":[[0.0,\"#0d0887\"],[0.1111111111111111,\"#46039f\"],[0.2222222222222222,\"#7201a8\"],[0.3333333333333333,\"#9c179e\"],[0.4444444444444444,\"#bd3786\"],[0.5555555555555556,\"#d8576b\"],[0.6666666666666666,\"#ed7953\"],[0.7777777777777778,\"#fb9f3a\"],[0.8888888888888888,\"#fdca26\"],[1.0,\"#f0f921\"]]}],\"mesh3d\":[{\"type\":\"mesh3d\",\"colorbar\":{\"outlinewidth\":0,\"ticks\":\"\"}}],\"scatter\":[{\"fillpattern\":{\"fillmode\":\"overlay\",\"size\":10,\"solidity\":0.2},\"type\":\"scatter\"}],\"parcoords\":[{\"type\":\"parcoords\",\"line\":{\"colorbar\":{\"outlinewidth\":0,\"ticks\":\"\"}}}],\"scatterpolargl\":[{\"type\":\"scatterpolargl\",\"marker\":{\"colorbar\":{\"outlinewidth\":0,\"ticks\":\"\"}}}],\"bar\":[{\"error_x\":{\"color\":\"#2a3f5f\"},\"error_y\":{\"color\":\"#2a3f5f\"},\"marker\":{\"line\":{\"color\":\"#E5ECF6\",\"width\":0.5},\"pattern\":{\"fillmode\":\"overlay\",\"size\":10,\"solidity\":0.2}},\"type\":\"bar\"}],\"scattergeo\":[{\"type\":\"scattergeo\",\"marker\":{\"colorbar\":{\"outlinewidth\":0,\"ticks\":\"\"}}}],\"scatterpolar\":[{\"type\":\"scatterpolar\",\"marker\":{\"colorbar\":{\"outlinewidth\":0,\"ticks\":\"\"}}}],\"histogram\":[{\"marker\":{\"pattern\":{\"fillmode\":\"overlay\",\"size\":10,\"solidity\":0.2}},\"type\":\"histogram\"}],\"scattergl\":[{\"type\":\"scattergl\",\"marker\":{\"colorbar\":{\"outlinewidth\":0,\"ticks\":\"\"}}}],\"scatter3d\":[{\"type\":\"scatter3d\",\"line\":{\"colorbar\":{\"outlinewidth\":0,\"ticks\":\"\"}},\"marker\":{\"colorbar\":{\"outlinewidth\":0,\"ticks\":\"\"}}}],\"scattermapbox\":[{\"type\":\"scattermapbox\",\"marker\":{\"colorbar\":{\"outlinewidth\":0,\"ticks\":\"\"}}}],\"scatterternary\":[{\"type\":\"scatterternary\",\"marker\":{\"colorbar\":{\"outlinewidth\":0,\"ticks\":\"\"}}}],\"scattercarpet\":[{\"type\":\"scattercarpet\",\"marker\":{\"colorbar\":{\"outlinewidth\":0,\"ticks\":\"\"}}}],\"carpet\":[{\"aaxis\":{\"endlinecolor\":\"#2a3f5f\",\"gridcolor\":\"white\",\"linecolor\":\"white\",\"minorgridcolor\":\"white\",\"startlinecolor\":\"#2a3f5f\"},\"baxis\":{\"endlinecolor\":\"#2a3f5f\",\"gridcolor\":\"white\",\"linecolor\":\"white\",\"minorgridcolor\":\"white\",\"startlinecolor\":\"#2a3f5f\"},\"type\":\"carpet\"}],\"table\":[{\"cells\":{\"fill\":{\"color\":\"#EBF0F8\"},\"line\":{\"color\":\"white\"}},\"header\":{\"fill\":{\"color\":\"#C8D4E3\"},\"line\":{\"color\":\"white\"}},\"type\":\"table\"}],\"barpolar\":[{\"marker\":{\"line\":{\"color\":\"#E5ECF6\",\"width\":0.5},\"pattern\":{\"fillmode\":\"overlay\",\"size\":10,\"solidity\":0.2}},\"type\":\"barpolar\"}],\"pie\":[{\"automargin\":true,\"type\":\"pie\"}]},\"layout\":{\"autotypenumbers\":\"strict\",\"colorway\":[\"#636efa\",\"#EF553B\",\"#00cc96\",\"#ab63fa\",\"#FFA15A\",\"#19d3f3\",\"#FF6692\",\"#B6E880\",\"#FF97FF\",\"#FECB52\"],\"font\":{\"color\":\"#2a3f5f\"},\"hovermode\":\"closest\",\"hoverlabel\":{\"align\":\"left\"},\"paper_bgcolor\":\"white\",\"plot_bgcolor\":\"#E5ECF6\",\"polar\":{\"bgcolor\":\"#E5ECF6\",\"angularaxis\":{\"gridcolor\":\"white\",\"linecolor\":\"white\",\"ticks\":\"\"},\"radialaxis\":{\"gridcolor\":\"white\",\"linecolor\":\"white\",\"ticks\":\"\"}},\"ternary\":{\"bgcolor\":\"#E5ECF6\",\"aaxis\":{\"gridcolor\":\"white\",\"linecolor\":\"white\",\"ticks\":\"\"},\"baxis\":{\"gridcolor\":\"white\",\"linecolor\":\"white\",\"ticks\":\"\"},\"caxis\":{\"gridcolor\":\"white\",\"linecolor\":\"white\",\"ticks\":\"\"}},\"coloraxis\":{\"colorbar\":{\"outlinewidth\":0,\"ticks\":\"\"}},\"colorscale\":{\"sequential\":[[0.0,\"#0d0887\"],[0.1111111111111111,\"#46039f\"],[0.2222222222222222,\"#7201a8\"],[0.3333333333333333,\"#9c179e\"],[0.4444444444444444,\"#bd3786\"],[0.5555555555555556,\"#d8576b\"],[0.6666666666666666,\"#ed7953\"],[0.7777777777777778,\"#fb9f3a\"],[0.8888888888888888,\"#fdca26\"],[1.0,\"#f0f921\"]],\"sequentialminus\":[[0.0,\"#0d0887\"],[0.1111111111111111,\"#46039f\"],[0.2222222222222222,\"#7201a8\"],[0.3333333333333333,\"#9c179e\"],[0.4444444444444444,\"#bd3786\"],[0.5555555555555556,\"#d8576b\"],[0.6666666666666666,\"#ed7953\"],[0.7777777777777778,\"#fb9f3a\"],[0.8888888888888888,\"#fdca26\"],[1.0,\"#f0f921\"]],\"diverging\":[[0,\"#8e0152\"],[0.1,\"#c51b7d\"],[0.2,\"#de77ae\"],[0.3,\"#f1b6da\"],[0.4,\"#fde0ef\"],[0.5,\"#f7f7f7\"],[0.6,\"#e6f5d0\"],[0.7,\"#b8e186\"],[0.8,\"#7fbc41\"],[0.9,\"#4d9221\"],[1,\"#276419\"]]},\"xaxis\":{\"gridcolor\":\"white\",\"linecolor\":\"white\",\"ticks\":\"\",\"title\":{\"standoff\":15},\"zerolinecolor\":\"white\",\"automargin\":true,\"zerolinewidth\":2},\"yaxis\":{\"gridcolor\":\"white\",\"linecolor\":\"white\",\"ticks\":\"\",\"title\":{\"standoff\":15},\"zerolinecolor\":\"white\",\"automargin\":true,\"zerolinewidth\":2},\"scene\":{\"xaxis\":{\"backgroundcolor\":\"#E5ECF6\",\"gridcolor\":\"white\",\"linecolor\":\"white\",\"showbackground\":true,\"ticks\":\"\",\"zerolinecolor\":\"white\",\"gridwidth\":2},\"yaxis\":{\"backgroundcolor\":\"#E5ECF6\",\"gridcolor\":\"white\",\"linecolor\":\"white\",\"showbackground\":true,\"ticks\":\"\",\"zerolinecolor\":\"white\",\"gridwidth\":2},\"zaxis\":{\"backgroundcolor\":\"#E5ECF6\",\"gridcolor\":\"white\",\"linecolor\":\"white\",\"showbackground\":true,\"ticks\":\"\",\"zerolinecolor\":\"white\",\"gridwidth\":2}},\"shapedefaults\":{\"line\":{\"color\":\"#2a3f5f\"}},\"annotationdefaults\":{\"arrowcolor\":\"#2a3f5f\",\"arrowhead\":0,\"arrowwidth\":1},\"geo\":{\"bgcolor\":\"white\",\"landcolor\":\"#E5ECF6\",\"subunitcolor\":\"white\",\"showland\":true,\"showlakes\":true,\"lakecolor\":\"white\"},\"title\":{\"x\":0.05},\"mapbox\":{\"style\":\"light\"}}}},                        {\"responsive\": true}                    ).then(function(){\n",
       "                            \n",
       "var gd = document.getElementById('07ab72b9-62d9-470d-92a3-7af0bc3e15ae');\n",
       "var x = new MutationObserver(function (mutations, observer) {{\n",
       "        var display = window.getComputedStyle(gd).display;\n",
       "        if (!display || display === 'none') {{\n",
       "            console.log([gd, 'removed!']);\n",
       "            Plotly.purge(gd);\n",
       "            observer.disconnect();\n",
       "        }}\n",
       "}});\n",
       "\n",
       "// Listen for the removal of the full notebook cells\n",
       "var notebookContainer = gd.closest('#notebook-container');\n",
       "if (notebookContainer) {{\n",
       "    x.observe(notebookContainer, {childList: true});\n",
       "}}\n",
       "\n",
       "// Listen for the clearing of the current output cell\n",
       "var outputEl = gd.closest('.output');\n",
       "if (outputEl) {{\n",
       "    x.observe(outputEl, {childList: true});\n",
       "}}\n",
       "\n",
       "                        })                };                });            </script>        </div>"
      ]
     },
     "metadata": {},
     "output_type": "display_data"
    }
   ],
   "source": [
    "import pandas as pd\n",
    "import plotly.graph_objects as go\n",
    "\n",
    "# 读取数据\n",
    "df = pd.read_excel('数据文件.xls')\n",
    "# 删除day列\n",
    "df = df.drop('day', axis=1)\n",
    "\n",
    "# 创建箱线图数据\n",
    "data = [go.Box(y=df[column], name=column) for column in df.columns]\n",
    "\n",
    "# 设置图表标题和布局\n",
    "layout = go.Layout(title='Boxplot of Region Values', yaxis=dict(title='Value'))\n",
    "\n",
    "# 绘制箱线图\n",
    "fig = go.Figure(data=data, layout=layout)\n",
    "fig.show()\n"
   ]
  },
  {
   "cell_type": "code",
   "execution_count": 14,
   "metadata": {},
   "outputs": [
    {
     "data": {
      "application/vnd.plotly.v1+json": {
       "config": {
        "plotlyServerURL": "https://plot.ly"
       },
       "data": [
        {
         "colorbar": {
          "title": {
           "text": "Correlation"
          }
         },
         "colorscale": [
          [
           0,
           "rgb(103,0,31)"
          ],
          [
           0.1,
           "rgb(178,24,43)"
          ],
          [
           0.2,
           "rgb(214,96,77)"
          ],
          [
           0.3,
           "rgb(244,165,130)"
          ],
          [
           0.4,
           "rgb(253,219,199)"
          ],
          [
           0.5,
           "rgb(247,247,247)"
          ],
          [
           0.6,
           "rgb(209,229,240)"
          ],
          [
           0.7,
           "rgb(146,197,222)"
          ],
          [
           0.8,
           "rgb(67,147,195)"
          ],
          [
           0.9,
           "rgb(33,102,172)"
          ],
          [
           1,
           "rgb(5,48,97)"
          ]
         ],
         "type": "heatmap",
         "x": [
          "region_1",
          "region_2",
          "region_3",
          "region_4",
          "region_5",
          "region_6",
          "region_7",
          "region_8"
         ],
         "y": [
          "region_1",
          "region_2",
          "region_3",
          "region_4",
          "region_5",
          "region_6",
          "region_7",
          "region_8"
         ],
         "z": [
          [
           1,
           -0.06845584352881078,
           -0.254037170543084,
           -0.6889386437607067,
           -0.17296075251190088,
           0.3608793472982205,
           0.22658040381914657,
           -0.543311018427721
          ],
          [
           -0.06845584352881078,
           1,
           0.28913638234954736,
           0.13517210430509685,
           -0.30299104531568116,
           -0.003219635686882542,
           0.04620079201949864,
           0.165352600634705
          ],
          [
           -0.254037170543084,
           0.28913638234954736,
           1,
           0.13261571821235135,
           -0.43921665977101393,
           -0.1447889099343326,
           -0.08198897691231682,
           0.2830025016462213
          ],
          [
           -0.6889386437607067,
           0.13517210430509685,
           0.13261571821235135,
           1,
           0.1409802574770119,
           -0.07366787787912783,
           -0.015726733784975553,
           0.743572223054782
          ],
          [
           -0.17296075251190088,
           -0.30299104531568116,
           -0.43921665977101393,
           0.1409802574770119,
           1,
           0.11337998780841742,
           0.062480114790227435,
           0.04084144482883529
          ],
          [
           0.3608793472982205,
           -0.003219635686882542,
           -0.1447889099343326,
           -0.07366787787912783,
           0.11337998780841742,
           1,
           -0.0073742021774929915,
           -0.13508826103437163
          ],
          [
           0.22658040381914657,
           0.04620079201949864,
           -0.08198897691231682,
           -0.015726733784975553,
           0.062480114790227435,
           -0.0073742021774929915,
           1,
           0.2761118648981361
          ],
          [
           -0.543311018427721,
           0.165352600634705,
           0.2830025016462213,
           0.743572223054782,
           0.04084144482883529,
           -0.13508826103437163,
           0.2761118648981361,
           1
          ]
         ],
         "zmax": 1,
         "zmin": -1
        }
       ],
       "layout": {
        "annotations": [
         {
          "font": {
           "size": 14
          },
          "showarrow": false,
          "text": "1.0",
          "x": "region_1",
          "y": "region_1"
         },
         {
          "font": {
           "size": 14
          },
          "showarrow": false,
          "text": "-0.07",
          "x": "region_2",
          "y": "region_1"
         },
         {
          "font": {
           "size": 14
          },
          "showarrow": false,
          "text": "-0.25",
          "x": "region_3",
          "y": "region_1"
         },
         {
          "font": {
           "size": 14
          },
          "showarrow": false,
          "text": "-0.69",
          "x": "region_4",
          "y": "region_1"
         },
         {
          "font": {
           "size": 14
          },
          "showarrow": false,
          "text": "-0.17",
          "x": "region_5",
          "y": "region_1"
         },
         {
          "font": {
           "size": 14
          },
          "showarrow": false,
          "text": "0.36",
          "x": "region_6",
          "y": "region_1"
         },
         {
          "font": {
           "size": 14
          },
          "showarrow": false,
          "text": "0.23",
          "x": "region_7",
          "y": "region_1"
         },
         {
          "font": {
           "size": 14
          },
          "showarrow": false,
          "text": "-0.54",
          "x": "region_8",
          "y": "region_1"
         },
         {
          "font": {
           "size": 14
          },
          "showarrow": false,
          "text": "-0.07",
          "x": "region_1",
          "y": "region_2"
         },
         {
          "font": {
           "size": 14
          },
          "showarrow": false,
          "text": "1.0",
          "x": "region_2",
          "y": "region_2"
         },
         {
          "font": {
           "size": 14
          },
          "showarrow": false,
          "text": "0.29",
          "x": "region_3",
          "y": "region_2"
         },
         {
          "font": {
           "size": 14
          },
          "showarrow": false,
          "text": "0.14",
          "x": "region_4",
          "y": "region_2"
         },
         {
          "font": {
           "size": 14
          },
          "showarrow": false,
          "text": "-0.3",
          "x": "region_5",
          "y": "region_2"
         },
         {
          "font": {
           "size": 14
          },
          "showarrow": false,
          "text": "-0.0",
          "x": "region_6",
          "y": "region_2"
         },
         {
          "font": {
           "size": 14
          },
          "showarrow": false,
          "text": "0.05",
          "x": "region_7",
          "y": "region_2"
         },
         {
          "font": {
           "size": 14
          },
          "showarrow": false,
          "text": "0.17",
          "x": "region_8",
          "y": "region_2"
         },
         {
          "font": {
           "size": 14
          },
          "showarrow": false,
          "text": "-0.25",
          "x": "region_1",
          "y": "region_3"
         },
         {
          "font": {
           "size": 14
          },
          "showarrow": false,
          "text": "0.29",
          "x": "region_2",
          "y": "region_3"
         },
         {
          "font": {
           "size": 14
          },
          "showarrow": false,
          "text": "1.0",
          "x": "region_3",
          "y": "region_3"
         },
         {
          "font": {
           "size": 14
          },
          "showarrow": false,
          "text": "0.13",
          "x": "region_4",
          "y": "region_3"
         },
         {
          "font": {
           "size": 14
          },
          "showarrow": false,
          "text": "-0.44",
          "x": "region_5",
          "y": "region_3"
         },
         {
          "font": {
           "size": 14
          },
          "showarrow": false,
          "text": "-0.14",
          "x": "region_6",
          "y": "region_3"
         },
         {
          "font": {
           "size": 14
          },
          "showarrow": false,
          "text": "-0.08",
          "x": "region_7",
          "y": "region_3"
         },
         {
          "font": {
           "size": 14
          },
          "showarrow": false,
          "text": "0.28",
          "x": "region_8",
          "y": "region_3"
         },
         {
          "font": {
           "size": 14
          },
          "showarrow": false,
          "text": "-0.69",
          "x": "region_1",
          "y": "region_4"
         },
         {
          "font": {
           "size": 14
          },
          "showarrow": false,
          "text": "0.14",
          "x": "region_2",
          "y": "region_4"
         },
         {
          "font": {
           "size": 14
          },
          "showarrow": false,
          "text": "0.13",
          "x": "region_3",
          "y": "region_4"
         },
         {
          "font": {
           "size": 14
          },
          "showarrow": false,
          "text": "1.0",
          "x": "region_4",
          "y": "region_4"
         },
         {
          "font": {
           "size": 14
          },
          "showarrow": false,
          "text": "0.14",
          "x": "region_5",
          "y": "region_4"
         },
         {
          "font": {
           "size": 14
          },
          "showarrow": false,
          "text": "-0.07",
          "x": "region_6",
          "y": "region_4"
         },
         {
          "font": {
           "size": 14
          },
          "showarrow": false,
          "text": "-0.02",
          "x": "region_7",
          "y": "region_4"
         },
         {
          "font": {
           "size": 14
          },
          "showarrow": false,
          "text": "0.74",
          "x": "region_8",
          "y": "region_4"
         },
         {
          "font": {
           "size": 14
          },
          "showarrow": false,
          "text": "-0.17",
          "x": "region_1",
          "y": "region_5"
         },
         {
          "font": {
           "size": 14
          },
          "showarrow": false,
          "text": "-0.3",
          "x": "region_2",
          "y": "region_5"
         },
         {
          "font": {
           "size": 14
          },
          "showarrow": false,
          "text": "-0.44",
          "x": "region_3",
          "y": "region_5"
         },
         {
          "font": {
           "size": 14
          },
          "showarrow": false,
          "text": "0.14",
          "x": "region_4",
          "y": "region_5"
         },
         {
          "font": {
           "size": 14
          },
          "showarrow": false,
          "text": "1.0",
          "x": "region_5",
          "y": "region_5"
         },
         {
          "font": {
           "size": 14
          },
          "showarrow": false,
          "text": "0.11",
          "x": "region_6",
          "y": "region_5"
         },
         {
          "font": {
           "size": 14
          },
          "showarrow": false,
          "text": "0.06",
          "x": "region_7",
          "y": "region_5"
         },
         {
          "font": {
           "size": 14
          },
          "showarrow": false,
          "text": "0.04",
          "x": "region_8",
          "y": "region_5"
         },
         {
          "font": {
           "size": 14
          },
          "showarrow": false,
          "text": "0.36",
          "x": "region_1",
          "y": "region_6"
         },
         {
          "font": {
           "size": 14
          },
          "showarrow": false,
          "text": "-0.0",
          "x": "region_2",
          "y": "region_6"
         },
         {
          "font": {
           "size": 14
          },
          "showarrow": false,
          "text": "-0.14",
          "x": "region_3",
          "y": "region_6"
         },
         {
          "font": {
           "size": 14
          },
          "showarrow": false,
          "text": "-0.07",
          "x": "region_4",
          "y": "region_6"
         },
         {
          "font": {
           "size": 14
          },
          "showarrow": false,
          "text": "0.11",
          "x": "region_5",
          "y": "region_6"
         },
         {
          "font": {
           "size": 14
          },
          "showarrow": false,
          "text": "1.0",
          "x": "region_6",
          "y": "region_6"
         },
         {
          "font": {
           "size": 14
          },
          "showarrow": false,
          "text": "-0.01",
          "x": "region_7",
          "y": "region_6"
         },
         {
          "font": {
           "size": 14
          },
          "showarrow": false,
          "text": "-0.14",
          "x": "region_8",
          "y": "region_6"
         },
         {
          "font": {
           "size": 14
          },
          "showarrow": false,
          "text": "0.23",
          "x": "region_1",
          "y": "region_7"
         },
         {
          "font": {
           "size": 14
          },
          "showarrow": false,
          "text": "0.05",
          "x": "region_2",
          "y": "region_7"
         },
         {
          "font": {
           "size": 14
          },
          "showarrow": false,
          "text": "-0.08",
          "x": "region_3",
          "y": "region_7"
         },
         {
          "font": {
           "size": 14
          },
          "showarrow": false,
          "text": "-0.02",
          "x": "region_4",
          "y": "region_7"
         },
         {
          "font": {
           "size": 14
          },
          "showarrow": false,
          "text": "0.06",
          "x": "region_5",
          "y": "region_7"
         },
         {
          "font": {
           "size": 14
          },
          "showarrow": false,
          "text": "-0.01",
          "x": "region_6",
          "y": "region_7"
         },
         {
          "font": {
           "size": 14
          },
          "showarrow": false,
          "text": "1.0",
          "x": "region_7",
          "y": "region_7"
         },
         {
          "font": {
           "size": 14
          },
          "showarrow": false,
          "text": "0.28",
          "x": "region_8",
          "y": "region_7"
         },
         {
          "font": {
           "size": 14
          },
          "showarrow": false,
          "text": "-0.54",
          "x": "region_1",
          "y": "region_8"
         },
         {
          "font": {
           "size": 14
          },
          "showarrow": false,
          "text": "0.17",
          "x": "region_2",
          "y": "region_8"
         },
         {
          "font": {
           "size": 14
          },
          "showarrow": false,
          "text": "0.28",
          "x": "region_3",
          "y": "region_8"
         },
         {
          "font": {
           "size": 14
          },
          "showarrow": false,
          "text": "0.74",
          "x": "region_4",
          "y": "region_8"
         },
         {
          "font": {
           "size": 14
          },
          "showarrow": false,
          "text": "0.04",
          "x": "region_5",
          "y": "region_8"
         },
         {
          "font": {
           "size": 14
          },
          "showarrow": false,
          "text": "-0.14",
          "x": "region_6",
          "y": "region_8"
         },
         {
          "font": {
           "size": 14
          },
          "showarrow": false,
          "text": "0.28",
          "x": "region_7",
          "y": "region_8"
         },
         {
          "font": {
           "size": 14
          },
          "showarrow": false,
          "text": "1.0",
          "x": "region_8",
          "y": "region_8"
         }
        ],
        "template": {
         "data": {
          "bar": [
           {
            "error_x": {
             "color": "#2a3f5f"
            },
            "error_y": {
             "color": "#2a3f5f"
            },
            "marker": {
             "line": {
              "color": "#E5ECF6",
              "width": 0.5
             },
             "pattern": {
              "fillmode": "overlay",
              "size": 10,
              "solidity": 0.2
             }
            },
            "type": "bar"
           }
          ],
          "barpolar": [
           {
            "marker": {
             "line": {
              "color": "#E5ECF6",
              "width": 0.5
             },
             "pattern": {
              "fillmode": "overlay",
              "size": 10,
              "solidity": 0.2
             }
            },
            "type": "barpolar"
           }
          ],
          "carpet": [
           {
            "aaxis": {
             "endlinecolor": "#2a3f5f",
             "gridcolor": "white",
             "linecolor": "white",
             "minorgridcolor": "white",
             "startlinecolor": "#2a3f5f"
            },
            "baxis": {
             "endlinecolor": "#2a3f5f",
             "gridcolor": "white",
             "linecolor": "white",
             "minorgridcolor": "white",
             "startlinecolor": "#2a3f5f"
            },
            "type": "carpet"
           }
          ],
          "choropleth": [
           {
            "colorbar": {
             "outlinewidth": 0,
             "ticks": ""
            },
            "type": "choropleth"
           }
          ],
          "contour": [
           {
            "colorbar": {
             "outlinewidth": 0,
             "ticks": ""
            },
            "colorscale": [
             [
              0,
              "#0d0887"
             ],
             [
              0.1111111111111111,
              "#46039f"
             ],
             [
              0.2222222222222222,
              "#7201a8"
             ],
             [
              0.3333333333333333,
              "#9c179e"
             ],
             [
              0.4444444444444444,
              "#bd3786"
             ],
             [
              0.5555555555555556,
              "#d8576b"
             ],
             [
              0.6666666666666666,
              "#ed7953"
             ],
             [
              0.7777777777777778,
              "#fb9f3a"
             ],
             [
              0.8888888888888888,
              "#fdca26"
             ],
             [
              1,
              "#f0f921"
             ]
            ],
            "type": "contour"
           }
          ],
          "contourcarpet": [
           {
            "colorbar": {
             "outlinewidth": 0,
             "ticks": ""
            },
            "type": "contourcarpet"
           }
          ],
          "heatmap": [
           {
            "colorbar": {
             "outlinewidth": 0,
             "ticks": ""
            },
            "colorscale": [
             [
              0,
              "#0d0887"
             ],
             [
              0.1111111111111111,
              "#46039f"
             ],
             [
              0.2222222222222222,
              "#7201a8"
             ],
             [
              0.3333333333333333,
              "#9c179e"
             ],
             [
              0.4444444444444444,
              "#bd3786"
             ],
             [
              0.5555555555555556,
              "#d8576b"
             ],
             [
              0.6666666666666666,
              "#ed7953"
             ],
             [
              0.7777777777777778,
              "#fb9f3a"
             ],
             [
              0.8888888888888888,
              "#fdca26"
             ],
             [
              1,
              "#f0f921"
             ]
            ],
            "type": "heatmap"
           }
          ],
          "heatmapgl": [
           {
            "colorbar": {
             "outlinewidth": 0,
             "ticks": ""
            },
            "colorscale": [
             [
              0,
              "#0d0887"
             ],
             [
              0.1111111111111111,
              "#46039f"
             ],
             [
              0.2222222222222222,
              "#7201a8"
             ],
             [
              0.3333333333333333,
              "#9c179e"
             ],
             [
              0.4444444444444444,
              "#bd3786"
             ],
             [
              0.5555555555555556,
              "#d8576b"
             ],
             [
              0.6666666666666666,
              "#ed7953"
             ],
             [
              0.7777777777777778,
              "#fb9f3a"
             ],
             [
              0.8888888888888888,
              "#fdca26"
             ],
             [
              1,
              "#f0f921"
             ]
            ],
            "type": "heatmapgl"
           }
          ],
          "histogram": [
           {
            "marker": {
             "pattern": {
              "fillmode": "overlay",
              "size": 10,
              "solidity": 0.2
             }
            },
            "type": "histogram"
           }
          ],
          "histogram2d": [
           {
            "colorbar": {
             "outlinewidth": 0,
             "ticks": ""
            },
            "colorscale": [
             [
              0,
              "#0d0887"
             ],
             [
              0.1111111111111111,
              "#46039f"
             ],
             [
              0.2222222222222222,
              "#7201a8"
             ],
             [
              0.3333333333333333,
              "#9c179e"
             ],
             [
              0.4444444444444444,
              "#bd3786"
             ],
             [
              0.5555555555555556,
              "#d8576b"
             ],
             [
              0.6666666666666666,
              "#ed7953"
             ],
             [
              0.7777777777777778,
              "#fb9f3a"
             ],
             [
              0.8888888888888888,
              "#fdca26"
             ],
             [
              1,
              "#f0f921"
             ]
            ],
            "type": "histogram2d"
           }
          ],
          "histogram2dcontour": [
           {
            "colorbar": {
             "outlinewidth": 0,
             "ticks": ""
            },
            "colorscale": [
             [
              0,
              "#0d0887"
             ],
             [
              0.1111111111111111,
              "#46039f"
             ],
             [
              0.2222222222222222,
              "#7201a8"
             ],
             [
              0.3333333333333333,
              "#9c179e"
             ],
             [
              0.4444444444444444,
              "#bd3786"
             ],
             [
              0.5555555555555556,
              "#d8576b"
             ],
             [
              0.6666666666666666,
              "#ed7953"
             ],
             [
              0.7777777777777778,
              "#fb9f3a"
             ],
             [
              0.8888888888888888,
              "#fdca26"
             ],
             [
              1,
              "#f0f921"
             ]
            ],
            "type": "histogram2dcontour"
           }
          ],
          "mesh3d": [
           {
            "colorbar": {
             "outlinewidth": 0,
             "ticks": ""
            },
            "type": "mesh3d"
           }
          ],
          "parcoords": [
           {
            "line": {
             "colorbar": {
              "outlinewidth": 0,
              "ticks": ""
             }
            },
            "type": "parcoords"
           }
          ],
          "pie": [
           {
            "automargin": true,
            "type": "pie"
           }
          ],
          "scatter": [
           {
            "fillpattern": {
             "fillmode": "overlay",
             "size": 10,
             "solidity": 0.2
            },
            "type": "scatter"
           }
          ],
          "scatter3d": [
           {
            "line": {
             "colorbar": {
              "outlinewidth": 0,
              "ticks": ""
             }
            },
            "marker": {
             "colorbar": {
              "outlinewidth": 0,
              "ticks": ""
             }
            },
            "type": "scatter3d"
           }
          ],
          "scattercarpet": [
           {
            "marker": {
             "colorbar": {
              "outlinewidth": 0,
              "ticks": ""
             }
            },
            "type": "scattercarpet"
           }
          ],
          "scattergeo": [
           {
            "marker": {
             "colorbar": {
              "outlinewidth": 0,
              "ticks": ""
             }
            },
            "type": "scattergeo"
           }
          ],
          "scattergl": [
           {
            "marker": {
             "colorbar": {
              "outlinewidth": 0,
              "ticks": ""
             }
            },
            "type": "scattergl"
           }
          ],
          "scattermapbox": [
           {
            "marker": {
             "colorbar": {
              "outlinewidth": 0,
              "ticks": ""
             }
            },
            "type": "scattermapbox"
           }
          ],
          "scatterpolar": [
           {
            "marker": {
             "colorbar": {
              "outlinewidth": 0,
              "ticks": ""
             }
            },
            "type": "scatterpolar"
           }
          ],
          "scatterpolargl": [
           {
            "marker": {
             "colorbar": {
              "outlinewidth": 0,
              "ticks": ""
             }
            },
            "type": "scatterpolargl"
           }
          ],
          "scatterternary": [
           {
            "marker": {
             "colorbar": {
              "outlinewidth": 0,
              "ticks": ""
             }
            },
            "type": "scatterternary"
           }
          ],
          "surface": [
           {
            "colorbar": {
             "outlinewidth": 0,
             "ticks": ""
            },
            "colorscale": [
             [
              0,
              "#0d0887"
             ],
             [
              0.1111111111111111,
              "#46039f"
             ],
             [
              0.2222222222222222,
              "#7201a8"
             ],
             [
              0.3333333333333333,
              "#9c179e"
             ],
             [
              0.4444444444444444,
              "#bd3786"
             ],
             [
              0.5555555555555556,
              "#d8576b"
             ],
             [
              0.6666666666666666,
              "#ed7953"
             ],
             [
              0.7777777777777778,
              "#fb9f3a"
             ],
             [
              0.8888888888888888,
              "#fdca26"
             ],
             [
              1,
              "#f0f921"
             ]
            ],
            "type": "surface"
           }
          ],
          "table": [
           {
            "cells": {
             "fill": {
              "color": "#EBF0F8"
             },
             "line": {
              "color": "white"
             }
            },
            "header": {
             "fill": {
              "color": "#C8D4E3"
             },
             "line": {
              "color": "white"
             }
            },
            "type": "table"
           }
          ]
         },
         "layout": {
          "annotationdefaults": {
           "arrowcolor": "#2a3f5f",
           "arrowhead": 0,
           "arrowwidth": 1
          },
          "autotypenumbers": "strict",
          "coloraxis": {
           "colorbar": {
            "outlinewidth": 0,
            "ticks": ""
           }
          },
          "colorscale": {
           "diverging": [
            [
             0,
             "#8e0152"
            ],
            [
             0.1,
             "#c51b7d"
            ],
            [
             0.2,
             "#de77ae"
            ],
            [
             0.3,
             "#f1b6da"
            ],
            [
             0.4,
             "#fde0ef"
            ],
            [
             0.5,
             "#f7f7f7"
            ],
            [
             0.6,
             "#e6f5d0"
            ],
            [
             0.7,
             "#b8e186"
            ],
            [
             0.8,
             "#7fbc41"
            ],
            [
             0.9,
             "#4d9221"
            ],
            [
             1,
             "#276419"
            ]
           ],
           "sequential": [
            [
             0,
             "#0d0887"
            ],
            [
             0.1111111111111111,
             "#46039f"
            ],
            [
             0.2222222222222222,
             "#7201a8"
            ],
            [
             0.3333333333333333,
             "#9c179e"
            ],
            [
             0.4444444444444444,
             "#bd3786"
            ],
            [
             0.5555555555555556,
             "#d8576b"
            ],
            [
             0.6666666666666666,
             "#ed7953"
            ],
            [
             0.7777777777777778,
             "#fb9f3a"
            ],
            [
             0.8888888888888888,
             "#fdca26"
            ],
            [
             1,
             "#f0f921"
            ]
           ],
           "sequentialminus": [
            [
             0,
             "#0d0887"
            ],
            [
             0.1111111111111111,
             "#46039f"
            ],
            [
             0.2222222222222222,
             "#7201a8"
            ],
            [
             0.3333333333333333,
             "#9c179e"
            ],
            [
             0.4444444444444444,
             "#bd3786"
            ],
            [
             0.5555555555555556,
             "#d8576b"
            ],
            [
             0.6666666666666666,
             "#ed7953"
            ],
            [
             0.7777777777777778,
             "#fb9f3a"
            ],
            [
             0.8888888888888888,
             "#fdca26"
            ],
            [
             1,
             "#f0f921"
            ]
           ]
          },
          "colorway": [
           "#636efa",
           "#EF553B",
           "#00cc96",
           "#ab63fa",
           "#FFA15A",
           "#19d3f3",
           "#FF6692",
           "#B6E880",
           "#FF97FF",
           "#FECB52"
          ],
          "font": {
           "color": "#2a3f5f"
          },
          "geo": {
           "bgcolor": "white",
           "lakecolor": "white",
           "landcolor": "#E5ECF6",
           "showlakes": true,
           "showland": true,
           "subunitcolor": "white"
          },
          "hoverlabel": {
           "align": "left"
          },
          "hovermode": "closest",
          "mapbox": {
           "style": "light"
          },
          "paper_bgcolor": "white",
          "plot_bgcolor": "#E5ECF6",
          "polar": {
           "angularaxis": {
            "gridcolor": "white",
            "linecolor": "white",
            "ticks": ""
           },
           "bgcolor": "#E5ECF6",
           "radialaxis": {
            "gridcolor": "white",
            "linecolor": "white",
            "ticks": ""
           }
          },
          "scene": {
           "xaxis": {
            "backgroundcolor": "#E5ECF6",
            "gridcolor": "white",
            "gridwidth": 2,
            "linecolor": "white",
            "showbackground": true,
            "ticks": "",
            "zerolinecolor": "white"
           },
           "yaxis": {
            "backgroundcolor": "#E5ECF6",
            "gridcolor": "white",
            "gridwidth": 2,
            "linecolor": "white",
            "showbackground": true,
            "ticks": "",
            "zerolinecolor": "white"
           },
           "zaxis": {
            "backgroundcolor": "#E5ECF6",
            "gridcolor": "white",
            "gridwidth": 2,
            "linecolor": "white",
            "showbackground": true,
            "ticks": "",
            "zerolinecolor": "white"
           }
          },
          "shapedefaults": {
           "line": {
            "color": "#2a3f5f"
           }
          },
          "ternary": {
           "aaxis": {
            "gridcolor": "white",
            "linecolor": "white",
            "ticks": ""
           },
           "baxis": {
            "gridcolor": "white",
            "linecolor": "white",
            "ticks": ""
           },
           "bgcolor": "#E5ECF6",
           "caxis": {
            "gridcolor": "white",
            "linecolor": "white",
            "ticks": ""
           }
          },
          "title": {
           "x": 0.05
          },
          "xaxis": {
           "automargin": true,
           "gridcolor": "white",
           "linecolor": "white",
           "ticks": "",
           "title": {
            "standoff": 15
           },
           "zerolinecolor": "white",
           "zerolinewidth": 2
          },
          "yaxis": {
           "automargin": true,
           "gridcolor": "white",
           "linecolor": "white",
           "ticks": "",
           "title": {
            "standoff": 15
           },
           "zerolinecolor": "white",
           "zerolinewidth": 2
          }
         }
        },
        "title": {
         "text": "Correlation Matrix"
        },
        "xaxis": {
         "title": {
          "text": "Region"
         }
        },
        "yaxis": {
         "title": {
          "text": "Region"
         }
        }
       }
      },
      "text/html": [
       "<div>                            <div id=\"1174e7bf-8169-41a2-b947-10a9035878c4\" class=\"plotly-graph-div\" style=\"height:525px; width:100%;\"></div>            <script type=\"text/javascript\">                require([\"plotly\"], function(Plotly) {                    window.PLOTLYENV=window.PLOTLYENV || {};                                    if (document.getElementById(\"1174e7bf-8169-41a2-b947-10a9035878c4\")) {                    Plotly.newPlot(                        \"1174e7bf-8169-41a2-b947-10a9035878c4\",                        [{\"colorbar\":{\"title\":{\"text\":\"Correlation\"}},\"colorscale\":[[0.0,\"rgb(103,0,31)\"],[0.1,\"rgb(178,24,43)\"],[0.2,\"rgb(214,96,77)\"],[0.3,\"rgb(244,165,130)\"],[0.4,\"rgb(253,219,199)\"],[0.5,\"rgb(247,247,247)\"],[0.6,\"rgb(209,229,240)\"],[0.7,\"rgb(146,197,222)\"],[0.8,\"rgb(67,147,195)\"],[0.9,\"rgb(33,102,172)\"],[1.0,\"rgb(5,48,97)\"]],\"x\":[\"region_1\",\"region_2\",\"region_3\",\"region_4\",\"region_5\",\"region_6\",\"region_7\",\"region_8\"],\"y\":[\"region_1\",\"region_2\",\"region_3\",\"region_4\",\"region_5\",\"region_6\",\"region_7\",\"region_8\"],\"z\":[[1.0,-0.06845584352881078,-0.254037170543084,-0.6889386437607067,-0.17296075251190088,0.3608793472982205,0.22658040381914657,-0.543311018427721],[-0.06845584352881078,1.0,0.28913638234954736,0.13517210430509685,-0.30299104531568116,-0.003219635686882542,0.04620079201949864,0.165352600634705],[-0.254037170543084,0.28913638234954736,1.0,0.13261571821235135,-0.43921665977101393,-0.1447889099343326,-0.08198897691231682,0.2830025016462213],[-0.6889386437607067,0.13517210430509685,0.13261571821235135,1.0,0.1409802574770119,-0.07366787787912783,-0.015726733784975553,0.743572223054782],[-0.17296075251190088,-0.30299104531568116,-0.43921665977101393,0.1409802574770119,1.0,0.11337998780841742,0.062480114790227435,0.04084144482883529],[0.3608793472982205,-0.003219635686882542,-0.1447889099343326,-0.07366787787912783,0.11337998780841742,1.0,-0.0073742021774929915,-0.13508826103437163],[0.22658040381914657,0.04620079201949864,-0.08198897691231682,-0.015726733784975553,0.062480114790227435,-0.0073742021774929915,1.0,0.2761118648981361],[-0.543311018427721,0.165352600634705,0.2830025016462213,0.743572223054782,0.04084144482883529,-0.13508826103437163,0.2761118648981361,1.0]],\"zmax\":1,\"zmin\":-1,\"type\":\"heatmap\"}],                        {\"title\":{\"text\":\"Correlation Matrix\"},\"xaxis\":{\"title\":{\"text\":\"Region\"}},\"yaxis\":{\"title\":{\"text\":\"Region\"}},\"template\":{\"data\":{\"histogram2dcontour\":[{\"type\":\"histogram2dcontour\",\"colorbar\":{\"outlinewidth\":0,\"ticks\":\"\"},\"colorscale\":[[0.0,\"#0d0887\"],[0.1111111111111111,\"#46039f\"],[0.2222222222222222,\"#7201a8\"],[0.3333333333333333,\"#9c179e\"],[0.4444444444444444,\"#bd3786\"],[0.5555555555555556,\"#d8576b\"],[0.6666666666666666,\"#ed7953\"],[0.7777777777777778,\"#fb9f3a\"],[0.8888888888888888,\"#fdca26\"],[1.0,\"#f0f921\"]]}],\"choropleth\":[{\"type\":\"choropleth\",\"colorbar\":{\"outlinewidth\":0,\"ticks\":\"\"}}],\"histogram2d\":[{\"type\":\"histogram2d\",\"colorbar\":{\"outlinewidth\":0,\"ticks\":\"\"},\"colorscale\":[[0.0,\"#0d0887\"],[0.1111111111111111,\"#46039f\"],[0.2222222222222222,\"#7201a8\"],[0.3333333333333333,\"#9c179e\"],[0.4444444444444444,\"#bd3786\"],[0.5555555555555556,\"#d8576b\"],[0.6666666666666666,\"#ed7953\"],[0.7777777777777778,\"#fb9f3a\"],[0.8888888888888888,\"#fdca26\"],[1.0,\"#f0f921\"]]}],\"heatmap\":[{\"type\":\"heatmap\",\"colorbar\":{\"outlinewidth\":0,\"ticks\":\"\"},\"colorscale\":[[0.0,\"#0d0887\"],[0.1111111111111111,\"#46039f\"],[0.2222222222222222,\"#7201a8\"],[0.3333333333333333,\"#9c179e\"],[0.4444444444444444,\"#bd3786\"],[0.5555555555555556,\"#d8576b\"],[0.6666666666666666,\"#ed7953\"],[0.7777777777777778,\"#fb9f3a\"],[0.8888888888888888,\"#fdca26\"],[1.0,\"#f0f921\"]]}],\"heatmapgl\":[{\"type\":\"heatmapgl\",\"colorbar\":{\"outlinewidth\":0,\"ticks\":\"\"},\"colorscale\":[[0.0,\"#0d0887\"],[0.1111111111111111,\"#46039f\"],[0.2222222222222222,\"#7201a8\"],[0.3333333333333333,\"#9c179e\"],[0.4444444444444444,\"#bd3786\"],[0.5555555555555556,\"#d8576b\"],[0.6666666666666666,\"#ed7953\"],[0.7777777777777778,\"#fb9f3a\"],[0.8888888888888888,\"#fdca26\"],[1.0,\"#f0f921\"]]}],\"contourcarpet\":[{\"type\":\"contourcarpet\",\"colorbar\":{\"outlinewidth\":0,\"ticks\":\"\"}}],\"contour\":[{\"type\":\"contour\",\"colorbar\":{\"outlinewidth\":0,\"ticks\":\"\"},\"colorscale\":[[0.0,\"#0d0887\"],[0.1111111111111111,\"#46039f\"],[0.2222222222222222,\"#7201a8\"],[0.3333333333333333,\"#9c179e\"],[0.4444444444444444,\"#bd3786\"],[0.5555555555555556,\"#d8576b\"],[0.6666666666666666,\"#ed7953\"],[0.7777777777777778,\"#fb9f3a\"],[0.8888888888888888,\"#fdca26\"],[1.0,\"#f0f921\"]]}],\"surface\":[{\"type\":\"surface\",\"colorbar\":{\"outlinewidth\":0,\"ticks\":\"\"},\"colorscale\":[[0.0,\"#0d0887\"],[0.1111111111111111,\"#46039f\"],[0.2222222222222222,\"#7201a8\"],[0.3333333333333333,\"#9c179e\"],[0.4444444444444444,\"#bd3786\"],[0.5555555555555556,\"#d8576b\"],[0.6666666666666666,\"#ed7953\"],[0.7777777777777778,\"#fb9f3a\"],[0.8888888888888888,\"#fdca26\"],[1.0,\"#f0f921\"]]}],\"mesh3d\":[{\"type\":\"mesh3d\",\"colorbar\":{\"outlinewidth\":0,\"ticks\":\"\"}}],\"scatter\":[{\"fillpattern\":{\"fillmode\":\"overlay\",\"size\":10,\"solidity\":0.2},\"type\":\"scatter\"}],\"parcoords\":[{\"type\":\"parcoords\",\"line\":{\"colorbar\":{\"outlinewidth\":0,\"ticks\":\"\"}}}],\"scatterpolargl\":[{\"type\":\"scatterpolargl\",\"marker\":{\"colorbar\":{\"outlinewidth\":0,\"ticks\":\"\"}}}],\"bar\":[{\"error_x\":{\"color\":\"#2a3f5f\"},\"error_y\":{\"color\":\"#2a3f5f\"},\"marker\":{\"line\":{\"color\":\"#E5ECF6\",\"width\":0.5},\"pattern\":{\"fillmode\":\"overlay\",\"size\":10,\"solidity\":0.2}},\"type\":\"bar\"}],\"scattergeo\":[{\"type\":\"scattergeo\",\"marker\":{\"colorbar\":{\"outlinewidth\":0,\"ticks\":\"\"}}}],\"scatterpolar\":[{\"type\":\"scatterpolar\",\"marker\":{\"colorbar\":{\"outlinewidth\":0,\"ticks\":\"\"}}}],\"histogram\":[{\"marker\":{\"pattern\":{\"fillmode\":\"overlay\",\"size\":10,\"solidity\":0.2}},\"type\":\"histogram\"}],\"scattergl\":[{\"type\":\"scattergl\",\"marker\":{\"colorbar\":{\"outlinewidth\":0,\"ticks\":\"\"}}}],\"scatter3d\":[{\"type\":\"scatter3d\",\"line\":{\"colorbar\":{\"outlinewidth\":0,\"ticks\":\"\"}},\"marker\":{\"colorbar\":{\"outlinewidth\":0,\"ticks\":\"\"}}}],\"scattermapbox\":[{\"type\":\"scattermapbox\",\"marker\":{\"colorbar\":{\"outlinewidth\":0,\"ticks\":\"\"}}}],\"scatterternary\":[{\"type\":\"scatterternary\",\"marker\":{\"colorbar\":{\"outlinewidth\":0,\"ticks\":\"\"}}}],\"scattercarpet\":[{\"type\":\"scattercarpet\",\"marker\":{\"colorbar\":{\"outlinewidth\":0,\"ticks\":\"\"}}}],\"carpet\":[{\"aaxis\":{\"endlinecolor\":\"#2a3f5f\",\"gridcolor\":\"white\",\"linecolor\":\"white\",\"minorgridcolor\":\"white\",\"startlinecolor\":\"#2a3f5f\"},\"baxis\":{\"endlinecolor\":\"#2a3f5f\",\"gridcolor\":\"white\",\"linecolor\":\"white\",\"minorgridcolor\":\"white\",\"startlinecolor\":\"#2a3f5f\"},\"type\":\"carpet\"}],\"table\":[{\"cells\":{\"fill\":{\"color\":\"#EBF0F8\"},\"line\":{\"color\":\"white\"}},\"header\":{\"fill\":{\"color\":\"#C8D4E3\"},\"line\":{\"color\":\"white\"}},\"type\":\"table\"}],\"barpolar\":[{\"marker\":{\"line\":{\"color\":\"#E5ECF6\",\"width\":0.5},\"pattern\":{\"fillmode\":\"overlay\",\"size\":10,\"solidity\":0.2}},\"type\":\"barpolar\"}],\"pie\":[{\"automargin\":true,\"type\":\"pie\"}]},\"layout\":{\"autotypenumbers\":\"strict\",\"colorway\":[\"#636efa\",\"#EF553B\",\"#00cc96\",\"#ab63fa\",\"#FFA15A\",\"#19d3f3\",\"#FF6692\",\"#B6E880\",\"#FF97FF\",\"#FECB52\"],\"font\":{\"color\":\"#2a3f5f\"},\"hovermode\":\"closest\",\"hoverlabel\":{\"align\":\"left\"},\"paper_bgcolor\":\"white\",\"plot_bgcolor\":\"#E5ECF6\",\"polar\":{\"bgcolor\":\"#E5ECF6\",\"angularaxis\":{\"gridcolor\":\"white\",\"linecolor\":\"white\",\"ticks\":\"\"},\"radialaxis\":{\"gridcolor\":\"white\",\"linecolor\":\"white\",\"ticks\":\"\"}},\"ternary\":{\"bgcolor\":\"#E5ECF6\",\"aaxis\":{\"gridcolor\":\"white\",\"linecolor\":\"white\",\"ticks\":\"\"},\"baxis\":{\"gridcolor\":\"white\",\"linecolor\":\"white\",\"ticks\":\"\"},\"caxis\":{\"gridcolor\":\"white\",\"linecolor\":\"white\",\"ticks\":\"\"}},\"coloraxis\":{\"colorbar\":{\"outlinewidth\":0,\"ticks\":\"\"}},\"colorscale\":{\"sequential\":[[0.0,\"#0d0887\"],[0.1111111111111111,\"#46039f\"],[0.2222222222222222,\"#7201a8\"],[0.3333333333333333,\"#9c179e\"],[0.4444444444444444,\"#bd3786\"],[0.5555555555555556,\"#d8576b\"],[0.6666666666666666,\"#ed7953\"],[0.7777777777777778,\"#fb9f3a\"],[0.8888888888888888,\"#fdca26\"],[1.0,\"#f0f921\"]],\"sequentialminus\":[[0.0,\"#0d0887\"],[0.1111111111111111,\"#46039f\"],[0.2222222222222222,\"#7201a8\"],[0.3333333333333333,\"#9c179e\"],[0.4444444444444444,\"#bd3786\"],[0.5555555555555556,\"#d8576b\"],[0.6666666666666666,\"#ed7953\"],[0.7777777777777778,\"#fb9f3a\"],[0.8888888888888888,\"#fdca26\"],[1.0,\"#f0f921\"]],\"diverging\":[[0,\"#8e0152\"],[0.1,\"#c51b7d\"],[0.2,\"#de77ae\"],[0.3,\"#f1b6da\"],[0.4,\"#fde0ef\"],[0.5,\"#f7f7f7\"],[0.6,\"#e6f5d0\"],[0.7,\"#b8e186\"],[0.8,\"#7fbc41\"],[0.9,\"#4d9221\"],[1,\"#276419\"]]},\"xaxis\":{\"gridcolor\":\"white\",\"linecolor\":\"white\",\"ticks\":\"\",\"title\":{\"standoff\":15},\"zerolinecolor\":\"white\",\"automargin\":true,\"zerolinewidth\":2},\"yaxis\":{\"gridcolor\":\"white\",\"linecolor\":\"white\",\"ticks\":\"\",\"title\":{\"standoff\":15},\"zerolinecolor\":\"white\",\"automargin\":true,\"zerolinewidth\":2},\"scene\":{\"xaxis\":{\"backgroundcolor\":\"#E5ECF6\",\"gridcolor\":\"white\",\"linecolor\":\"white\",\"showbackground\":true,\"ticks\":\"\",\"zerolinecolor\":\"white\",\"gridwidth\":2},\"yaxis\":{\"backgroundcolor\":\"#E5ECF6\",\"gridcolor\":\"white\",\"linecolor\":\"white\",\"showbackground\":true,\"ticks\":\"\",\"zerolinecolor\":\"white\",\"gridwidth\":2},\"zaxis\":{\"backgroundcolor\":\"#E5ECF6\",\"gridcolor\":\"white\",\"linecolor\":\"white\",\"showbackground\":true,\"ticks\":\"\",\"zerolinecolor\":\"white\",\"gridwidth\":2}},\"shapedefaults\":{\"line\":{\"color\":\"#2a3f5f\"}},\"annotationdefaults\":{\"arrowcolor\":\"#2a3f5f\",\"arrowhead\":0,\"arrowwidth\":1},\"geo\":{\"bgcolor\":\"white\",\"landcolor\":\"#E5ECF6\",\"subunitcolor\":\"white\",\"showland\":true,\"showlakes\":true,\"lakecolor\":\"white\"},\"title\":{\"x\":0.05},\"mapbox\":{\"style\":\"light\"}}},\"annotations\":[{\"font\":{\"size\":14},\"showarrow\":false,\"text\":\"1.0\",\"x\":\"region_1\",\"y\":\"region_1\"},{\"font\":{\"size\":14},\"showarrow\":false,\"text\":\"-0.07\",\"x\":\"region_2\",\"y\":\"region_1\"},{\"font\":{\"size\":14},\"showarrow\":false,\"text\":\"-0.25\",\"x\":\"region_3\",\"y\":\"region_1\"},{\"font\":{\"size\":14},\"showarrow\":false,\"text\":\"-0.69\",\"x\":\"region_4\",\"y\":\"region_1\"},{\"font\":{\"size\":14},\"showarrow\":false,\"text\":\"-0.17\",\"x\":\"region_5\",\"y\":\"region_1\"},{\"font\":{\"size\":14},\"showarrow\":false,\"text\":\"0.36\",\"x\":\"region_6\",\"y\":\"region_1\"},{\"font\":{\"size\":14},\"showarrow\":false,\"text\":\"0.23\",\"x\":\"region_7\",\"y\":\"region_1\"},{\"font\":{\"size\":14},\"showarrow\":false,\"text\":\"-0.54\",\"x\":\"region_8\",\"y\":\"region_1\"},{\"font\":{\"size\":14},\"showarrow\":false,\"text\":\"-0.07\",\"x\":\"region_1\",\"y\":\"region_2\"},{\"font\":{\"size\":14},\"showarrow\":false,\"text\":\"1.0\",\"x\":\"region_2\",\"y\":\"region_2\"},{\"font\":{\"size\":14},\"showarrow\":false,\"text\":\"0.29\",\"x\":\"region_3\",\"y\":\"region_2\"},{\"font\":{\"size\":14},\"showarrow\":false,\"text\":\"0.14\",\"x\":\"region_4\",\"y\":\"region_2\"},{\"font\":{\"size\":14},\"showarrow\":false,\"text\":\"-0.3\",\"x\":\"region_5\",\"y\":\"region_2\"},{\"font\":{\"size\":14},\"showarrow\":false,\"text\":\"-0.0\",\"x\":\"region_6\",\"y\":\"region_2\"},{\"font\":{\"size\":14},\"showarrow\":false,\"text\":\"0.05\",\"x\":\"region_7\",\"y\":\"region_2\"},{\"font\":{\"size\":14},\"showarrow\":false,\"text\":\"0.17\",\"x\":\"region_8\",\"y\":\"region_2\"},{\"font\":{\"size\":14},\"showarrow\":false,\"text\":\"-0.25\",\"x\":\"region_1\",\"y\":\"region_3\"},{\"font\":{\"size\":14},\"showarrow\":false,\"text\":\"0.29\",\"x\":\"region_2\",\"y\":\"region_3\"},{\"font\":{\"size\":14},\"showarrow\":false,\"text\":\"1.0\",\"x\":\"region_3\",\"y\":\"region_3\"},{\"font\":{\"size\":14},\"showarrow\":false,\"text\":\"0.13\",\"x\":\"region_4\",\"y\":\"region_3\"},{\"font\":{\"size\":14},\"showarrow\":false,\"text\":\"-0.44\",\"x\":\"region_5\",\"y\":\"region_3\"},{\"font\":{\"size\":14},\"showarrow\":false,\"text\":\"-0.14\",\"x\":\"region_6\",\"y\":\"region_3\"},{\"font\":{\"size\":14},\"showarrow\":false,\"text\":\"-0.08\",\"x\":\"region_7\",\"y\":\"region_3\"},{\"font\":{\"size\":14},\"showarrow\":false,\"text\":\"0.28\",\"x\":\"region_8\",\"y\":\"region_3\"},{\"font\":{\"size\":14},\"showarrow\":false,\"text\":\"-0.69\",\"x\":\"region_1\",\"y\":\"region_4\"},{\"font\":{\"size\":14},\"showarrow\":false,\"text\":\"0.14\",\"x\":\"region_2\",\"y\":\"region_4\"},{\"font\":{\"size\":14},\"showarrow\":false,\"text\":\"0.13\",\"x\":\"region_3\",\"y\":\"region_4\"},{\"font\":{\"size\":14},\"showarrow\":false,\"text\":\"1.0\",\"x\":\"region_4\",\"y\":\"region_4\"},{\"font\":{\"size\":14},\"showarrow\":false,\"text\":\"0.14\",\"x\":\"region_5\",\"y\":\"region_4\"},{\"font\":{\"size\":14},\"showarrow\":false,\"text\":\"-0.07\",\"x\":\"region_6\",\"y\":\"region_4\"},{\"font\":{\"size\":14},\"showarrow\":false,\"text\":\"-0.02\",\"x\":\"region_7\",\"y\":\"region_4\"},{\"font\":{\"size\":14},\"showarrow\":false,\"text\":\"0.74\",\"x\":\"region_8\",\"y\":\"region_4\"},{\"font\":{\"size\":14},\"showarrow\":false,\"text\":\"-0.17\",\"x\":\"region_1\",\"y\":\"region_5\"},{\"font\":{\"size\":14},\"showarrow\":false,\"text\":\"-0.3\",\"x\":\"region_2\",\"y\":\"region_5\"},{\"font\":{\"size\":14},\"showarrow\":false,\"text\":\"-0.44\",\"x\":\"region_3\",\"y\":\"region_5\"},{\"font\":{\"size\":14},\"showarrow\":false,\"text\":\"0.14\",\"x\":\"region_4\",\"y\":\"region_5\"},{\"font\":{\"size\":14},\"showarrow\":false,\"text\":\"1.0\",\"x\":\"region_5\",\"y\":\"region_5\"},{\"font\":{\"size\":14},\"showarrow\":false,\"text\":\"0.11\",\"x\":\"region_6\",\"y\":\"region_5\"},{\"font\":{\"size\":14},\"showarrow\":false,\"text\":\"0.06\",\"x\":\"region_7\",\"y\":\"region_5\"},{\"font\":{\"size\":14},\"showarrow\":false,\"text\":\"0.04\",\"x\":\"region_8\",\"y\":\"region_5\"},{\"font\":{\"size\":14},\"showarrow\":false,\"text\":\"0.36\",\"x\":\"region_1\",\"y\":\"region_6\"},{\"font\":{\"size\":14},\"showarrow\":false,\"text\":\"-0.0\",\"x\":\"region_2\",\"y\":\"region_6\"},{\"font\":{\"size\":14},\"showarrow\":false,\"text\":\"-0.14\",\"x\":\"region_3\",\"y\":\"region_6\"},{\"font\":{\"size\":14},\"showarrow\":false,\"text\":\"-0.07\",\"x\":\"region_4\",\"y\":\"region_6\"},{\"font\":{\"size\":14},\"showarrow\":false,\"text\":\"0.11\",\"x\":\"region_5\",\"y\":\"region_6\"},{\"font\":{\"size\":14},\"showarrow\":false,\"text\":\"1.0\",\"x\":\"region_6\",\"y\":\"region_6\"},{\"font\":{\"size\":14},\"showarrow\":false,\"text\":\"-0.01\",\"x\":\"region_7\",\"y\":\"region_6\"},{\"font\":{\"size\":14},\"showarrow\":false,\"text\":\"-0.14\",\"x\":\"region_8\",\"y\":\"region_6\"},{\"font\":{\"size\":14},\"showarrow\":false,\"text\":\"0.23\",\"x\":\"region_1\",\"y\":\"region_7\"},{\"font\":{\"size\":14},\"showarrow\":false,\"text\":\"0.05\",\"x\":\"region_2\",\"y\":\"region_7\"},{\"font\":{\"size\":14},\"showarrow\":false,\"text\":\"-0.08\",\"x\":\"region_3\",\"y\":\"region_7\"},{\"font\":{\"size\":14},\"showarrow\":false,\"text\":\"-0.02\",\"x\":\"region_4\",\"y\":\"region_7\"},{\"font\":{\"size\":14},\"showarrow\":false,\"text\":\"0.06\",\"x\":\"region_5\",\"y\":\"region_7\"},{\"font\":{\"size\":14},\"showarrow\":false,\"text\":\"-0.01\",\"x\":\"region_6\",\"y\":\"region_7\"},{\"font\":{\"size\":14},\"showarrow\":false,\"text\":\"1.0\",\"x\":\"region_7\",\"y\":\"region_7\"},{\"font\":{\"size\":14},\"showarrow\":false,\"text\":\"0.28\",\"x\":\"region_8\",\"y\":\"region_7\"},{\"font\":{\"size\":14},\"showarrow\":false,\"text\":\"-0.54\",\"x\":\"region_1\",\"y\":\"region_8\"},{\"font\":{\"size\":14},\"showarrow\":false,\"text\":\"0.17\",\"x\":\"region_2\",\"y\":\"region_8\"},{\"font\":{\"size\":14},\"showarrow\":false,\"text\":\"0.28\",\"x\":\"region_3\",\"y\":\"region_8\"},{\"font\":{\"size\":14},\"showarrow\":false,\"text\":\"0.74\",\"x\":\"region_4\",\"y\":\"region_8\"},{\"font\":{\"size\":14},\"showarrow\":false,\"text\":\"0.04\",\"x\":\"region_5\",\"y\":\"region_8\"},{\"font\":{\"size\":14},\"showarrow\":false,\"text\":\"-0.14\",\"x\":\"region_6\",\"y\":\"region_8\"},{\"font\":{\"size\":14},\"showarrow\":false,\"text\":\"0.28\",\"x\":\"region_7\",\"y\":\"region_8\"},{\"font\":{\"size\":14},\"showarrow\":false,\"text\":\"1.0\",\"x\":\"region_8\",\"y\":\"region_8\"}]},                        {\"responsive\": true}                    ).then(function(){\n",
       "                            \n",
       "var gd = document.getElementById('1174e7bf-8169-41a2-b947-10a9035878c4');\n",
       "var x = new MutationObserver(function (mutations, observer) {{\n",
       "        var display = window.getComputedStyle(gd).display;\n",
       "        if (!display || display === 'none') {{\n",
       "            console.log([gd, 'removed!']);\n",
       "            Plotly.purge(gd);\n",
       "            observer.disconnect();\n",
       "        }}\n",
       "}});\n",
       "\n",
       "// Listen for the removal of the full notebook cells\n",
       "var notebookContainer = gd.closest('#notebook-container');\n",
       "if (notebookContainer) {{\n",
       "    x.observe(notebookContainer, {childList: true});\n",
       "}}\n",
       "\n",
       "// Listen for the clearing of the current output cell\n",
       "var outputEl = gd.closest('.output');\n",
       "if (outputEl) {{\n",
       "    x.observe(outputEl, {childList: true});\n",
       "}}\n",
       "\n",
       "                        })                };                });            </script>        </div>"
      ]
     },
     "metadata": {},
     "output_type": "display_data"
    }
   ],
   "source": [
    "import pandas as pd\n",
    "import plotly.graph_objects as go\n",
    "\n",
    "# 读取数据\n",
    "df = pd.read_excel('数据文件.xls')\n",
    "# 删除day列\n",
    "df = df.drop('day', axis=1)\n",
    "\n",
    "# 计算每个虚拟区域的相关性系数\n",
    "corr_matrix = df.corr()\n",
    "\n",
    "# 创建热图数据\n",
    "data = [go.Heatmap(z=corr_matrix.values.tolist(), x=corr_matrix.columns, y=corr_matrix.index, colorscale='RdBu', zmin=-1, zmax=1, colorbar=dict(title='Correlation'))]\n",
    "\n",
    "# 设置图表标题和布局\n",
    "layout = go.Layout(title='Correlation Matrix', xaxis=dict(title='Region'), yaxis=dict(title='Region'))\n",
    "\n",
    "# 绘制热图\n",
    "fig = go.Figure(data=data, layout=layout)\n",
    "annotations = []\n",
    "for i, row in enumerate(corr_matrix.index):\n",
    "    for j, col in enumerate(corr_matrix.columns):\n",
    "        annotations.append(dict(x=col, y=row, text=str(round(corr_matrix.iloc[i, j], 2)), showarrow=False, font=dict(size=14)))\n",
    "fig.update_layout(annotations=annotations)\n",
    "fig.show()\n",
    "\n"
   ]
  },
  {
   "cell_type": "code",
   "execution_count": null,
   "metadata": {},
   "outputs": [],
   "source": []
  }
 ],
 "metadata": {
  "kernelspec": {
   "display_name": "Python 3 (ipykernel)",
   "language": "python",
   "name": "python3"
  },
  "language_info": {
   "codemirror_mode": {
    "name": "ipython",
    "version": 3
   },
   "file_extension": ".py",
   "mimetype": "text/x-python",
   "name": "python",
   "nbconvert_exporter": "python",
   "pygments_lexer": "ipython3",
   "version": "3.8.13"
  }
 },
 "nbformat": 4,
 "nbformat_minor": 1
}